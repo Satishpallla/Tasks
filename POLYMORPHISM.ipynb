{
 "cells": [
  {
   "cell_type": "markdown",
   "id": "ae213dcb",
   "metadata": {},
   "source": [
    "# Polymorphism"
   ]
  },
  {
   "cell_type": "markdown",
   "id": "b9795d22",
   "metadata": {},
   "source": [
    "* The word polymorphism means having many forms. In programming, polymorphism means the same function name (but different signatures) being used for different types. The key difference is the data types and number of arguments used in function.\n",
    "\n",
    "\n",
    "* poly means many\n",
    "\n",
    "\n",
    "* overloading\n",
    "     * method overloading (vanilla python doesn't supports this)\n",
    "     * constructor overloading (vanilla python doesn't supports this)\n",
    "     * operator overloading\n",
    "     \n",
    "     \n",
    "* overriding\n",
    "     * method overriding\n",
    "     * constructor overriding"
   ]
  },
  {
   "cell_type": "markdown",
   "id": "110c2543",
   "metadata": {},
   "source": [
    "![](https://camo.githubusercontent.com/724d0ab3163936d52d84cf4e5b9e5ba9f9ac089f3411f9cee0fc8888bcf05e3f/68747470733a2f2f6d656469612e6765656b73666f726765656b732e6f72672f77702d636f6e74656e742f75706c6f6164732f32303230303930373133353833372f706f6c792e504e47)"
   ]
  },
  {
   "cell_type": "markdown",
   "id": "cc3233a3",
   "metadata": {},
   "source": [
    "# Method over-riding"
   ]
  },
  {
   "cell_type": "markdown",
   "id": "f741ec68",
   "metadata": {},
   "source": [
    "* Method overriding is an ability of any object-oriented programming language that allows a subclass or child class to provide a specific implementation of a method that is already provided by one of its super-classes or parent classes. When a method in a subclass has the same name, same parameters or signature and same return type(or sub-type) as a method in its super-class, then the method in the subclass is said to override the method in the super-class"
   ]
  },
  {
   "cell_type": "code",
   "execution_count": 1,
   "id": "0a7ae7cc",
   "metadata": {},
   "outputs": [],
   "source": [
    "class fooClass:\n",
    "    def __init__(self,a,b):\n",
    "        self.a = a\n",
    "        self.b = b\n",
    "    def foo(self):\n",
    "        print('Hello')"
   ]
  },
  {
   "cell_type": "code",
   "execution_count": 2,
   "id": "d5bed0a2",
   "metadata": {},
   "outputs": [],
   "source": [
    "x = fooClass(5,10)"
   ]
  },
  {
   "cell_type": "code",
   "execution_count": 3,
   "id": "2184c098",
   "metadata": {},
   "outputs": [
    {
     "name": "stdout",
     "output_type": "stream",
     "text": [
      "Hello\n"
     ]
    }
   ],
   "source": [
    "x.foo()"
   ]
  },
  {
   "cell_type": "markdown",
   "id": "bb36acb8",
   "metadata": {},
   "source": [
    "### Constructor and Method over-riding"
   ]
  },
  {
   "cell_type": "code",
   "execution_count": 4,
   "id": "525ae88d",
   "metadata": {},
   "outputs": [],
   "source": [
    "class fooClass:\n",
    "    def __init__(self,a,b):\n",
    "        self.a = a\n",
    "        self.b = b\n",
    "        \n",
    "    def __init__(self,a,b,c,d):                # constructor\n",
    "        self.m = a+b\n",
    "        self.n = c-d\n",
    "        \n",
    "    def foo(self):                             # method\n",
    "        print('hello')\n",
    "        \n",
    "    def foo(self):\n",
    "        print('Good mrng')"
   ]
  },
  {
   "cell_type": "code",
   "execution_count": 5,
   "id": "8913c50b",
   "metadata": {},
   "outputs": [],
   "source": [
    "x = fooClass(5,10,10,5)"
   ]
  },
  {
   "cell_type": "code",
   "execution_count": 6,
   "id": "9b8cc724",
   "metadata": {},
   "outputs": [
    {
     "name": "stdout",
     "output_type": "stream",
     "text": [
      "Good mrng\n"
     ]
    }
   ],
   "source": [
    "x.foo()"
   ]
  },
  {
   "cell_type": "markdown",
   "id": "fb355b80",
   "metadata": {},
   "source": [
    "### Constructor and method overriding using inheritance"
   ]
  },
  {
   "cell_type": "code",
   "execution_count": 7,
   "id": "a8ec711e",
   "metadata": {},
   "outputs": [],
   "source": [
    "class Xclass(fooClass):\n",
    "    def foo(self):\n",
    "        print('satish')"
   ]
  },
  {
   "cell_type": "code",
   "execution_count": 8,
   "id": "a2006344",
   "metadata": {},
   "outputs": [],
   "source": [
    "x = Xclass(10,5,10,5)"
   ]
  },
  {
   "cell_type": "code",
   "execution_count": 9,
   "id": "29dbbf85",
   "metadata": {},
   "outputs": [
    {
     "name": "stdout",
     "output_type": "stream",
     "text": [
      "satish\n"
     ]
    }
   ],
   "source": [
    "x.foo()"
   ]
  },
  {
   "cell_type": "markdown",
   "id": "6a629858",
   "metadata": {},
   "source": [
    "# Operator overloading"
   ]
  },
  {
   "cell_type": "markdown",
   "id": "baf7cf7b",
   "metadata": {},
   "source": [
    "* Operator Overloading means giving extended meaning beyond their predefined operational meaning. For example operator + is used to add two integers as well as join two strings and merge two lists. It is achievable because ‘+’ operator is overloaded by int class and str class. You might have noticed that the same built-in operator or function shows different behavior for objects of different classes, this is called Operator Overloading"
   ]
  },
  {
   "cell_type": "code",
   "execution_count": 10,
   "id": "c39861be",
   "metadata": {},
   "outputs": [],
   "source": [
    "class MyList:\n",
    "    def __init__(self,value):\n",
    "        self.val = value\n",
    "        \n",
    "    def __mul__(self,OtherMyList):\n",
    "        return[i * j for i,j in zip(self.val,OtherMyList.val)]"
   ]
  },
  {
   "cell_type": "code",
   "execution_count": 11,
   "id": "ec1b64b2",
   "metadata": {},
   "outputs": [],
   "source": [
    "x = MyList([1,2,3])\n",
    "y = MyList([4,5,6])"
   ]
  },
  {
   "cell_type": "code",
   "execution_count": 12,
   "id": "ab2ed1cf",
   "metadata": {},
   "outputs": [
    {
     "data": {
      "text/plain": [
       "[4, 10, 18]"
      ]
     },
     "execution_count": 12,
     "metadata": {},
     "output_type": "execute_result"
    }
   ],
   "source": [
    "x * y"
   ]
  },
  {
   "cell_type": "code",
   "execution_count": null,
   "id": "d13ba284",
   "metadata": {},
   "outputs": [],
   "source": []
  },
  {
   "cell_type": "code",
   "execution_count": 13,
   "id": "cbb3a9f9",
   "metadata": {},
   "outputs": [],
   "source": [
    "class foo:\n",
    "    def __init__(self,value):\n",
    "        self.value = value\n",
    "    \n",
    "    def __ge__(self, x,y):\n",
    "        return x,y"
   ]
  },
  {
   "cell_type": "code",
   "execution_count": 14,
   "id": "7d4a6ed1",
   "metadata": {},
   "outputs": [],
   "source": [
    "x = 20\n",
    "y = 30"
   ]
  },
  {
   "cell_type": "code",
   "execution_count": 15,
   "id": "59132dc8",
   "metadata": {},
   "outputs": [
    {
     "data": {
      "text/plain": [
       "True"
      ]
     },
     "execution_count": 15,
     "metadata": {},
     "output_type": "execute_result"
    }
   ],
   "source": [
    "x < y"
   ]
  },
  {
   "cell_type": "code",
   "execution_count": 16,
   "id": "e9f7efc7",
   "metadata": {},
   "outputs": [
    {
     "data": {
      "text/plain": [
       "False"
      ]
     },
     "execution_count": 16,
     "metadata": {},
     "output_type": "execute_result"
    }
   ],
   "source": [
    "x > y"
   ]
  },
  {
   "cell_type": "markdown",
   "id": "c5396b49",
   "metadata": {},
   "source": [
    "# Method over-loading"
   ]
  },
  {
   "cell_type": "markdown",
   "id": "a8e5e117",
   "metadata": {},
   "source": [
    "* Two or more methods have the same name but different numbers of parameters or different types of parameters, or both. These methods are called overloaded methods and this is called method overloading."
   ]
  },
  {
   "cell_type": "markdown",
   "id": "76d0ebda",
   "metadata": {},
   "source": [
    "## Multiple dispatch in Python"
   ]
  },
  {
   "cell_type": "markdown",
   "id": "d894938a",
   "metadata": {},
   "source": [
    "* Multiple dispatch (aka multimethods, generic functions, and function overloading) is choosing which among several function bodies to run, depending upon the arguments of a call."
   ]
  },
  {
   "cell_type": "code",
   "execution_count": 17,
   "id": "cf134f37",
   "metadata": {},
   "outputs": [],
   "source": [
    "import multipledispatch"
   ]
  },
  {
   "cell_type": "code",
   "execution_count": 18,
   "id": "7a60eef9",
   "metadata": {},
   "outputs": [],
   "source": [
    "from multipledispatch import dispatch"
   ]
  },
  {
   "cell_type": "code",
   "execution_count": 19,
   "id": "5014964d",
   "metadata": {},
   "outputs": [],
   "source": [
    "class MyClass:\n",
    "    def __init__(self,a,b):\n",
    "        self.a = a\n",
    "        self.b = b\n",
    "        \n",
    "    @dispatch(int,int)    \n",
    "    def foo(self,x,y):\n",
    "        return x+y\n",
    "    \n",
    "    @dispatch(set,set)\n",
    "    def foo(self,m,n):\n",
    "        return m.union(n)\n",
    "    \n",
    "    @dispatch(str,str)\n",
    "    def foo(self,m,n):\n",
    "        return m + n\n",
    "    \n",
    "    @dispatch(int,int,int)    \n",
    "    def foo(self,x,y,z):\n",
    "        return (x+y)//z\n",
    "    \n",
    "    "
   ]
  },
  {
   "cell_type": "code",
   "execution_count": 20,
   "id": "1eccebc3",
   "metadata": {},
   "outputs": [],
   "source": [
    "x = MyClass(5,10)"
   ]
  },
  {
   "cell_type": "code",
   "execution_count": 21,
   "id": "54159ae7",
   "metadata": {},
   "outputs": [
    {
     "data": {
      "text/plain": [
       "5"
      ]
     },
     "execution_count": 21,
     "metadata": {},
     "output_type": "execute_result"
    }
   ],
   "source": [
    "x.foo(2,3)"
   ]
  },
  {
   "cell_type": "code",
   "execution_count": 22,
   "id": "9898511b",
   "metadata": {},
   "outputs": [
    {
     "data": {
      "text/plain": [
       "{1, 2, 3, 4, 5, 6}"
      ]
     },
     "execution_count": 22,
     "metadata": {},
     "output_type": "execute_result"
    }
   ],
   "source": [
    "x.foo({1,2,3},{4,5,6,1,2})"
   ]
  },
  {
   "cell_type": "code",
   "execution_count": 23,
   "id": "283ad426",
   "metadata": {},
   "outputs": [
    {
     "data": {
      "text/plain": [
       "'satishpalla'"
      ]
     },
     "execution_count": 23,
     "metadata": {},
     "output_type": "execute_result"
    }
   ],
   "source": [
    "x.foo('satish','palla')"
   ]
  },
  {
   "cell_type": "code",
   "execution_count": 24,
   "id": "b5885321",
   "metadata": {},
   "outputs": [
    {
     "data": {
      "text/plain": [
       "2"
      ]
     },
     "execution_count": 24,
     "metadata": {},
     "output_type": "execute_result"
    }
   ],
   "source": [
    "x.foo(2,5,3)"
   ]
  },
  {
   "cell_type": "markdown",
   "id": "ef4c1162",
   "metadata": {},
   "source": [
    "# Constructor over-loading"
   ]
  },
  {
   "cell_type": "code",
   "execution_count": 25,
   "id": "ea9046ae",
   "metadata": {},
   "outputs": [],
   "source": [
    "class MyClass:\n",
    "    \n",
    "    @dispatch(int,int)\n",
    "    def __init__(self,a,b):\n",
    "        self.x = a*b\n",
    "        \n",
    "    @dispatch(str,str)\n",
    "    def __init__(self,fname,lname):\n",
    "        self.name = fname+' '+lname"
   ]
  },
  {
   "cell_type": "code",
   "execution_count": 26,
   "id": "b3053add",
   "metadata": {},
   "outputs": [],
   "source": [
    "x = MyClass(1,5)"
   ]
  },
  {
   "cell_type": "code",
   "execution_count": 27,
   "id": "9079495a",
   "metadata": {},
   "outputs": [
    {
     "data": {
      "text/plain": [
       "5"
      ]
     },
     "execution_count": 27,
     "metadata": {},
     "output_type": "execute_result"
    }
   ],
   "source": [
    "x.x"
   ]
  },
  {
   "cell_type": "code",
   "execution_count": 29,
   "id": "413c2ca1",
   "metadata": {},
   "outputs": [],
   "source": [
    "y = MyClass('abc','def')"
   ]
  },
  {
   "cell_type": "code",
   "execution_count": 30,
   "id": "62fb1cd4",
   "metadata": {},
   "outputs": [
    {
     "data": {
      "text/plain": [
       "'abc def'"
      ]
     },
     "execution_count": 30,
     "metadata": {},
     "output_type": "execute_result"
    }
   ],
   "source": [
    "y.name"
   ]
  },
  {
   "cell_type": "code",
   "execution_count": null,
   "id": "7ba90c9c",
   "metadata": {},
   "outputs": [],
   "source": []
  },
  {
   "cell_type": "code",
   "execution_count": 31,
   "id": "7f95f3e0",
   "metadata": {},
   "outputs": [],
   "source": [
    "class Parent:\n",
    "    @dispatch(int,int)\n",
    "    def __init__(self,a,b):\n",
    "        self.x = a*b\n",
    "        \n",
    "    @dispatch(str,str)\n",
    "    def __init__(self,fname,lname):\n",
    "        self.name = fname+' '+lname\n",
    "     \n",
    "    @dispatch(int,int)    \n",
    "    def foo(self,x,y):\n",
    "        return x+y\n",
    "    \n",
    "    @dispatch(set,set)\n",
    "    def foo(self,m,n):\n",
    "        return m.union(n)\n",
    "    \n",
    "    @dispatch(str,str)\n",
    "    def foo(self,m,n):\n",
    "        return m + n\n",
    "    \n",
    "    @dispatch(int,int,int)    \n",
    "    def foo(self,x,y,z):\n",
    "        return (x+y)//z\n",
    "    \n",
    "    @dispatch(list,list)\n",
    "    def foo(self,m,n):\n",
    "        return[i*j for i,j in zip(m,n)]\n",
    "    "
   ]
  },
  {
   "cell_type": "code",
   "execution_count": 32,
   "id": "18479a9a",
   "metadata": {},
   "outputs": [],
   "source": [
    "class Child(Parent):\n",
    "    pass"
   ]
  },
  {
   "cell_type": "code",
   "execution_count": 33,
   "id": "2a6d28da",
   "metadata": {},
   "outputs": [],
   "source": [
    "x = Child(5,2)"
   ]
  },
  {
   "cell_type": "code",
   "execution_count": 34,
   "id": "d801f55d",
   "metadata": {},
   "outputs": [
    {
     "data": {
      "text/plain": [
       "10"
      ]
     },
     "execution_count": 34,
     "metadata": {},
     "output_type": "execute_result"
    }
   ],
   "source": [
    "x.x"
   ]
  },
  {
   "cell_type": "code",
   "execution_count": 35,
   "id": "33945a57",
   "metadata": {},
   "outputs": [
    {
     "data": {
      "text/plain": [
       "[5, 12]"
      ]
     },
     "execution_count": 35,
     "metadata": {},
     "output_type": "execute_result"
    }
   ],
   "source": [
    "x.foo([1,2],[5,6])"
   ]
  },
  {
   "cell_type": "code",
   "execution_count": 36,
   "id": "15ec3cb9",
   "metadata": {},
   "outputs": [],
   "source": [
    "x = Child('abc','def')"
   ]
  },
  {
   "cell_type": "code",
   "execution_count": 37,
   "id": "e71390ed",
   "metadata": {},
   "outputs": [
    {
     "data": {
      "text/plain": [
       "'abc def'"
      ]
     },
     "execution_count": 37,
     "metadata": {},
     "output_type": "execute_result"
    }
   ],
   "source": [
    "x.name"
   ]
  },
  {
   "cell_type": "markdown",
   "id": "5dbd8596",
   "metadata": {},
   "source": [
    "# Abstraction"
   ]
  },
  {
   "cell_type": "markdown",
   "id": "3a506344",
   "metadata": {},
   "source": [
    "* An abstract class can be considered a blueprint for other classes.\n",
    "* It allows you to create a set of methods that must be created within any child classes built from the abstract class.\n",
    "* A class that contains one or more abstract methods is called an abstract class.\n",
    "* An abstract method is a method that has a declaration but does not have an implementation. While we are designing large functional units we use an abstract class. When we want to provide a common interface for different implementations of a component, we use an abstract class"
   ]
  },
  {
   "cell_type": "code",
   "execution_count": 42,
   "id": "88058a1d",
   "metadata": {},
   "outputs": [],
   "source": [
    "import abc\n",
    "from abc import abstractmethod,ABC"
   ]
  },
  {
   "cell_type": "code",
   "execution_count": 43,
   "id": "f8a4ef90",
   "metadata": {},
   "outputs": [],
   "source": [
    "class Ben10(ABC):\n",
    "    \n",
    "    @abstractmethod\n",
    "    def omniTransformation(self):\n",
    "        '''Yo!'''\n",
    "        pass"
   ]
  },
  {
   "cell_type": "code",
   "execution_count": 44,
   "id": "255c473f",
   "metadata": {},
   "outputs": [],
   "source": [
    "class DiamonHead(Ben10):\n",
    "    \n",
    "    def omniTransformation(self):\n",
    "        '''DiamonHead!'''\n",
    "        print('DiamondHead Transformation Done')\n",
    "        "
   ]
  },
  {
   "cell_type": "code",
   "execution_count": 45,
   "id": "62b89fc1",
   "metadata": {},
   "outputs": [],
   "source": [
    "x = DiamonHead()"
   ]
  },
  {
   "cell_type": "code",
   "execution_count": 46,
   "id": "5ea5af80",
   "metadata": {},
   "outputs": [
    {
     "name": "stdout",
     "output_type": "stream",
     "text": [
      "DiamondHead Transformation Done\n"
     ]
    }
   ],
   "source": [
    "x.omniTransformation()"
   ]
  },
  {
   "cell_type": "code",
   "execution_count": 47,
   "id": "f126c5a9",
   "metadata": {},
   "outputs": [
    {
     "name": "stdout",
     "output_type": "stream",
     "text": [
      "Help on method omniTransformation in module __main__:\n",
      "\n",
      "omniTransformation() method of __main__.DiamonHead instance\n",
      "    DiamonHead!\n",
      "\n"
     ]
    }
   ],
   "source": [
    "help(x.omniTransformation)"
   ]
  },
  {
   "cell_type": "markdown",
   "id": "30f4432a",
   "metadata": {},
   "source": [
    "# Duck typing"
   ]
  },
  {
   "cell_type": "markdown",
   "id": "fe7e0fc5",
   "metadata": {},
   "source": [
    "* Duck Typing is a term commonly related to dynamically typed programming languages and polymorphism. The idea behind this principle is that the code itself does not care about whether an object is a duck, but instead it does only care about whether it quacks."
   ]
  },
  {
   "cell_type": "code",
   "execution_count": 54,
   "id": "1ff58a1e",
   "metadata": {},
   "outputs": [],
   "source": [
    "def foo(x : str, y : str):\n",
    "    return x+y"
   ]
  },
  {
   "cell_type": "code",
   "execution_count": 55,
   "id": "dfc6a57b",
   "metadata": {},
   "outputs": [
    {
     "data": {
      "text/plain": [
       "15"
      ]
     },
     "execution_count": 55,
     "metadata": {},
     "output_type": "execute_result"
    }
   ],
   "source": [
    "foo(5,10)"
   ]
  },
  {
   "cell_type": "code",
   "execution_count": 49,
   "id": "c90936a1",
   "metadata": {},
   "outputs": [],
   "source": [
    "class Duck:\n",
    "    def quack(self):\n",
    "        print('quaack!')\n",
    "    def fly(self):\n",
    "        print('Flap-Flap!')\n",
    "        \n",
    "class DogDuck:\n",
    "    def quack(self):\n",
    "        print('Bowuaack!')\n",
    "    def fly(self):\n",
    "        print('zoommm')"
   ]
  },
  {
   "cell_type": "code",
   "execution_count": 50,
   "id": "aaf91f78",
   "metadata": {},
   "outputs": [],
   "source": [
    "def foo(x : Duck):\n",
    "    x.quack()"
   ]
  },
  {
   "cell_type": "code",
   "execution_count": 51,
   "id": "833f0771",
   "metadata": {},
   "outputs": [],
   "source": [
    "a,b = Duck(), DogDuck()"
   ]
  },
  {
   "cell_type": "code",
   "execution_count": 52,
   "id": "76eac87f",
   "metadata": {},
   "outputs": [
    {
     "name": "stdout",
     "output_type": "stream",
     "text": [
      "quaack!\n"
     ]
    }
   ],
   "source": [
    "foo(a)"
   ]
  },
  {
   "cell_type": "code",
   "execution_count": 53,
   "id": "72457c40",
   "metadata": {},
   "outputs": [
    {
     "name": "stdout",
     "output_type": "stream",
     "text": [
      "Bowuaack!\n"
     ]
    }
   ],
   "source": [
    "foo(b)"
   ]
  },
  {
   "cell_type": "code",
   "execution_count": null,
   "id": "f4b9cc10",
   "metadata": {},
   "outputs": [],
   "source": []
  }
 ],
 "metadata": {
  "kernelspec": {
   "display_name": "Python 3 (ipykernel)",
   "language": "python",
   "name": "python3"
  },
  "language_info": {
   "codemirror_mode": {
    "name": "ipython",
    "version": 3
   },
   "file_extension": ".py",
   "mimetype": "text/x-python",
   "name": "python",
   "nbconvert_exporter": "python",
   "pygments_lexer": "ipython3",
   "version": "3.11.4"
  }
 },
 "nbformat": 4,
 "nbformat_minor": 5
}
