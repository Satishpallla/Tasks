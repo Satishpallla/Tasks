{
 "cells": [
  {
   "cell_type": "markdown",
   "id": "c15a1adc",
   "metadata": {},
   "source": [
    "# Lambda"
   ]
  },
  {
   "cell_type": "markdown",
   "id": "5e4e7a4a",
   "metadata": {},
   "source": [
    "* The lambda function is a anonymous function.\n",
    "* These are defined in a single line.\n",
    "* A lambda function can take any number of arguments,but can only have one expression."
   ]
  },
  {
   "cell_type": "code",
   "execution_count": null,
   "id": "7b9d58fa",
   "metadata": {},
   "outputs": [],
   "source": [
    "# syntax\n",
    "\n",
    "       (lambda parameter : operation)(argument)"
   ]
  },
  {
   "cell_type": "code",
   "execution_count": 9,
   "id": "db4b0a55",
   "metadata": {},
   "outputs": [
    {
     "name": "stdout",
     "output_type": "stream",
     "text": [
      "15\n"
     ]
    }
   ],
   "source": [
    "x = lambda a : a + 10\n",
    "print(x(5))"
   ]
  },
  {
   "cell_type": "code",
   "execution_count": 1,
   "id": "d1db2152",
   "metadata": {},
   "outputs": [
    {
     "data": {
      "text/plain": [
       "8"
      ]
     },
     "execution_count": 1,
     "metadata": {},
     "output_type": "execute_result"
    }
   ],
   "source": [
    "(lambda x,y : x**y) (2,3)"
   ]
  },
  {
   "cell_type": "code",
   "execution_count": 4,
   "id": "2acf9370",
   "metadata": {},
   "outputs": [
    {
     "data": {
      "text/plain": [
       "10"
      ]
     },
     "execution_count": 4,
     "metadata": {},
     "output_type": "execute_result"
    }
   ],
   "source": [
    "(lambda a,b : a+b)(5,5)"
   ]
  },
  {
   "cell_type": "code",
   "execution_count": 13,
   "id": "e84cd18b",
   "metadata": {},
   "outputs": [
    {
     "data": {
      "text/plain": [
       "'even'"
      ]
     },
     "execution_count": 13,
     "metadata": {},
     "output_type": "execute_result"
    }
   ],
   "source": [
    "(lambda x : 'even' if x%2 == 0 else 'odd')(12)"
   ]
  },
  {
   "cell_type": "code",
   "execution_count": 2,
   "id": "f2355336",
   "metadata": {},
   "outputs": [
    {
     "data": {
      "text/plain": [
       "([10, 12, 14, 16, 18], [11, 13, 15, 17, 19])"
      ]
     },
     "execution_count": 2,
     "metadata": {},
     "output_type": "execute_result"
    }
   ],
   "source": [
    "(lambda x,y :([ele for ele in range(x,y) if ele%2 == 0],[ele for ele in range(x,y) if ele%2 !=0]))(10,20)"
   ]
  },
  {
   "cell_type": "markdown",
   "id": "3c0d2df9",
   "metadata": {},
   "source": [
    "## higher order function"
   ]
  },
  {
   "cell_type": "markdown",
   "id": "4823108c",
   "metadata": {},
   "source": [
    "### map,filter,reduce"
   ]
  },
  {
   "cell_type": "markdown",
   "id": "9c58fe94",
   "metadata": {},
   "source": [
    "# Map():"
   ]
  },
  {
   "cell_type": "markdown",
   "id": "15275b4e",
   "metadata": {},
   "source": [
    "* Map in Python is a function that works as an iterator to return a result after applying a function to every item of an iterable (tuple, lists, etc.).\n",
    "* It is used when you want to apply a single transformation function to all the iterable elements. The iterable and function are passed as arguments to the map in Python"
   ]
  },
  {
   "cell_type": "code",
   "execution_count": 23,
   "id": "b3c83c8a",
   "metadata": {},
   "outputs": [
    {
     "data": {
      "text/plain": [
       "<map at 0x220b4e60fd0>"
      ]
     },
     "execution_count": 23,
     "metadata": {},
     "output_type": "execute_result"
    }
   ],
   "source": [
    "z = map(lambda x: x ** 2,[1,2,3])\n",
    "z"
   ]
  },
  {
   "cell_type": "code",
   "execution_count": 24,
   "id": "880ee5d4",
   "metadata": {},
   "outputs": [
    {
     "data": {
      "text/plain": [
       "[1, 4, 9]"
      ]
     },
     "execution_count": 24,
     "metadata": {},
     "output_type": "execute_result"
    }
   ],
   "source": [
    "list(z)          # map < z(1),z(2),z(3) >"
   ]
  },
  {
   "cell_type": "code",
   "execution_count": 3,
   "id": "65b19ebe",
   "metadata": {},
   "outputs": [
    {
     "data": {
      "text/plain": [
       "[97, 98, 99]"
      ]
     },
     "execution_count": 3,
     "metadata": {},
     "output_type": "execute_result"
    }
   ],
   "source": [
    "a = map(ord,'abc')\n",
    "list(a)"
   ]
  },
  {
   "cell_type": "code",
   "execution_count": 29,
   "id": "93df70b5",
   "metadata": {},
   "outputs": [
    {
     "data": {
      "text/plain": [
       "[11, 22, 33]"
      ]
     },
     "execution_count": 29,
     "metadata": {},
     "output_type": "execute_result"
    }
   ],
   "source": [
    "list(map(lambda x,y: x+y,[1,2,3],[10,20,30]))"
   ]
  },
  {
   "cell_type": "code",
   "execution_count": 31,
   "id": "e4a9df61",
   "metadata": {},
   "outputs": [
    {
     "data": {
      "text/plain": [
       "[1, 4, 27]"
      ]
     },
     "execution_count": 31,
     "metadata": {},
     "output_type": "execute_result"
    }
   ],
   "source": [
    "list(map(lambda x: x**x,[1,2,3]))"
   ]
  },
  {
   "cell_type": "markdown",
   "id": "6d975345",
   "metadata": {},
   "source": [
    "# Filter():"
   ]
  },
  {
   "cell_type": "markdown",
   "id": "53208296",
   "metadata": {},
   "source": [
    "* The filter() function returns an iterator where the items are filtered through a function to test if the item is accepted or not"
   ]
  },
  {
   "cell_type": "code",
   "execution_count": 33,
   "id": "31f822fc",
   "metadata": {},
   "outputs": [
    {
     "data": {
      "text/plain": [
       "[2, 4]"
      ]
     },
     "execution_count": 33,
     "metadata": {},
     "output_type": "execute_result"
    }
   ],
   "source": [
    "list(filter(lambda x: True if x % 2 == 0 else False,[1,2,3,4,5]))"
   ]
  },
  {
   "cell_type": "code",
   "execution_count": 34,
   "id": "f6dafb3b",
   "metadata": {},
   "outputs": [
    {
     "data": {
      "text/plain": [
       "['a', 'i']"
      ]
     },
     "execution_count": 34,
     "metadata": {},
     "output_type": "execute_result"
    }
   ],
   "source": [
    "list(filter(lambda x:True if x in 'aeiou' else False,'satish'))"
   ]
  },
  {
   "cell_type": "code",
   "execution_count": 38,
   "id": "8b99fb4e",
   "metadata": {},
   "outputs": [
    {
     "data": {
      "text/plain": [
       "['s', 'a', 't', 'i', 's', 'h', '1', '2', '3']"
      ]
     },
     "execution_count": 38,
     "metadata": {},
     "output_type": "execute_result"
    }
   ],
   "source": [
    "list(filter(lambda x:True if x.isalnum() else False,'satish@$123'))"
   ]
  },
  {
   "cell_type": "code",
   "execution_count": 39,
   "id": "b78ca06e",
   "metadata": {},
   "outputs": [
    {
     "data": {
      "text/plain": [
       "['@', '$']"
      ]
     },
     "execution_count": 39,
     "metadata": {},
     "output_type": "execute_result"
    }
   ],
   "source": [
    "list(filter(lambda x:True if x.isalnum() is False else False,'satish@$123'))"
   ]
  },
  {
   "cell_type": "markdown",
   "id": "2759b1fd",
   "metadata": {},
   "source": [
    "# Reduce():"
   ]
  },
  {
   "cell_type": "markdown",
   "id": "d2866a0f",
   "metadata": {},
   "source": [
    "* The reduce() function in Python takes in a function and a list as an argument. The function is called with a lambda function and an iterable and a new reduced result is returned.\n",
    "* This performs a repetitive operation over the pairs of the iterable.\n",
    "* Syntax-\n",
    "  reduce(function , list)\n",
    "  This function is defined in “functools” module."
   ]
  },
  {
   "cell_type": "code",
   "execution_count": 8,
   "id": "97f8be31",
   "metadata": {},
   "outputs": [],
   "source": [
    "import functools"
   ]
  },
  {
   "cell_type": "code",
   "execution_count": 9,
   "id": "cc8e444e",
   "metadata": {},
   "outputs": [
    {
     "data": {
      "text/plain": [
       "45"
      ]
     },
     "execution_count": 9,
     "metadata": {},
     "output_type": "execute_result"
    }
   ],
   "source": [
    "functools.reduce(lambda x,y:x+y,[10,15,20]) # add first two elements then goes to another element"
   ]
  },
  {
   "cell_type": "code",
   "execution_count": 10,
   "id": "1824dbf9",
   "metadata": {},
   "outputs": [
    {
     "data": {
      "text/plain": [
       "720"
      ]
     },
     "execution_count": 10,
     "metadata": {},
     "output_type": "execute_result"
    }
   ],
   "source": [
    "functools.reduce(lambda x,y:x*y,[1,2,3,4,5,6]) # multiply first two elements then goes to another element"
   ]
  },
  {
   "cell_type": "code",
   "execution_count": null,
   "id": "0a126649",
   "metadata": {},
   "outputs": [],
   "source": []
  }
 ],
 "metadata": {
  "kernelspec": {
   "display_name": "Python 3 (ipykernel)",
   "language": "python",
   "name": "python3"
  },
  "language_info": {
   "codemirror_mode": {
    "name": "ipython",
    "version": 3
   },
   "file_extension": ".py",
   "mimetype": "text/x-python",
   "name": "python",
   "nbconvert_exporter": "python",
   "pygments_lexer": "ipython3",
   "version": "3.11.4"
  }
 },
 "nbformat": 4,
 "nbformat_minor": 5
}
