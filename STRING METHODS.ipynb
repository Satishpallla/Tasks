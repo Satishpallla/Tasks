{
 "cells": [
  {
   "cell_type": "markdown",
   "id": "108cd365",
   "metadata": {},
   "source": [
    "## String Methods"
   ]
  },
  {
   "cell_type": "markdown",
   "id": "c32fdfcc",
   "metadata": {},
   "source": [
    "### find()"
   ]
  },
  {
   "cell_type": "markdown",
   "id": "130d443e",
   "metadata": {},
   "source": [
    "* It gives the index number in the string"
   ]
  },
  {
   "cell_type": "code",
   "execution_count": 1,
   "id": "1835f210",
   "metadata": {},
   "outputs": [
    {
     "name": "stdout",
     "output_type": "stream",
     "text": [
      "Help on method_descriptor:\n",
      "\n",
      "find(...)\n",
      "    S.find(sub[, start[, end]]) -> int\n",
      "    \n",
      "    Return the lowest index in S where substring sub is found,\n",
      "    such that sub is contained within S[start:end].  Optional\n",
      "    arguments start and end are interpreted as in slice notation.\n",
      "    \n",
      "    Return -1 on failure.\n",
      "\n"
     ]
    }
   ],
   "source": [
    "help(str.find)"
   ]
  },
  {
   "cell_type": "code",
   "execution_count": 2,
   "id": "f6695cf9",
   "metadata": {},
   "outputs": [],
   "source": [
    "name = \"I am data scientist\""
   ]
  },
  {
   "cell_type": "code",
   "execution_count": 3,
   "id": "ce032843",
   "metadata": {},
   "outputs": [
    {
     "data": {
      "text/plain": [
       "2"
      ]
     },
     "execution_count": 3,
     "metadata": {},
     "output_type": "execute_result"
    }
   ],
   "source": [
    "name.find('a')"
   ]
  },
  {
   "cell_type": "code",
   "execution_count": 9,
   "id": "0a5dee49",
   "metadata": {},
   "outputs": [
    {
     "data": {
      "text/plain": [
       "8"
      ]
     },
     "execution_count": 9,
     "metadata": {},
     "output_type": "execute_result"
    }
   ],
   "source": [
    "name.find('a',7)"
   ]
  },
  {
   "cell_type": "markdown",
   "id": "35f0f0de",
   "metadata": {},
   "source": [
    "### rfind()"
   ]
  },
  {
   "cell_type": "markdown",
   "id": "00201da4",
   "metadata": {},
   "source": [
    "* It gives the right side index number in string"
   ]
  },
  {
   "cell_type": "code",
   "execution_count": 10,
   "id": "5accd826",
   "metadata": {},
   "outputs": [
    {
     "name": "stdout",
     "output_type": "stream",
     "text": [
      "Help on method_descriptor:\n",
      "\n",
      "rfind(...)\n",
      "    S.rfind(sub[, start[, end]]) -> int\n",
      "    \n",
      "    Return the highest index in S where substring sub is found,\n",
      "    such that sub is contained within S[start:end].  Optional\n",
      "    arguments start and end are interpreted as in slice notation.\n",
      "    \n",
      "    Return -1 on failure.\n",
      "\n"
     ]
    }
   ],
   "source": [
    "help(str.rfind)"
   ]
  },
  {
   "cell_type": "code",
   "execution_count": 12,
   "id": "2a9f18b7",
   "metadata": {},
   "outputs": [],
   "source": [
    "name = \"I am data scientist\""
   ]
  },
  {
   "cell_type": "code",
   "execution_count": 13,
   "id": "7564e524",
   "metadata": {},
   "outputs": [
    {
     "data": {
      "text/plain": [
       "8"
      ]
     },
     "execution_count": 13,
     "metadata": {},
     "output_type": "execute_result"
    }
   ],
   "source": [
    "name.rfind('a')"
   ]
  },
  {
   "cell_type": "code",
   "execution_count": 17,
   "id": "f8fd709a",
   "metadata": {},
   "outputs": [
    {
     "data": {
      "text/plain": [
       "2"
      ]
     },
     "execution_count": 17,
     "metadata": {},
     "output_type": "execute_result"
    }
   ],
   "source": [
    "name.rfind('a',2,4)"
   ]
  },
  {
   "cell_type": "markdown",
   "id": "837f7465",
   "metadata": {},
   "source": [
    "### count()"
   ]
  },
  {
   "cell_type": "markdown",
   "id": "4e2dfaaa",
   "metadata": {},
   "source": [
    "* It gives the frequency occurancy of a particular value"
   ]
  },
  {
   "cell_type": "code",
   "execution_count": 18,
   "id": "ab344231",
   "metadata": {},
   "outputs": [],
   "source": [
    "string = \"Malayalam\""
   ]
  },
  {
   "cell_type": "code",
   "execution_count": 24,
   "id": "9887c0c8",
   "metadata": {},
   "outputs": [
    {
     "data": {
      "text/plain": [
       "1"
      ]
     },
     "execution_count": 24,
     "metadata": {},
     "output_type": "execute_result"
    }
   ],
   "source": [
    "string.count('y')"
   ]
  },
  {
   "cell_type": "code",
   "execution_count": 25,
   "id": "0048ebcc",
   "metadata": {},
   "outputs": [
    {
     "data": {
      "text/plain": [
       "4"
      ]
     },
     "execution_count": 25,
     "metadata": {},
     "output_type": "execute_result"
    }
   ],
   "source": [
    "string.count('a')"
   ]
  },
  {
   "cell_type": "markdown",
   "id": "261c6075",
   "metadata": {},
   "source": [
    "### index()"
   ]
  },
  {
   "cell_type": "markdown",
   "id": "94d6cc3c",
   "metadata": {},
   "source": [
    "* It gives the index number in the string"
   ]
  },
  {
   "cell_type": "code",
   "execution_count": 27,
   "id": "d1361f2c",
   "metadata": {},
   "outputs": [
    {
     "name": "stdout",
     "output_type": "stream",
     "text": [
      "Help on method_descriptor:\n",
      "\n",
      "index(...)\n",
      "    S.index(sub[, start[, end]]) -> int\n",
      "    \n",
      "    Return the lowest index in S where substring sub is found,\n",
      "    such that sub is contained within S[start:end].  Optional\n",
      "    arguments start and end are interpreted as in slice notation.\n",
      "    \n",
      "    Raises ValueError when the substring is not found.\n",
      "\n"
     ]
    }
   ],
   "source": [
    "help(str.index)"
   ]
  },
  {
   "cell_type": "code",
   "execution_count": 28,
   "id": "bba645ac",
   "metadata": {},
   "outputs": [],
   "source": [
    "name = \"malayalam\""
   ]
  },
  {
   "cell_type": "code",
   "execution_count": 29,
   "id": "56a5d0ba",
   "metadata": {},
   "outputs": [
    {
     "data": {
      "text/plain": [
       "1"
      ]
     },
     "execution_count": 29,
     "metadata": {},
     "output_type": "execute_result"
    }
   ],
   "source": [
    "name.index('a')"
   ]
  },
  {
   "cell_type": "code",
   "execution_count": 30,
   "id": "bd3b36c4",
   "metadata": {},
   "outputs": [
    {
     "data": {
      "text/plain": [
       "4"
      ]
     },
     "execution_count": 30,
     "metadata": {},
     "output_type": "execute_result"
    }
   ],
   "source": [
    "name.index('y')"
   ]
  },
  {
   "cell_type": "code",
   "execution_count": 31,
   "id": "fe55a5a7",
   "metadata": {},
   "outputs": [
    {
     "data": {
      "text/plain": [
       "(1, 1)"
      ]
     },
     "execution_count": 31,
     "metadata": {},
     "output_type": "execute_result"
    }
   ],
   "source": [
    "name.find('a'), name.index('a')"
   ]
  },
  {
   "cell_type": "code",
   "execution_count": 32,
   "id": "4510d97f",
   "metadata": {},
   "outputs": [
    {
     "ename": "ValueError",
     "evalue": "substring not found",
     "output_type": "error",
     "traceback": [
      "\u001b[1;31m---------------------------------------------------------------------------\u001b[0m",
      "\u001b[1;31mValueError\u001b[0m                                Traceback (most recent call last)",
      "Cell \u001b[1;32mIn[32], line 2\u001b[0m\n\u001b[0;32m      1\u001b[0m name\u001b[38;5;241m.\u001b[39mfind(\u001b[38;5;124m'\u001b[39m\u001b[38;5;124mz\u001b[39m\u001b[38;5;124m'\u001b[39m)\n\u001b[1;32m----> 2\u001b[0m name\u001b[38;5;241m.\u001b[39mindex(\u001b[38;5;124m'\u001b[39m\u001b[38;5;124mz\u001b[39m\u001b[38;5;124m'\u001b[39m)\n",
      "\u001b[1;31mValueError\u001b[0m: substring not found"
     ]
    }
   ],
   "source": [
    "name.find('z')\n",
    "name.index('z')          # uncomment to see the error"
   ]
  },
  {
   "cell_type": "markdown",
   "id": "379348a2",
   "metadata": {},
   "source": [
    "### rindex()"
   ]
  },
  {
   "cell_type": "markdown",
   "id": "c753d06d",
   "metadata": {},
   "source": [
    "* It gives the right side index number in the string"
   ]
  },
  {
   "cell_type": "code",
   "execution_count": 36,
   "id": "14d580e3",
   "metadata": {},
   "outputs": [
    {
     "name": "stdout",
     "output_type": "stream",
     "text": [
      "Help on method_descriptor:\n",
      "\n",
      "rindex(...)\n",
      "    S.rindex(sub[, start[, end]]) -> int\n",
      "    \n",
      "    Return the highest index in S where substring sub is found,\n",
      "    such that sub is contained within S[start:end].  Optional\n",
      "    arguments start and end are interpreted as in slice notation.\n",
      "    \n",
      "    Raises ValueError when the substring is not found.\n",
      "\n"
     ]
    }
   ],
   "source": [
    "help(str.rindex)"
   ]
  },
  {
   "cell_type": "code",
   "execution_count": 33,
   "id": "e1bae807",
   "metadata": {},
   "outputs": [],
   "source": [
    "name = \"malayalam\""
   ]
  },
  {
   "cell_type": "code",
   "execution_count": 34,
   "id": "8d15f6ea",
   "metadata": {},
   "outputs": [
    {
     "data": {
      "text/plain": [
       "7"
      ]
     },
     "execution_count": 34,
     "metadata": {},
     "output_type": "execute_result"
    }
   ],
   "source": [
    "name.rindex('a')"
   ]
  },
  {
   "cell_type": "markdown",
   "id": "01e76a6b",
   "metadata": {},
   "source": [
    "### replace()"
   ]
  },
  {
   "cell_type": "markdown",
   "id": "b0103c55",
   "metadata": {},
   "source": [
    "* It replace the words"
   ]
  },
  {
   "cell_type": "code",
   "execution_count": 37,
   "id": "b9642968",
   "metadata": {},
   "outputs": [],
   "source": [
    "string = \"I am python programmer\""
   ]
  },
  {
   "cell_type": "code",
   "execution_count": 40,
   "id": "2b5341c4",
   "metadata": {},
   "outputs": [
    {
     "data": {
      "text/plain": [
       "'I am c programmer'"
      ]
     },
     "execution_count": 40,
     "metadata": {},
     "output_type": "execute_result"
    }
   ],
   "source": [
    "string.replace(\"python\",\"c\")"
   ]
  },
  {
   "cell_type": "code",
   "execution_count": 41,
   "id": "34d763dd",
   "metadata": {},
   "outputs": [],
   "source": [
    "m = \"malayalam\""
   ]
  },
  {
   "cell_type": "code",
   "execution_count": 42,
   "id": "58fc84fb",
   "metadata": {},
   "outputs": [
    {
     "data": {
      "text/plain": [
       "'MalayalaM'"
      ]
     },
     "execution_count": 42,
     "metadata": {},
     "output_type": "execute_result"
    }
   ],
   "source": [
    "m.replace('m','M')"
   ]
  },
  {
   "cell_type": "code",
   "execution_count": 43,
   "id": "20d8bac5",
   "metadata": {},
   "outputs": [
    {
     "data": {
      "text/plain": [
       "'mAlAyalam'"
      ]
     },
     "execution_count": 43,
     "metadata": {},
     "output_type": "execute_result"
    }
   ],
   "source": [
    "m.replace('a','A',2)"
   ]
  },
  {
   "cell_type": "markdown",
   "id": "a283aed6",
   "metadata": {},
   "source": [
    "### split()"
   ]
  },
  {
   "cell_type": "markdown",
   "id": "ab399953",
   "metadata": {},
   "source": [
    "*  It split the words"
   ]
  },
  {
   "cell_type": "code",
   "execution_count": 46,
   "id": "236e8981",
   "metadata": {},
   "outputs": [
    {
     "name": "stdout",
     "output_type": "stream",
     "text": [
      "Help on method_descriptor:\n",
      "\n",
      "split(self, /, sep=None, maxsplit=-1)\n",
      "    Return a list of the substrings in the string, using sep as the separator string.\n",
      "    \n",
      "      sep\n",
      "        The separator used to split the string.\n",
      "    \n",
      "        When set to None (the default value), will split on any whitespace\n",
      "        character (including \\\\n \\\\r \\\\t \\\\f and spaces) and will discard\n",
      "        empty strings from the result.\n",
      "      maxsplit\n",
      "        Maximum number of splits (starting from the left).\n",
      "        -1 (the default value) means no limit.\n",
      "    \n",
      "    Note, str.split() is mainly useful for data that has been intentionally\n",
      "    delimited.  With natural text that includes punctuation, consider using\n",
      "    the regular expression module.\n",
      "\n"
     ]
    }
   ],
   "source": [
    "help(str.split)"
   ]
  },
  {
   "cell_type": "code",
   "execution_count": 44,
   "id": "803ef9ab",
   "metadata": {},
   "outputs": [],
   "source": [
    "string = \"I am data scientist\""
   ]
  },
  {
   "cell_type": "code",
   "execution_count": 45,
   "id": "3afe6826",
   "metadata": {},
   "outputs": [
    {
     "data": {
      "text/plain": [
       "['I', 'am', 'data', 'scientist']"
      ]
     },
     "execution_count": 45,
     "metadata": {},
     "output_type": "execute_result"
    }
   ],
   "source": [
    "string.split()"
   ]
  },
  {
   "cell_type": "code",
   "execution_count": 48,
   "id": "d16f9283",
   "metadata": {},
   "outputs": [
    {
     "data": {
      "text/plain": [
       "['I', 'am data scientist']"
      ]
     },
     "execution_count": 48,
     "metadata": {},
     "output_type": "execute_result"
    }
   ],
   "source": [
    "string.split(' ',1)"
   ]
  },
  {
   "cell_type": "code",
   "execution_count": 50,
   "id": "9c490c65",
   "metadata": {},
   "outputs": [
    {
     "data": {
      "text/plain": [
       "['I', 'am', 'data scientist']"
      ]
     },
     "execution_count": 50,
     "metadata": {},
     "output_type": "execute_result"
    }
   ],
   "source": [
    "string.split(' ',2)"
   ]
  },
  {
   "cell_type": "markdown",
   "id": "db199240",
   "metadata": {},
   "source": [
    "### rsplit()"
   ]
  },
  {
   "cell_type": "markdown",
   "id": "dbfbeff5",
   "metadata": {},
   "source": [
    "* It split the right side words"
   ]
  },
  {
   "cell_type": "code",
   "execution_count": 52,
   "id": "9fad71e0",
   "metadata": {},
   "outputs": [
    {
     "name": "stdout",
     "output_type": "stream",
     "text": [
      "Help on method_descriptor:\n",
      "\n",
      "rsplit(self, /, sep=None, maxsplit=-1)\n",
      "    Return a list of the substrings in the string, using sep as the separator string.\n",
      "    \n",
      "      sep\n",
      "        The separator used to split the string.\n",
      "    \n",
      "        When set to None (the default value), will split on any whitespace\n",
      "        character (including \\\\n \\\\r \\\\t \\\\f and spaces) and will discard\n",
      "        empty strings from the result.\n",
      "      maxsplit\n",
      "        Maximum number of splits (starting from the left).\n",
      "        -1 (the default value) means no limit.\n",
      "    \n",
      "    Splitting starts at the end of the string and works to the front.\n",
      "\n"
     ]
    }
   ],
   "source": [
    "help(str.rsplit)"
   ]
  },
  {
   "cell_type": "code",
   "execution_count": 51,
   "id": "41a6634f",
   "metadata": {},
   "outputs": [],
   "source": [
    "string = \"I am data scientist\""
   ]
  },
  {
   "cell_type": "code",
   "execution_count": 53,
   "id": "917fcf90",
   "metadata": {},
   "outputs": [
    {
     "data": {
      "text/plain": [
       "['I am', 'data', 'scientist']"
      ]
     },
     "execution_count": 53,
     "metadata": {},
     "output_type": "execute_result"
    }
   ],
   "source": [
    "string.rsplit(' ',2)"
   ]
  },
  {
   "cell_type": "code",
   "execution_count": 55,
   "id": "93441763",
   "metadata": {},
   "outputs": [
    {
     "data": {
      "text/plain": [
       "['I ', ' data scientist']"
      ]
     },
     "execution_count": 55,
     "metadata": {},
     "output_type": "execute_result"
    }
   ],
   "source": [
    "string.split('am')"
   ]
  },
  {
   "cell_type": "markdown",
   "id": "a3fca01d",
   "metadata": {},
   "source": [
    "### partition()"
   ]
  },
  {
   "cell_type": "markdown",
   "id": "51e111f6",
   "metadata": {},
   "source": [
    "* It divided into 3 partitions"
   ]
  },
  {
   "cell_type": "code",
   "execution_count": 61,
   "id": "71b3470b",
   "metadata": {},
   "outputs": [
    {
     "name": "stdout",
     "output_type": "stream",
     "text": [
      "Help on method_descriptor:\n",
      "\n",
      "partition(self, sep, /)\n",
      "    Partition the string into three parts using the given separator.\n",
      "    \n",
      "    This will search for the separator in the string.  If the separator is found,\n",
      "    returns a 3-tuple containing the part before the separator, the separator\n",
      "    itself, and the part after it.\n",
      "    \n",
      "    If the separator is not found, returns a 3-tuple containing the original string\n",
      "    and two empty strings.\n",
      "\n"
     ]
    }
   ],
   "source": [
    "help(str.partition)"
   ]
  },
  {
   "cell_type": "code",
   "execution_count": 58,
   "id": "8a3090f9",
   "metadata": {},
   "outputs": [],
   "source": [
    "m = \"malayalam\""
   ]
  },
  {
   "cell_type": "code",
   "execution_count": 59,
   "id": "9324ea65",
   "metadata": {},
   "outputs": [
    {
     "data": {
      "text/plain": [
       "('m', 'a', 'layalam')"
      ]
     },
     "execution_count": 59,
     "metadata": {},
     "output_type": "execute_result"
    }
   ],
   "source": [
    "m.partition('a')"
   ]
  },
  {
   "cell_type": "code",
   "execution_count": 60,
   "id": "d65ef554",
   "metadata": {},
   "outputs": [
    {
     "data": {
      "text/plain": [
       "(('m', 'a', 'layalam'), ('mala', 'y', 'alam'))"
      ]
     },
     "execution_count": 60,
     "metadata": {},
     "output_type": "execute_result"
    }
   ],
   "source": [
    "m.partition('a'),m.partition('y')"
   ]
  },
  {
   "cell_type": "code",
   "execution_count": 62,
   "id": "c6093711",
   "metadata": {},
   "outputs": [],
   "source": [
    "name = \"I am data scientist\""
   ]
  },
  {
   "cell_type": "code",
   "execution_count": 64,
   "id": "c70bef39",
   "metadata": {},
   "outputs": [
    {
     "data": {
      "text/plain": [
       "('I a', 'm', ' data scientist')"
      ]
     },
     "execution_count": 64,
     "metadata": {},
     "output_type": "execute_result"
    }
   ],
   "source": [
    "name.partition('m')"
   ]
  }
 ],
 "metadata": {
  "kernelspec": {
   "display_name": "Python 3 (ipykernel)",
   "language": "python",
   "name": "python3"
  },
  "language_info": {
   "codemirror_mode": {
    "name": "ipython",
    "version": 3
   },
   "file_extension": ".py",
   "mimetype": "text/x-python",
   "name": "python",
   "nbconvert_exporter": "python",
   "pygments_lexer": "ipython3",
   "version": "3.11.4"
  }
 },
 "nbformat": 4,
 "nbformat_minor": 5
}
