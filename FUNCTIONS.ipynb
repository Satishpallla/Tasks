{
 "cells": [
  {
   "cell_type": "markdown",
   "id": "7f236821",
   "metadata": {},
   "source": [
    "# Python Function"
   ]
  },
  {
   "cell_type": "markdown",
   "id": "ef6cc06d",
   "metadata": {},
   "source": [
    "* A function is a block of code which only runs when it is called.\n",
    "\n",
    "* You can pass data, known as parameters, into a function.\n",
    "\n",
    "* A function can return data as a result."
   ]
  },
  {
   "cell_type": "markdown",
   "id": "37885c06",
   "metadata": {},
   "source": [
    "# Creating a fuction"
   ]
  },
  {
   "cell_type": "markdown",
   "id": "ccce6194",
   "metadata": {},
   "source": [
    "In Python a function is defined using the def keyword:"
   ]
  },
  {
   "cell_type": "code",
   "execution_count": null,
   "id": "260cc452",
   "metadata": {},
   "outputs": [],
   "source": [
    "# syntax\n",
    "\n",
    "def fuction_name(parameter/s):\n",
    "    block of code"
   ]
  },
  {
   "cell_type": "markdown",
   "id": "e1de2508",
   "metadata": {},
   "source": [
    "# Calling function"
   ]
  },
  {
   "cell_type": "markdown",
   "id": "6a020e85",
   "metadata": {},
   "source": [
    "To call a function, use the function name followed by parenthesis:"
   ]
  },
  {
   "cell_type": "code",
   "execution_count": 10,
   "id": "7d20edd7",
   "metadata": {},
   "outputs": [],
   "source": [
    "def my_function():\n",
    "    print(\"hello\")"
   ]
  },
  {
   "cell_type": "code",
   "execution_count": 12,
   "id": "f587cc8e",
   "metadata": {},
   "outputs": [
    {
     "name": "stdout",
     "output_type": "stream",
     "text": [
      "hello\n"
     ]
    }
   ],
   "source": [
    "my_function()"
   ]
  },
  {
   "cell_type": "markdown",
   "id": "65e8d023",
   "metadata": {},
   "source": [
    "# Parameter"
   ]
  },
  {
   "cell_type": "markdown",
   "id": "34e07f73",
   "metadata": {},
   "source": [
    "* This article explains different type of function in python.\n",
    "\n",
    "* The function explained are Built-in functions,User-defined function,Recursive function,Lamba function\n",
    "\n",
    "* A function in a block of code that performs a particular task."
   ]
  },
  {
   "cell_type": "markdown",
   "id": "a9388912",
   "metadata": {},
   "source": [
    "# Arguments"
   ]
  },
  {
   "cell_type": "markdown",
   "id": "b5c6e51d",
   "metadata": {},
   "source": [
    "* Information can be passed into functions as arguments.\n",
    "\n",
    "* Arguments are specified after the function name, inside the parentheses. You can add as many arguments as you want, just separate them with a comma.\n",
    "\n",
    "     1) Position arguments\n",
    "     2) Keyword arguments\n",
    "     3) Default arguments\n",
    "     4) Arbitary arguments"
   ]
  },
  {
   "cell_type": "markdown",
   "id": "6a3ca90f",
   "metadata": {},
   "source": [
    "## Position arguments"
   ]
  },
  {
   "cell_type": "code",
   "execution_count": 16,
   "id": "6cdedfbb",
   "metadata": {},
   "outputs": [],
   "source": [
    "def fooSum(a,b):     # a and b are parameters\n",
    "    print(a + b)"
   ]
  },
  {
   "cell_type": "code",
   "execution_count": 17,
   "id": "028cb66b",
   "metadata": {},
   "outputs": [
    {
     "name": "stdout",
     "output_type": "stream",
     "text": [
      "4\n"
     ]
    }
   ],
   "source": [
    "fooSum(1,3)          # 1 and 3 are arrgument"
   ]
  },
  {
   "cell_type": "code",
   "execution_count": 20,
   "id": "3a4dceb6",
   "metadata": {},
   "outputs": [
    {
     "name": "stdout",
     "output_type": "stream",
     "text": [
      "-8\n"
     ]
    }
   ],
   "source": [
    "fooSum(-3,-5)"
   ]
  },
  {
   "cell_type": "code",
   "execution_count": 21,
   "id": "42623cfb",
   "metadata": {},
   "outputs": [],
   "source": [
    "def fooDivision(d,n):\n",
    "    print(n/d)"
   ]
  },
  {
   "cell_type": "code",
   "execution_count": 22,
   "id": "dabcc57e",
   "metadata": {},
   "outputs": [
    {
     "name": "stdout",
     "output_type": "stream",
     "text": [
      "0.2\n"
     ]
    }
   ],
   "source": [
    "fooDivision(10,2)"
   ]
  },
  {
   "cell_type": "code",
   "execution_count": 23,
   "id": "d054715d",
   "metadata": {},
   "outputs": [],
   "source": [
    "d, n = 10,2"
   ]
  },
  {
   "cell_type": "markdown",
   "id": "8dc1cad0",
   "metadata": {},
   "source": [
    "## Keyword arguments"
   ]
  },
  {
   "cell_type": "markdown",
   "id": "c09a32ba",
   "metadata": {},
   "source": [
    "* You can also send arguments with the key = value syntax.\n",
    "\n",
    "* This way the order of the arguments does not matter."
   ]
  },
  {
   "cell_type": "code",
   "execution_count": 25,
   "id": "f9d813ad",
   "metadata": {},
   "outputs": [],
   "source": [
    "def fooDivision(n,d):\n",
    "    print(n/d)"
   ]
  },
  {
   "cell_type": "code",
   "execution_count": 26,
   "id": "f435d580",
   "metadata": {},
   "outputs": [
    {
     "name": "stdout",
     "output_type": "stream",
     "text": [
      "5.0\n"
     ]
    }
   ],
   "source": [
    "fooDivision(n = 10,d = 2)"
   ]
  },
  {
   "cell_type": "code",
   "execution_count": 37,
   "id": "9dcdb951",
   "metadata": {},
   "outputs": [],
   "source": [
    "def my_function(child3, child2, child1):\n",
    "    print(\"The youngest child is \" + child3)"
   ]
  },
  {
   "cell_type": "code",
   "execution_count": 38,
   "id": "9563a82e",
   "metadata": {},
   "outputs": [
    {
     "name": "stdout",
     "output_type": "stream",
     "text": [
      "The youngest child is Ganesh\n"
     ]
    }
   ],
   "source": [
    "my_function(child1 = \"Satish\", child2 = \"Sai\", child3 = \"Ganesh\")"
   ]
  },
  {
   "cell_type": "markdown",
   "id": "bf88f7c3",
   "metadata": {},
   "source": [
    "## Default arguments"
   ]
  },
  {
   "cell_type": "code",
   "execution_count": 8,
   "id": "01417530",
   "metadata": {},
   "outputs": [],
   "source": [
    "def fooPotentialenergy(m, h, g = 9.8):\n",
    "    print(m*h*g)"
   ]
  },
  {
   "cell_type": "code",
   "execution_count": 9,
   "id": "49d23192",
   "metadata": {},
   "outputs": [
    {
     "name": "stdout",
     "output_type": "stream",
     "text": [
      "490.00000000000006\n"
     ]
    }
   ],
   "source": [
    "fooPotentialenergy(10,5)"
   ]
  },
  {
   "cell_type": "code",
   "execution_count": 13,
   "id": "9e1ca7f9",
   "metadata": {},
   "outputs": [
    {
     "name": "stdout",
     "output_type": "stream",
     "text": [
      "500\n"
     ]
    }
   ],
   "source": [
    "fooPotentialenergy(10, 5, g = 10)"
   ]
  },
  {
   "cell_type": "code",
   "execution_count": 32,
   "id": "3c29b63f",
   "metadata": {},
   "outputs": [],
   "source": [
    "def my_function(country = \"India\"):\n",
    "    print(\"I am from \" + country)"
   ]
  },
  {
   "cell_type": "code",
   "execution_count": 33,
   "id": "7d8e9db5",
   "metadata": {},
   "outputs": [
    {
     "name": "stdout",
     "output_type": "stream",
     "text": [
      "I am from India\n"
     ]
    }
   ],
   "source": [
    "my_function(\"India\")"
   ]
  },
  {
   "cell_type": "markdown",
   "id": "fd739650",
   "metadata": {},
   "source": [
    "# Arbitary arguments"
   ]
  },
  {
   "cell_type": "markdown",
   "id": "b7edd08d",
   "metadata": {},
   "source": [
    "* If you do not know how many keyword arguments that will be passed into your function, add two asterisk: ** before the parameter name in the function definition.\n",
    "\n",
    "* This way the function will receive a dictionary of arguments, and can access the items accordingly:"
   ]
  },
  {
   "cell_type": "markdown",
   "id": "03252732",
   "metadata": {},
   "source": [
    "Example :\n",
    "If the number of keyword arguments is unknown, add a double ** before the parameter name:"
   ]
  },
  {
   "cell_type": "code",
   "execution_count": 45,
   "id": "a3b01688",
   "metadata": {},
   "outputs": [],
   "source": [
    "def my_function(**kid):\n",
    "    print(\"His last name is \" + kid[\"lname\"])"
   ]
  },
  {
   "cell_type": "code",
   "execution_count": 46,
   "id": "b2242da6",
   "metadata": {},
   "outputs": [
    {
     "name": "stdout",
     "output_type": "stream",
     "text": [
      "His last name is Satish\n"
     ]
    }
   ],
   "source": [
    "my_function(fname = \"Ramesh\", lname = \"Satish\")"
   ]
  },
  {
   "cell_type": "code",
   "execution_count": null,
   "id": "faa8d718",
   "metadata": {},
   "outputs": [],
   "source": []
  }
 ],
 "metadata": {
  "kernelspec": {
   "display_name": "Python 3 (ipykernel)",
   "language": "python",
   "name": "python3"
  },
  "language_info": {
   "codemirror_mode": {
    "name": "ipython",
    "version": 3
   },
   "file_extension": ".py",
   "mimetype": "text/x-python",
   "name": "python",
   "nbconvert_exporter": "python",
   "pygments_lexer": "ipython3",
   "version": "3.11.4"
  }
 },
 "nbformat": 4,
 "nbformat_minor": 5
}
