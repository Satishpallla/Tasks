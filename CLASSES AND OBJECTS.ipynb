{
 "cells": [
  {
   "cell_type": "markdown",
   "id": "3ec1ad87",
   "metadata": {},
   "source": [
    "## Class and Objects"
   ]
  },
  {
   "cell_type": "markdown",
   "id": "86a765b4",
   "metadata": {},
   "source": [
    "* Python is an object oriented programming language.\n",
    "\n",
    "* Almost everything in Python is an object, with its properties and methods.\n",
    "\n",
    "* A Class is like an object constructor, or a \"blueprint\" for creating objects"
   ]
  },
  {
   "cell_type": "markdown",
   "id": "87a55582",
   "metadata": {},
   "source": [
    "## Class vs Object"
   ]
  },
  {
   "cell_type": "markdown",
   "id": "8acaefe5",
   "metadata": {},
   "source": [
    "* Class: Defines the blueprint or template for objects. It specifies what attributes and methods objects of the class will have.\n",
    "* Object: An instance of a class. It is created based on the class definition and represents a specific entity in the program"
   ]
  },
  {
   "cell_type": "markdown",
   "id": "1210affe",
   "metadata": {},
   "source": [
    "# Classes"
   ]
  },
  {
   "cell_type": "markdown",
   "id": "b9b7b1ce",
   "metadata": {},
   "source": [
    "* A class is a blueprint for creating objects. It defines a set of attributes (variables) and methods (functions) that the objects created from the class will have. Think of a class as a template or a prototype\n",
    "* Class is a combination of variables and methods"
   ]
  },
  {
   "cell_type": "markdown",
   "id": "faa726b5",
   "metadata": {},
   "source": [
    "## Create a class"
   ]
  },
  {
   "cell_type": "markdown",
   "id": "6f7647ee",
   "metadata": {},
   "source": [
    "To create a class, use the keyword class:"
   ]
  },
  {
   "cell_type": "code",
   "execution_count": 43,
   "id": "4933a931",
   "metadata": {},
   "outputs": [],
   "source": [
    "class Innostudent():\n",
    "    pass"
   ]
  },
  {
   "cell_type": "markdown",
   "id": "d72c3283",
   "metadata": {},
   "source": [
    "# Objects(instance)"
   ]
  },
  {
   "cell_type": "markdown",
   "id": "c6532f2e",
   "metadata": {},
   "source": [
    "An object is an instance of a class. It is a concrete realization of the class, created from the class blueprint. Objects have attributes and behaviors defined by the class"
   ]
  },
  {
   "cell_type": "code",
   "execution_count": 44,
   "id": "00c5dc38",
   "metadata": {},
   "outputs": [],
   "source": [
    "y = Innostudent()"
   ]
  },
  {
   "cell_type": "code",
   "execution_count": 48,
   "id": "2856d69a",
   "metadata": {},
   "outputs": [
    {
     "data": {
      "text/plain": [
       "['__class__',\n",
       " '__delattr__',\n",
       " '__dict__',\n",
       " '__dir__',\n",
       " '__doc__',\n",
       " '__eq__',\n",
       " '__format__',\n",
       " '__ge__',\n",
       " '__getattribute__',\n",
       " '__getstate__',\n",
       " '__gt__',\n",
       " '__hash__',\n",
       " '__init__',\n",
       " '__init_subclass__',\n",
       " '__le__',\n",
       " '__lt__',\n",
       " '__module__',\n",
       " '__ne__',\n",
       " '__new__',\n",
       " '__reduce__',\n",
       " '__reduce_ex__',\n",
       " '__repr__',\n",
       " '__setattr__',\n",
       " '__sizeof__',\n",
       " '__str__',\n",
       " '__subclasshook__',\n",
       " '__weakref__']"
      ]
     },
     "execution_count": 48,
     "metadata": {},
     "output_type": "execute_result"
    }
   ],
   "source": [
    "dir(y)"
   ]
  },
  {
   "cell_type": "markdown",
   "id": "8269fa47",
   "metadata": {},
   "source": [
    "## Accessing attributes"
   ]
  },
  {
   "cell_type": "markdown",
   "id": "afd8b9c1",
   "metadata": {},
   "source": [
    "You can access the attributes and call methods on objects using the dot notation"
   ]
  },
  {
   "cell_type": "code",
   "execution_count": 1,
   "id": "5af02c9f",
   "metadata": {},
   "outputs": [],
   "source": [
    "class Innostudent():\n",
    "    def __init__(self,fname,lname,gender,age):            # constructor\n",
    "        self.name = fname+' '+lname\n",
    "        self.gender = gender\n",
    "        self.age = age\n",
    "        self.email =fname+lname+str(age)+'@inno.com'"
   ]
  },
  {
   "cell_type": "code",
   "execution_count": 2,
   "id": "c840168b",
   "metadata": {},
   "outputs": [],
   "source": [
    "x = Innostudent('satish','palla','male',20)              # object"
   ]
  },
  {
   "cell_type": "code",
   "execution_count": 3,
   "id": "af4c7b52",
   "metadata": {},
   "outputs": [
    {
     "data": {
      "text/plain": [
       "('satishpalla20@inno.com', 'satish palla', 'male', 20)"
      ]
     },
     "execution_count": 3,
     "metadata": {},
     "output_type": "execute_result"
    }
   ],
   "source": [
    "x.email,x.name,x.gender,x.age"
   ]
  },
  {
   "cell_type": "code",
   "execution_count": null,
   "id": "e06e4c93",
   "metadata": {},
   "outputs": [],
   "source": []
  },
  {
   "cell_type": "code",
   "execution_count": null,
   "id": "21ea629d",
   "metadata": {},
   "outputs": [],
   "source": []
  },
  {
   "cell_type": "code",
   "execution_count": 4,
   "id": "291c599d",
   "metadata": {},
   "outputs": [],
   "source": [
    "class Student:\n",
    "    def __init__(self, fname, lname, gender, dob):\n",
    "        self.fname = fname\n",
    "        self.lname = lname\n",
    "        self.name = fname + ' ' + lname\n",
    "        self.dob = dob\n",
    "        self.gender = gender\n",
    "        self.email = fname+lname[:2]+dob[-2:]+'@stu.com'"
   ]
  },
  {
   "cell_type": "code",
   "execution_count": 5,
   "id": "6db616be",
   "metadata": {},
   "outputs": [],
   "source": [
    "stu1 = Student('Satish', 'Palla', 'Male', '19-08-2002')"
   ]
  },
  {
   "cell_type": "code",
   "execution_count": 13,
   "id": "268a7e18",
   "metadata": {},
   "outputs": [
    {
     "data": {
      "text/plain": [
       "'SatishPa02@stu.com'"
      ]
     },
     "execution_count": 13,
     "metadata": {},
     "output_type": "execute_result"
    }
   ],
   "source": [
    "stu1.email"
   ]
  },
  {
   "cell_type": "code",
   "execution_count": null,
   "id": "7599bdd1",
   "metadata": {},
   "outputs": [],
   "source": []
  },
  {
   "cell_type": "code",
   "execution_count": 11,
   "id": "75fae190",
   "metadata": {},
   "outputs": [],
   "source": [
    "class Student:\n",
    "    def __init__(self, fname, lname, gender,dob,*marks):\n",
    "        self.fname = fname\n",
    "        self.lname = lname\n",
    "        self.name = fname + ' ' + lname\n",
    "        self.dob = dob\n",
    "        self.gender = gender\n",
    "        self.email = fname+lname[:2]+dob[-2:]+'@stu.com'\n",
    "        self.fun = self.xyz()\n",
    "        \n",
    "    def xyz(self):\n",
    "        return('asdfgh')                             # Method"
   ]
  },
  {
   "cell_type": "code",
   "execution_count": 12,
   "id": "422ef232",
   "metadata": {},
   "outputs": [],
   "source": [
    "stu1 = Student('Satish', 'Palla', 'Male', '19-08-2002')"
   ]
  },
  {
   "cell_type": "code",
   "execution_count": 13,
   "id": "b885f79e",
   "metadata": {},
   "outputs": [
    {
     "data": {
      "text/plain": [
       "'SatishPa02@stu.com'"
      ]
     },
     "execution_count": 13,
     "metadata": {},
     "output_type": "execute_result"
    }
   ],
   "source": [
    "stu1.email"
   ]
  },
  {
   "cell_type": "code",
   "execution_count": 14,
   "id": "291fe683",
   "metadata": {},
   "outputs": [
    {
     "data": {
      "text/plain": [
       "'asdfgh'"
      ]
     },
     "execution_count": 14,
     "metadata": {},
     "output_type": "execute_result"
    }
   ],
   "source": [
    "stu1.fun"
   ]
  },
  {
   "cell_type": "code",
   "execution_count": null,
   "id": "fcefb3c7",
   "metadata": {},
   "outputs": [],
   "source": []
  },
  {
   "cell_type": "code",
   "execution_count": 15,
   "id": "8adc09b4",
   "metadata": {},
   "outputs": [
    {
     "data": {
      "text/plain": [
       "399"
      ]
     },
     "execution_count": 15,
     "metadata": {},
     "output_type": "execute_result"
    }
   ],
   "source": [
    "39+360"
   ]
  },
  {
   "cell_type": "code",
   "execution_count": 16,
   "id": "693eb235",
   "metadata": {},
   "outputs": [
    {
     "data": {
      "text/plain": [
       "79.8"
      ]
     },
     "execution_count": 16,
     "metadata": {},
     "output_type": "execute_result"
    }
   ],
   "source": [
    "399/5"
   ]
  },
  {
   "cell_type": "code",
   "execution_count": 24,
   "id": "8578bfef",
   "metadata": {},
   "outputs": [],
   "source": [
    "class Student:\n",
    "    def __init__(self, fname, lname, gender,dob,*marks):\n",
    "        self.fname = fname\n",
    "        self.lname = lname\n",
    "        self.name = fname + ' ' + lname\n",
    "        self.dob = dob\n",
    "        self.gender = gender\n",
    "        self.email = fname+lname[:2]+dob[-2:]+'@stu.com'\n",
    "        self.marks = marks\n",
    "        self.avg = self.result()[0]\n",
    "        self.res = self.result()[1]\n",
    "        \n",
    "    def result(self):\n",
    "        avg = (sum(self.marks)/len(self.marks))\n",
    "        if min(self.marks) < 40:\n",
    "            return avg,'Fail'\n",
    "        elif avg < 60:\n",
    "            return avg,'second class'\n",
    "        elif avg < 80:\n",
    "            return avg,'first class'\n",
    "        else:\n",
    "            return avg,'FCWD'"
   ]
  },
  {
   "cell_type": "code",
   "execution_count": 31,
   "id": "8739313f",
   "metadata": {},
   "outputs": [],
   "source": [
    "stu1 = Student('Satish', 'Palla', 'Male', '19-08-2002',*[39,90,90,90,90])"
   ]
  },
  {
   "cell_type": "code",
   "execution_count": 32,
   "id": "7a45e4be",
   "metadata": {},
   "outputs": [
    {
     "data": {
      "text/plain": [
       "(79.8, 'Fail')"
      ]
     },
     "execution_count": 32,
     "metadata": {},
     "output_type": "execute_result"
    }
   ],
   "source": [
    "stu1.avg, stu1.res"
   ]
  },
  {
   "cell_type": "code",
   "execution_count": null,
   "id": "44ea39bc",
   "metadata": {},
   "outputs": [],
   "source": []
  },
  {
   "cell_type": "code",
   "execution_count": 59,
   "id": "70aaad84",
   "metadata": {},
   "outputs": [],
   "source": [
    "class Student:\n",
    "    def __init__(self, fname, lname, gender,dob,passMark,*marks):\n",
    "        self.fname = fname\n",
    "        self.lname = lname\n",
    "        self.name = fname + ' ' + lname\n",
    "        self.dob = dob                                         # Constructor\n",
    "        self.gender = gender\n",
    "        self.email = fname+lname[:2]+dob[-2:]+'@stu.com'\n",
    "        self.marks = marks\n",
    "        self.passmark = passMark\n",
    "        self.avg = self.result()[0]\n",
    "        self.res = self.result()[1]\n",
    "        \n",
    "        \n",
    "    def result(self):\n",
    "        avg = (sum(self.marks)/len(self.marks))\n",
    "        if min(self.marks) < self.passmark:\n",
    "            return avg,'fail'\n",
    "        elif avg < 60:\n",
    "            return avg,'second class'\n",
    "        elif avg < 80:\n",
    "            return avg,'first class'\n",
    "        else:\n",
    "            return avg,'FCWD'"
   ]
  },
  {
   "cell_type": "code",
   "execution_count": 60,
   "id": "1765e41d",
   "metadata": {},
   "outputs": [],
   "source": [
    "stu1 = Student('Satish', 'Palla', 'Male', '19-08-2002',40,*[39,90,90,90,90])"
   ]
  },
  {
   "cell_type": "code",
   "execution_count": 61,
   "id": "4aa37238",
   "metadata": {},
   "outputs": [
    {
     "data": {
      "text/plain": [
       "(79.8, 'fail')"
      ]
     },
     "execution_count": 61,
     "metadata": {},
     "output_type": "execute_result"
    }
   ],
   "source": [
    "stu1.avg,stu1.res"
   ]
  },
  {
   "cell_type": "code",
   "execution_count": 63,
   "id": "5fb6e6f0",
   "metadata": {},
   "outputs": [
    {
     "data": {
      "text/plain": [
       "40"
      ]
     },
     "execution_count": 63,
     "metadata": {},
     "output_type": "execute_result"
    }
   ],
   "source": [
    "stu1.passmark"
   ]
  },
  {
   "cell_type": "code",
   "execution_count": 64,
   "id": "917a015b",
   "metadata": {},
   "outputs": [],
   "source": [
    "stu1.passmark = 10"
   ]
  },
  {
   "cell_type": "code",
   "execution_count": 65,
   "id": "52712fe1",
   "metadata": {},
   "outputs": [
    {
     "data": {
      "text/plain": [
       "10"
      ]
     },
     "execution_count": 65,
     "metadata": {},
     "output_type": "execute_result"
    }
   ],
   "source": [
    "stu1.passmark"
   ]
  },
  {
   "cell_type": "markdown",
   "id": "3cd85e79",
   "metadata": {},
   "source": [
    "# Instant Attribute"
   ]
  },
  {
   "cell_type": "markdown",
   "id": "8df956e4",
   "metadata": {},
   "source": [
    "* Instance attributes and object level attributes this may or may not have same values "
   ]
  },
  {
   "cell_type": "code",
   "execution_count": 67,
   "id": "f4aa09be",
   "metadata": {},
   "outputs": [],
   "source": [
    "class Stu:\n",
    "    def __init__(self,*marks):\n",
    "        self.passmark = 40\n",
    "        self.res = 'Fail' if min(marks) < self.passmark else 'pass'"
   ]
  },
  {
   "cell_type": "code",
   "execution_count": 68,
   "id": "5844bf35",
   "metadata": {},
   "outputs": [],
   "source": [
    "x = Stu(*[40,40,50])"
   ]
  },
  {
   "cell_type": "code",
   "execution_count": 69,
   "id": "3ded3926",
   "metadata": {},
   "outputs": [
    {
     "data": {
      "text/plain": [
       "'pass'"
      ]
     },
     "execution_count": 69,
     "metadata": {},
     "output_type": "execute_result"
    }
   ],
   "source": [
    "x.res"
   ]
  },
  {
   "cell_type": "code",
   "execution_count": 70,
   "id": "d35af76a",
   "metadata": {},
   "outputs": [],
   "source": [
    "x.passmark = 5"
   ]
  },
  {
   "cell_type": "code",
   "execution_count": 106,
   "id": "9f283587",
   "metadata": {},
   "outputs": [],
   "source": [
    "class Stu:\n",
    "    def __init__(self, *marks):\n",
    "        self.passmark = 40\n",
    "        self.marks = marks\n",
    "    def result(self):\n",
    "        return 'Fail' if min(self.marks) < self.passmark else 'success'"
   ]
  },
  {
   "cell_type": "code",
   "execution_count": 107,
   "id": "84fdc843",
   "metadata": {},
   "outputs": [],
   "source": [
    "x = Stu(*[32,50,45])"
   ]
  },
  {
   "cell_type": "code",
   "execution_count": 108,
   "id": "178249c6",
   "metadata": {},
   "outputs": [
    {
     "data": {
      "text/plain": [
       "'Fail'"
      ]
     },
     "execution_count": 108,
     "metadata": {},
     "output_type": "execute_result"
    }
   ],
   "source": [
    "x.result()"
   ]
  },
  {
   "cell_type": "code",
   "execution_count": 109,
   "id": "d3e5c6f1",
   "metadata": {},
   "outputs": [
    {
     "data": {
      "text/plain": [
       "['__class__',\n",
       " '__delattr__',\n",
       " '__dict__',\n",
       " '__dir__',\n",
       " '__doc__',\n",
       " '__eq__',\n",
       " '__format__',\n",
       " '__ge__',\n",
       " '__getattribute__',\n",
       " '__getstate__',\n",
       " '__gt__',\n",
       " '__hash__',\n",
       " '__init__',\n",
       " '__init_subclass__',\n",
       " '__le__',\n",
       " '__lt__',\n",
       " '__module__',\n",
       " '__ne__',\n",
       " '__new__',\n",
       " '__reduce__',\n",
       " '__reduce_ex__',\n",
       " '__repr__',\n",
       " '__setattr__',\n",
       " '__sizeof__',\n",
       " '__str__',\n",
       " '__subclasshook__',\n",
       " '__weakref__',\n",
       " 'marks',\n",
       " 'passmark',\n",
       " 'result']"
      ]
     },
     "execution_count": 109,
     "metadata": {},
     "output_type": "execute_result"
    }
   ],
   "source": [
    "dir(x)"
   ]
  },
  {
   "cell_type": "code",
   "execution_count": 110,
   "id": "c3cb6386",
   "metadata": {},
   "outputs": [
    {
     "data": {
      "text/plain": [
       "40"
      ]
     },
     "execution_count": 110,
     "metadata": {},
     "output_type": "execute_result"
    }
   ],
   "source": [
    "x.passmark"
   ]
  },
  {
   "cell_type": "code",
   "execution_count": 111,
   "id": "e1eb9ebb",
   "metadata": {},
   "outputs": [],
   "source": [
    "x.passmark = 1"
   ]
  },
  {
   "cell_type": "code",
   "execution_count": 112,
   "id": "4caaa149",
   "metadata": {},
   "outputs": [
    {
     "data": {
      "text/plain": [
       "1"
      ]
     },
     "execution_count": 112,
     "metadata": {},
     "output_type": "execute_result"
    }
   ],
   "source": [
    "x.passmark"
   ]
  },
  {
   "cell_type": "code",
   "execution_count": 114,
   "id": "e9fba002",
   "metadata": {},
   "outputs": [
    {
     "data": {
      "text/plain": [
       "'success'"
      ]
     },
     "execution_count": 114,
     "metadata": {},
     "output_type": "execute_result"
    }
   ],
   "source": [
    "x.result()"
   ]
  },
  {
   "cell_type": "markdown",
   "id": "a24a3f98",
   "metadata": {},
   "source": [
    "# Static attribute"
   ]
  },
  {
   "cell_type": "code",
   "execution_count": 115,
   "id": "bcace18b",
   "metadata": {},
   "outputs": [],
   "source": [
    "class Stu:\n",
    "    passmark = 40                       #static attribute\n",
    "    def __init__(self, *marks):\n",
    "        self.marks = marks\n",
    "    def result(self):                   # instant method\n",
    "        return 'Fail' if min(self.marks) < self.passmark else 'success'"
   ]
  },
  {
   "cell_type": "code",
   "execution_count": 116,
   "id": "28681adb",
   "metadata": {},
   "outputs": [],
   "source": [
    "x = Stu(*[23,56])"
   ]
  },
  {
   "cell_type": "code",
   "execution_count": 117,
   "id": "1c425380",
   "metadata": {},
   "outputs": [
    {
     "data": {
      "text/plain": [
       "'Fail'"
      ]
     },
     "execution_count": 117,
     "metadata": {},
     "output_type": "execute_result"
    }
   ],
   "source": [
    "x.result()"
   ]
  },
  {
   "cell_type": "code",
   "execution_count": null,
   "id": "5068e842",
   "metadata": {},
   "outputs": [],
   "source": []
  },
  {
   "cell_type": "code",
   "execution_count": null,
   "id": "36e307fd",
   "metadata": {},
   "outputs": [],
   "source": []
  }
 ],
 "metadata": {
  "kernelspec": {
   "display_name": "Python 3 (ipykernel)",
   "language": "python",
   "name": "python3"
  },
  "language_info": {
   "codemirror_mode": {
    "name": "ipython",
    "version": 3
   },
   "file_extension": ".py",
   "mimetype": "text/x-python",
   "name": "python",
   "nbconvert_exporter": "python",
   "pygments_lexer": "ipython3",
   "version": "3.11.4"
  }
 },
 "nbformat": 4,
 "nbformat_minor": 5
}
