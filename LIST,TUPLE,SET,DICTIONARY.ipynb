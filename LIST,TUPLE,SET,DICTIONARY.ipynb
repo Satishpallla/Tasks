{
 "cells": [
  {
   "cell_type": "markdown",
   "id": "c6fe91aa",
   "metadata": {},
   "source": [
    "# Collection datatypes"
   ]
  },
  {
   "cell_type": "markdown",
   "id": "774701d9",
   "metadata": {},
   "source": [
    "* List\n",
    "* Tuple\n",
    "* Set\n",
    "* Dictionary\n",
    "* Frozen sets\n",
    "\n",
    "* we use Integer,String,Float in collection Datatypes\n",
    "* But ATTRIBUTES are different"
   ]
  },
  {
   "cell_type": "markdown",
   "id": "1cb51797",
   "metadata": {},
   "source": [
    "# List [  ]"
   ]
  },
  {
   "cell_type": "markdown",
   "id": "1d26a7e6",
   "metadata": {},
   "source": [
    "In list datatype we store multiple values\n",
    "\n",
    "List datatype represented in square brackets [ ]"
   ]
  },
  {
   "cell_type": "markdown",
   "id": "accf8b5e",
   "metadata": {},
   "source": [
    "### Creating a list of values"
   ]
  },
  {
   "cell_type": "code",
   "execution_count": 5,
   "id": "3e9e63b4",
   "metadata": {},
   "outputs": [],
   "source": [
    "list = [1,2,3,4]"
   ]
  },
  {
   "cell_type": "markdown",
   "id": "b62a7bbe",
   "metadata": {},
   "source": [
    "### Basic function"
   ]
  },
  {
   "cell_type": "code",
   "execution_count": 6,
   "id": "1cb1a75d",
   "metadata": {},
   "outputs": [
    {
     "name": "stdout",
     "output_type": "stream",
     "text": [
      "[1, 2, 3, 4]\n"
     ]
    }
   ],
   "source": [
    "print(list)"
   ]
  },
  {
   "cell_type": "code",
   "execution_count": 7,
   "id": "1a8654f3",
   "metadata": {},
   "outputs": [
    {
     "data": {
      "text/plain": [
       "list"
      ]
     },
     "execution_count": 7,
     "metadata": {},
     "output_type": "execute_result"
    }
   ],
   "source": [
    "type(list)"
   ]
  },
  {
   "cell_type": "code",
   "execution_count": 8,
   "id": "3d2fbb2e",
   "metadata": {},
   "outputs": [
    {
     "data": {
      "text/plain": [
       "2110787075136"
      ]
     },
     "execution_count": 8,
     "metadata": {},
     "output_type": "execute_result"
    }
   ],
   "source": [
    "id(list)"
   ]
  },
  {
   "cell_type": "code",
   "execution_count": 9,
   "id": "2ff65921",
   "metadata": {},
   "outputs": [
    {
     "data": {
      "text/plain": [
       "4"
      ]
     },
     "execution_count": 9,
     "metadata": {},
     "output_type": "execute_result"
    }
   ],
   "source": [
    "len(list)"
   ]
  },
  {
   "cell_type": "markdown",
   "id": "918f47b8",
   "metadata": {},
   "source": [
    "### Create an empty list"
   ]
  },
  {
   "cell_type": "code",
   "execution_count": 10,
   "id": "e60ccd46",
   "metadata": {},
   "outputs": [],
   "source": [
    "val = []"
   ]
  },
  {
   "cell_type": "code",
   "execution_count": 12,
   "id": "2b51fd2b",
   "metadata": {},
   "outputs": [
    {
     "data": {
      "text/plain": [
       "0"
      ]
     },
     "execution_count": 12,
     "metadata": {},
     "output_type": "execute_result"
    }
   ],
   "source": [
    "len(val)"
   ]
  },
  {
   "cell_type": "code",
   "execution_count": 13,
   "id": "7bec64d5",
   "metadata": {},
   "outputs": [],
   "source": [
    "city = [\"kkd\",\"vizag\",\"mumbai\",\"hyd\"]"
   ]
  },
  {
   "cell_type": "code",
   "execution_count": 19,
   "id": "3b29c1ba",
   "metadata": {},
   "outputs": [
    {
     "name": "stdout",
     "output_type": "stream",
     "text": [
      "['kkd', 'vizag', 'mumbai', 'hyd']\n"
     ]
    }
   ],
   "source": [
    "print(city)"
   ]
  },
  {
   "cell_type": "code",
   "execution_count": 17,
   "id": "5b61d135",
   "metadata": {},
   "outputs": [],
   "source": [
    "programmes = [\"java\",\"sql\",\"c\",\"python\"]"
   ]
  },
  {
   "cell_type": "code",
   "execution_count": 20,
   "id": "5a82f57a",
   "metadata": {},
   "outputs": [
    {
     "name": "stdout",
     "output_type": "stream",
     "text": [
      "['java', 'sql', 'c', 'python']\n"
     ]
    }
   ],
   "source": [
    "print(programmes)"
   ]
  },
  {
   "cell_type": "code",
   "execution_count": 21,
   "id": "ad226cc9",
   "metadata": {},
   "outputs": [
    {
     "data": {
      "text/plain": [
       "list"
      ]
     },
     "execution_count": 21,
     "metadata": {},
     "output_type": "execute_result"
    }
   ],
   "source": [
    "type(city)"
   ]
  },
  {
   "cell_type": "code",
   "execution_count": 22,
   "id": "ffb953ca",
   "metadata": {},
   "outputs": [
    {
     "data": {
      "text/plain": [
       "2110800107392"
      ]
     },
     "execution_count": 22,
     "metadata": {},
     "output_type": "execute_result"
    }
   ],
   "source": [
    "id(city)"
   ]
  },
  {
   "cell_type": "code",
   "execution_count": 23,
   "id": "c0bbec1d",
   "metadata": {},
   "outputs": [
    {
     "data": {
      "text/plain": [
       "4"
      ]
     },
     "execution_count": 23,
     "metadata": {},
     "output_type": "execute_result"
    }
   ],
   "source": [
    "len(city)"
   ]
  },
  {
   "cell_type": "markdown",
   "id": "9a103bc9",
   "metadata": {},
   "source": [
    "# Atributes of list"
   ]
  },
  {
   "cell_type": "markdown",
   "id": "08c8bc41",
   "metadata": {},
   "source": [
    "* M = Mutable\n",
    "\n",
    "\n",
    "* O = Ordered\n",
    "\n",
    "\n",
    "* D = Duplicate\n",
    "\n",
    "\n",
    "* I = Index"
   ]
  },
  {
   "cell_type": "markdown",
   "id": "d97627ff",
   "metadata": {},
   "source": [
    "## Mutable"
   ]
  },
  {
   "cell_type": "markdown",
   "id": "b1dfcda7",
   "metadata": {},
   "source": [
    "* Mutable means change the orginal value`"
   ]
  },
  {
   "cell_type": "code",
   "execution_count": 24,
   "id": "718a435f",
   "metadata": {},
   "outputs": [],
   "source": [
    "a = 5"
   ]
  },
  {
   "cell_type": "code",
   "execution_count": 26,
   "id": "dcde1787",
   "metadata": {},
   "outputs": [
    {
     "data": {
      "text/plain": [
       "10"
      ]
     },
     "execution_count": 26,
     "metadata": {},
     "output_type": "execute_result"
    }
   ],
   "source": [
    "a + 5"
   ]
  },
  {
   "cell_type": "code",
   "execution_count": 27,
   "id": "f5ea5c2c",
   "metadata": {},
   "outputs": [
    {
     "data": {
      "text/plain": [
       "5"
      ]
     },
     "execution_count": 27,
     "metadata": {},
     "output_type": "execute_result"
    }
   ],
   "source": [
    "a"
   ]
  },
  {
   "cell_type": "code",
   "execution_count": 28,
   "id": "fb65a383",
   "metadata": {},
   "outputs": [],
   "source": [
    "b = \"Hello\""
   ]
  },
  {
   "cell_type": "code",
   "execution_count": 29,
   "id": "8dbc06e6",
   "metadata": {},
   "outputs": [
    {
     "data": {
      "text/plain": [
       "'Helloworld'"
      ]
     },
     "execution_count": 29,
     "metadata": {},
     "output_type": "execute_result"
    }
   ],
   "source": [
    "b + \"world\""
   ]
  },
  {
   "cell_type": "code",
   "execution_count": 30,
   "id": "0102fb92",
   "metadata": {},
   "outputs": [
    {
     "data": {
      "text/plain": [
       "'Hello'"
      ]
     },
     "execution_count": 30,
     "metadata": {},
     "output_type": "execute_result"
    }
   ],
   "source": [
    "b"
   ]
  },
  {
   "cell_type": "code",
   "execution_count": 35,
   "id": "480e3c7e",
   "metadata": {},
   "outputs": [],
   "source": [
    "c = 2.5"
   ]
  },
  {
   "cell_type": "code",
   "execution_count": 36,
   "id": "bac3943e",
   "metadata": {},
   "outputs": [
    {
     "data": {
      "text/plain": [
       "6.0"
      ]
     },
     "execution_count": 36,
     "metadata": {},
     "output_type": "execute_result"
    }
   ],
   "source": [
    "c + 3.5"
   ]
  },
  {
   "cell_type": "code",
   "execution_count": 37,
   "id": "26accb44",
   "metadata": {},
   "outputs": [
    {
     "data": {
      "text/plain": [
       "2.5"
      ]
     },
     "execution_count": 37,
     "metadata": {},
     "output_type": "execute_result"
    }
   ],
   "source": [
    "c"
   ]
  },
  {
   "cell_type": "code",
   "execution_count": 42,
   "id": "051e83f6",
   "metadata": {},
   "outputs": [],
   "source": [
    "list = [1,2,\"Hello\",True]"
   ]
  },
  {
   "cell_type": "code",
   "execution_count": 44,
   "id": "74f858d3",
   "metadata": {},
   "outputs": [],
   "source": [
    "list.append(5)"
   ]
  },
  {
   "cell_type": "code",
   "execution_count": 45,
   "id": "d9875199",
   "metadata": {},
   "outputs": [
    {
     "data": {
      "text/plain": [
       "[1, 2, 'Hello', True, 5]"
      ]
     },
     "execution_count": 45,
     "metadata": {},
     "output_type": "execute_result"
    }
   ],
   "source": [
    "list"
   ]
  },
  {
   "cell_type": "markdown",
   "id": "05ea39a2",
   "metadata": {},
   "source": [
    "## Ordered"
   ]
  },
  {
   "cell_type": "markdown",
   "id": "ebd044e0",
   "metadata": {},
   "source": [
    "* Follow some sequency or numbering"
   ]
  },
  {
   "cell_type": "code",
   "execution_count": 1,
   "id": "fbf3b02c",
   "metadata": {},
   "outputs": [],
   "source": [
    "list = [1,2,3,4,6]"
   ]
  },
  {
   "cell_type": "code",
   "execution_count": 3,
   "id": "b1ef2e84",
   "metadata": {},
   "outputs": [
    {
     "data": {
      "text/plain": [
       "4"
      ]
     },
     "execution_count": 3,
     "metadata": {},
     "output_type": "execute_result"
    }
   ],
   "source": [
    "list[3]"
   ]
  },
  {
   "cell_type": "code",
   "execution_count": 4,
   "id": "6488d2ec",
   "metadata": {},
   "outputs": [],
   "source": [
    "list =[1,2,\"Hello\",5.5,2+3j]"
   ]
  },
  {
   "cell_type": "code",
   "execution_count": 5,
   "id": "7858efd8",
   "metadata": {},
   "outputs": [
    {
     "data": {
      "text/plain": [
       "[2, 'Hello', 5.5, (2+3j)]"
      ]
     },
     "execution_count": 5,
     "metadata": {},
     "output_type": "execute_result"
    }
   ],
   "source": [
    "list[1:5]"
   ]
  },
  {
   "cell_type": "code",
   "execution_count": 6,
   "id": "1c1737c5",
   "metadata": {},
   "outputs": [
    {
     "data": {
      "text/plain": [
       "[1, 2, 'Hello', 5.5, (2+3j)]"
      ]
     },
     "execution_count": 6,
     "metadata": {},
     "output_type": "execute_result"
    }
   ],
   "source": [
    "list[0:7]"
   ]
  },
  {
   "cell_type": "code",
   "execution_count": 11,
   "id": "fa34a412",
   "metadata": {},
   "outputs": [
    {
     "data": {
      "text/plain": [
       "[(2+3j), 5.5, 'Hello', 2]"
      ]
     },
     "execution_count": 11,
     "metadata": {},
     "output_type": "execute_result"
    }
   ],
   "source": [
    "list[-1:-5:-1]"
   ]
  },
  {
   "cell_type": "code",
   "execution_count": 12,
   "id": "febaee67",
   "metadata": {},
   "outputs": [
    {
     "data": {
      "text/plain": [
       "[5.5, 2]"
      ]
     },
     "execution_count": 12,
     "metadata": {},
     "output_type": "execute_result"
    }
   ],
   "source": [
    "list[-2:-5:-2]"
   ]
  },
  {
   "cell_type": "markdown",
   "id": "865723e2",
   "metadata": {},
   "source": [
    "## Duplicate"
   ]
  },
  {
   "cell_type": "markdown",
   "id": "6582e03a",
   "metadata": {},
   "source": [
    "* It allows duplicate values"
   ]
  },
  {
   "cell_type": "code",
   "execution_count": 13,
   "id": "11b28b5f",
   "metadata": {},
   "outputs": [],
   "source": [
    "list = [1,2,3,3,4,4,5]"
   ]
  },
  {
   "cell_type": "code",
   "execution_count": 15,
   "id": "3fd13ce5",
   "metadata": {},
   "outputs": [
    {
     "data": {
      "text/plain": [
       "[1, 2, 3, 3, 4, 4, 5]"
      ]
     },
     "execution_count": 15,
     "metadata": {},
     "output_type": "execute_result"
    }
   ],
   "source": [
    "list"
   ]
  },
  {
   "cell_type": "code",
   "execution_count": 16,
   "id": "baf30c77",
   "metadata": {},
   "outputs": [],
   "source": [
    "a = [\"python\",\"c\",\"python\",\"c ++\",\"sql\"]"
   ]
  },
  {
   "cell_type": "code",
   "execution_count": 17,
   "id": "b34f09f6",
   "metadata": {},
   "outputs": [
    {
     "data": {
      "text/plain": [
       "['python', 'c', 'python', 'c ++', 'sql']"
      ]
     },
     "execution_count": 17,
     "metadata": {},
     "output_type": "execute_result"
    }
   ],
   "source": [
    "a"
   ]
  },
  {
   "cell_type": "markdown",
   "id": "9ec61441",
   "metadata": {},
   "source": [
    "## Index"
   ]
  },
  {
   "cell_type": "markdown",
   "id": "4c0b6510",
   "metadata": {},
   "source": [
    "* It follows index number\n",
    "\n",
    "* we apply string concept in index"
   ]
  },
  {
   "cell_type": "code",
   "execution_count": 18,
   "id": "09cb5977",
   "metadata": {},
   "outputs": [],
   "source": [
    "list = [\"java\",\"python\",\"c\",\"c++\",\"sql\"]"
   ]
  },
  {
   "cell_type": "code",
   "execution_count": 19,
   "id": "8a19102a",
   "metadata": {},
   "outputs": [
    {
     "data": {
      "text/plain": [
       "'python'"
      ]
     },
     "execution_count": 19,
     "metadata": {},
     "output_type": "execute_result"
    }
   ],
   "source": [
    "list[1]"
   ]
  },
  {
   "cell_type": "code",
   "execution_count": 21,
   "id": "e464d799",
   "metadata": {},
   "outputs": [
    {
     "data": {
      "text/plain": [
       "'sql'"
      ]
     },
     "execution_count": 21,
     "metadata": {},
     "output_type": "execute_result"
    }
   ],
   "source": [
    "list[4]"
   ]
  },
  {
   "cell_type": "code",
   "execution_count": 22,
   "id": "f1c82320",
   "metadata": {},
   "outputs": [
    {
     "data": {
      "text/plain": [
       "'He'"
      ]
     },
     "execution_count": 22,
     "metadata": {},
     "output_type": "execute_result"
    }
   ],
   "source": [
    "a = \"Hello\"\n",
    "a [0:2]"
   ]
  },
  {
   "cell_type": "code",
   "execution_count": 23,
   "id": "d859ace4",
   "metadata": {},
   "outputs": [],
   "source": [
    "list = [\"java\",\"python\",\"c\",\"c++\",\"sql\"]"
   ]
  },
  {
   "cell_type": "code",
   "execution_count": 25,
   "id": "a91302f7",
   "metadata": {},
   "outputs": [
    {
     "data": {
      "text/plain": [
       "'pytho'"
      ]
     },
     "execution_count": 25,
     "metadata": {},
     "output_type": "execute_result"
    }
   ],
   "source": [
    "list[1] [0:5]"
   ]
  },
  {
   "cell_type": "markdown",
   "id": "49424e3c",
   "metadata": {},
   "source": [
    "## Mathematical functions"
   ]
  },
  {
   "cell_type": "code",
   "execution_count": 32,
   "id": "c68ed042",
   "metadata": {},
   "outputs": [],
   "source": [
    "l = [1,2,4,7,52,45]"
   ]
  },
  {
   "cell_type": "code",
   "execution_count": 33,
   "id": "9e0e8810",
   "metadata": {},
   "outputs": [
    {
     "data": {
      "text/plain": [
       "52"
      ]
     },
     "execution_count": 33,
     "metadata": {},
     "output_type": "execute_result"
    }
   ],
   "source": [
    "max(l)"
   ]
  },
  {
   "cell_type": "code",
   "execution_count": 34,
   "id": "c3bc6b7d",
   "metadata": {},
   "outputs": [
    {
     "data": {
      "text/plain": [
       "1"
      ]
     },
     "execution_count": 34,
     "metadata": {},
     "output_type": "execute_result"
    }
   ],
   "source": [
    "min(l)"
   ]
  },
  {
   "cell_type": "code",
   "execution_count": 35,
   "id": "d26309c9",
   "metadata": {},
   "outputs": [
    {
     "data": {
      "text/plain": [
       "111"
      ]
     },
     "execution_count": 35,
     "metadata": {},
     "output_type": "execute_result"
    }
   ],
   "source": [
    "sum(l)"
   ]
  },
  {
   "cell_type": "markdown",
   "id": "14f8c7bc",
   "metadata": {},
   "source": [
    "## List methods and functions"
   ]
  },
  {
   "cell_type": "markdown",
   "id": "63a0fc64",
   "metadata": {},
   "source": [
    "### append ()"
   ]
  },
  {
   "cell_type": "code",
   "execution_count": 47,
   "id": "8db41eed",
   "metadata": {},
   "outputs": [],
   "source": [
    "list1 = [1,2,3,4,5]"
   ]
  },
  {
   "cell_type": "code",
   "execution_count": 48,
   "id": "69e3d3ff",
   "metadata": {},
   "outputs": [],
   "source": [
    "list1.append(100)           # append means adding and joining at the end"
   ]
  },
  {
   "cell_type": "code",
   "execution_count": 49,
   "id": "a5b9f6cd",
   "metadata": {},
   "outputs": [
    {
     "data": {
      "text/plain": [
       "[1, 2, 3, 4, 5, 100]"
      ]
     },
     "execution_count": 49,
     "metadata": {},
     "output_type": "execute_result"
    }
   ],
   "source": [
    "list1"
   ]
  },
  {
   "cell_type": "code",
   "execution_count": 50,
   "id": "c7f52aad",
   "metadata": {},
   "outputs": [],
   "source": [
    "list2 = [1,2,5,76,\"hello\"]"
   ]
  },
  {
   "cell_type": "code",
   "execution_count": 51,
   "id": "1c436c8f",
   "metadata": {},
   "outputs": [],
   "source": [
    "list2.append(\"world\")"
   ]
  },
  {
   "cell_type": "code",
   "execution_count": 52,
   "id": "ab8b36b0",
   "metadata": {},
   "outputs": [
    {
     "data": {
      "text/plain": [
       "[1, 2, 5, 76, 'hello', 'world']"
      ]
     },
     "execution_count": 52,
     "metadata": {},
     "output_type": "execute_result"
    }
   ],
   "source": [
    "list2"
   ]
  },
  {
   "cell_type": "markdown",
   "id": "5cbf914a",
   "metadata": {},
   "source": [
    "### Insert()"
   ]
  },
  {
   "cell_type": "code",
   "execution_count": 54,
   "id": "13f0b834",
   "metadata": {},
   "outputs": [],
   "source": [
    "list = [11,22,33,45,67,89,43,20]"
   ]
  },
  {
   "cell_type": "code",
   "execution_count": 56,
   "id": "13d41894",
   "metadata": {},
   "outputs": [],
   "source": [
    "list.insert(2,10)                  # adding values between number"
   ]
  },
  {
   "cell_type": "code",
   "execution_count": 57,
   "id": "c36068d0",
   "metadata": {},
   "outputs": [
    {
     "data": {
      "text/plain": [
       "[11, 22, 10, 33, 45, 67, 89, 43, 20]"
      ]
     },
     "execution_count": 57,
     "metadata": {},
     "output_type": "execute_result"
    }
   ],
   "source": [
    "list"
   ]
  },
  {
   "cell_type": "code",
   "execution_count": 58,
   "id": "5d49eed7",
   "metadata": {},
   "outputs": [],
   "source": [
    "list = [22,34,74,\"hello\"]"
   ]
  },
  {
   "cell_type": "code",
   "execution_count": 59,
   "id": "bc95ce48",
   "metadata": {},
   "outputs": [],
   "source": [
    "list.insert(4,\"world\")"
   ]
  },
  {
   "cell_type": "code",
   "execution_count": 60,
   "id": "91f5fb27",
   "metadata": {},
   "outputs": [
    {
     "data": {
      "text/plain": [
       "[22, 34, 74, 'hello', 'world']"
      ]
     },
     "execution_count": 60,
     "metadata": {},
     "output_type": "execute_result"
    }
   ],
   "source": [
    "list"
   ]
  },
  {
   "cell_type": "code",
   "execution_count": 61,
   "id": "606d307f",
   "metadata": {},
   "outputs": [],
   "source": [
    "list.insert(2,80)"
   ]
  },
  {
   "cell_type": "code",
   "execution_count": 62,
   "id": "8e0b9da2",
   "metadata": {},
   "outputs": [
    {
     "data": {
      "text/plain": [
       "[22, 34, 80, 74, 'hello', 'world']"
      ]
     },
     "execution_count": 62,
     "metadata": {},
     "output_type": "execute_result"
    }
   ],
   "source": [
    "list"
   ]
  },
  {
   "cell_type": "markdown",
   "id": "82067370",
   "metadata": {},
   "source": [
    "## Extend ()"
   ]
  },
  {
   "cell_type": "code",
   "execution_count": 73,
   "id": "93abd327",
   "metadata": {},
   "outputs": [],
   "source": [
    "list2 = [1,2,3,4,5,5,5,6,6,7]"
   ]
  },
  {
   "cell_type": "code",
   "execution_count": 74,
   "id": "4d16bffb",
   "metadata": {},
   "outputs": [],
   "source": [
    "list2.extend([0,0,0])                # adding more values at the end"
   ]
  },
  {
   "cell_type": "code",
   "execution_count": 75,
   "id": "cf09c786",
   "metadata": {},
   "outputs": [
    {
     "data": {
      "text/plain": [
       "[1, 2, 3, 4, 5, 5, 5, 6, 6, 7, 0, 0, 0]"
      ]
     },
     "execution_count": 75,
     "metadata": {},
     "output_type": "execute_result"
    }
   ],
   "source": [
    "list2"
   ]
  },
  {
   "cell_type": "code",
   "execution_count": 76,
   "id": "ea6384a2",
   "metadata": {},
   "outputs": [],
   "source": [
    "list = [2,5,8,\"hello\"]"
   ]
  },
  {
   "cell_type": "code",
   "execution_count": 77,
   "id": "707b0420",
   "metadata": {},
   "outputs": [],
   "source": [
    "list.extend([\"world\"])"
   ]
  },
  {
   "cell_type": "code",
   "execution_count": 78,
   "id": "811efcb7",
   "metadata": {},
   "outputs": [
    {
     "data": {
      "text/plain": [
       "[2, 5, 8, 'hello', 'world']"
      ]
     },
     "execution_count": 78,
     "metadata": {},
     "output_type": "execute_result"
    }
   ],
   "source": [
    "list"
   ]
  },
  {
   "cell_type": "markdown",
   "id": "b0e99ecf",
   "metadata": {},
   "source": [
    "## remove()"
   ]
  },
  {
   "cell_type": "code",
   "execution_count": 79,
   "id": "17b20f62",
   "metadata": {},
   "outputs": [],
   "source": [
    "list = [12,23,45,56,67]"
   ]
  },
  {
   "cell_type": "code",
   "execution_count": 81,
   "id": "8ffd5f86",
   "metadata": {},
   "outputs": [],
   "source": [
    "list.remove(23)                  # based on value you can remove "
   ]
  },
  {
   "cell_type": "code",
   "execution_count": 82,
   "id": "c91caedd",
   "metadata": {},
   "outputs": [
    {
     "data": {
      "text/plain": [
       "[12, 45, 56, 67]"
      ]
     },
     "execution_count": 82,
     "metadata": {},
     "output_type": "execute_result"
    }
   ],
   "source": [
    "list"
   ]
  },
  {
   "cell_type": "code",
   "execution_count": 83,
   "id": "444aa93a",
   "metadata": {},
   "outputs": [],
   "source": [
    "name = [\"sai\",\"bunny\",\"ganesh\",\"satish\",\"suresh\"]"
   ]
  },
  {
   "cell_type": "code",
   "execution_count": 84,
   "id": "7f0c2ed8",
   "metadata": {},
   "outputs": [],
   "source": [
    "name.remove(\"suresh\")"
   ]
  },
  {
   "cell_type": "code",
   "execution_count": 85,
   "id": "46438542",
   "metadata": {},
   "outputs": [
    {
     "data": {
      "text/plain": [
       "['sai', 'bunny', 'ganesh', 'satish']"
      ]
     },
     "execution_count": 85,
     "metadata": {},
     "output_type": "execute_result"
    }
   ],
   "source": [
    "name"
   ]
  },
  {
   "cell_type": "markdown",
   "id": "37904bd8",
   "metadata": {},
   "source": [
    "## pop()"
   ]
  },
  {
   "cell_type": "code",
   "execution_count": 86,
   "id": "eecdb101",
   "metadata": {},
   "outputs": [],
   "source": [
    "list3 = [10,20,30,40,50,60]               # Remove the value based on the index number"
   ]
  },
  {
   "cell_type": "code",
   "execution_count": 87,
   "id": "1713fba5",
   "metadata": {},
   "outputs": [
    {
     "data": {
      "text/plain": [
       "30"
      ]
     },
     "execution_count": 87,
     "metadata": {},
     "output_type": "execute_result"
    }
   ],
   "source": [
    "list3.pop(2)"
   ]
  },
  {
   "cell_type": "code",
   "execution_count": 88,
   "id": "a336b1e5",
   "metadata": {},
   "outputs": [
    {
     "data": {
      "text/plain": [
       "[10, 20, 40, 50, 60]"
      ]
     },
     "execution_count": 88,
     "metadata": {},
     "output_type": "execute_result"
    }
   ],
   "source": [
    "list3"
   ]
  },
  {
   "cell_type": "code",
   "execution_count": 89,
   "id": "d1728ff3",
   "metadata": {},
   "outputs": [],
   "source": [
    "list = [\"python\",\"sql\",\"c\",\"c++\"]"
   ]
  },
  {
   "cell_type": "code",
   "execution_count": 90,
   "id": "ffe33dcd",
   "metadata": {},
   "outputs": [
    {
     "data": {
      "text/plain": [
       "'c++'"
      ]
     },
     "execution_count": 90,
     "metadata": {},
     "output_type": "execute_result"
    }
   ],
   "source": [
    "list.pop(3)"
   ]
  },
  {
   "cell_type": "code",
   "execution_count": 91,
   "id": "f72ffdf6",
   "metadata": {},
   "outputs": [
    {
     "data": {
      "text/plain": [
       "['python', 'sql', 'c']"
      ]
     },
     "execution_count": 91,
     "metadata": {},
     "output_type": "execute_result"
    }
   ],
   "source": [
    "list"
   ]
  },
  {
   "cell_type": "markdown",
   "id": "e63f8d8d",
   "metadata": {},
   "source": [
    "## clear()"
   ]
  },
  {
   "cell_type": "code",
   "execution_count": 93,
   "id": "9b4015ab",
   "metadata": {},
   "outputs": [],
   "source": [
    "list1 = [12,344,45,67,89,90]"
   ]
  },
  {
   "cell_type": "code",
   "execution_count": 94,
   "id": "1f00bb24",
   "metadata": {},
   "outputs": [],
   "source": [
    "list.clear()"
   ]
  },
  {
   "cell_type": "code",
   "execution_count": 95,
   "id": "dfc8e3b9",
   "metadata": {},
   "outputs": [
    {
     "data": {
      "text/plain": [
       "[]"
      ]
     },
     "execution_count": 95,
     "metadata": {},
     "output_type": "execute_result"
    }
   ],
   "source": [
    "list"
   ]
  },
  {
   "cell_type": "code",
   "execution_count": 96,
   "id": "e8dd8e7a",
   "metadata": {},
   "outputs": [
    {
     "data": {
      "text/plain": [
       "[12, 344, 45, 67, 89, 90]"
      ]
     },
     "execution_count": 96,
     "metadata": {},
     "output_type": "execute_result"
    }
   ],
   "source": [
    "list1"
   ]
  },
  {
   "cell_type": "code",
   "execution_count": 99,
   "id": "89debf03",
   "metadata": {},
   "outputs": [
    {
     "data": {
      "text/plain": [
       "[12, 344, 45, 67, 89, 90, 100, 200]"
      ]
     },
     "execution_count": 99,
     "metadata": {},
     "output_type": "execute_result"
    }
   ],
   "source": [
    "list1 + [100,200]"
   ]
  },
  {
   "cell_type": "code",
   "execution_count": 100,
   "id": "7e056c48",
   "metadata": {},
   "outputs": [
    {
     "data": {
      "text/plain": [
       "[12, 344, 45, 67, 89, 90, 12, 344, 45, 67, 89, 90, 12, 344, 45, 67, 89, 90]"
      ]
     },
     "execution_count": 100,
     "metadata": {},
     "output_type": "execute_result"
    }
   ],
   "source": [
    "list1 * 3"
   ]
  },
  {
   "cell_type": "markdown",
   "id": "20c31fdb",
   "metadata": {},
   "source": [
    "## copy()"
   ]
  },
  {
   "cell_type": "code",
   "execution_count": 102,
   "id": "7d4b8c78",
   "metadata": {},
   "outputs": [],
   "source": [
    "list = [\"hello\",23,32]"
   ]
  },
  {
   "cell_type": "code",
   "execution_count": 103,
   "id": "60d3a06b",
   "metadata": {},
   "outputs": [
    {
     "data": {
      "text/plain": [
       "['hello', 23, 32]"
      ]
     },
     "execution_count": 103,
     "metadata": {},
     "output_type": "execute_result"
    }
   ],
   "source": [
    "list.copy()"
   ]
  },
  {
   "cell_type": "markdown",
   "id": "d94354dd",
   "metadata": {},
   "source": [
    "## count()"
   ]
  },
  {
   "cell_type": "code",
   "execution_count": 104,
   "id": "be52f6a5",
   "metadata": {},
   "outputs": [],
   "source": [
    "list = [1,2,3,5,5,6,6,7,5,8,9,]"
   ]
  },
  {
   "cell_type": "code",
   "execution_count": 105,
   "id": "2837f45a",
   "metadata": {},
   "outputs": [
    {
     "data": {
      "text/plain": [
       "1"
      ]
     },
     "execution_count": 105,
     "metadata": {},
     "output_type": "execute_result"
    }
   ],
   "source": [
    "list.count(1)                        # it counts the number of values"
   ]
  },
  {
   "cell_type": "code",
   "execution_count": 106,
   "id": "8e06dec8",
   "metadata": {},
   "outputs": [
    {
     "data": {
      "text/plain": [
       "3"
      ]
     },
     "execution_count": 106,
     "metadata": {},
     "output_type": "execute_result"
    }
   ],
   "source": [
    "list.count(5)"
   ]
  },
  {
   "cell_type": "code",
   "execution_count": 108,
   "id": "dbfe6e9b",
   "metadata": {},
   "outputs": [],
   "source": [
    "name = [\"sai\",\"bunny\",\"ganesh\",\"satish\",\"suresh\",\"sai\"]"
   ]
  },
  {
   "cell_type": "code",
   "execution_count": 110,
   "id": "a47b4d06",
   "metadata": {},
   "outputs": [
    {
     "data": {
      "text/plain": [
       "2"
      ]
     },
     "execution_count": 110,
     "metadata": {},
     "output_type": "execute_result"
    }
   ],
   "source": [
    "name.count(\"sai\")"
   ]
  },
  {
   "cell_type": "markdown",
   "id": "3ae4d771",
   "metadata": {},
   "source": [
    "## index()"
   ]
  },
  {
   "cell_type": "code",
   "execution_count": 114,
   "id": "5cba9a2c",
   "metadata": {},
   "outputs": [],
   "source": [
    "list = [\"hello\",1,2,3,5,\"hi\",5,6,6,7,\"hlo\",5,8,9,\"sql\"]"
   ]
  },
  {
   "cell_type": "code",
   "execution_count": 116,
   "id": "93657351",
   "metadata": {},
   "outputs": [
    {
     "data": {
      "text/plain": [
       "10"
      ]
     },
     "execution_count": 116,
     "metadata": {},
     "output_type": "execute_result"
    }
   ],
   "source": [
    "list.index(\"hlo\")                  # it represent the place of selected value"
   ]
  },
  {
   "cell_type": "markdown",
   "id": "ec7b02e0",
   "metadata": {},
   "source": [
    "# Tuple()"
   ]
  },
  {
   "cell_type": "markdown",
   "id": "73e38e8b",
   "metadata": {},
   "source": [
    "* In tuple datatype we can store multiple values\n",
    "\n",
    "* Tuple datatype represents in parantheses ( )"
   ]
  },
  {
   "cell_type": "code",
   "execution_count": 1,
   "id": "e1c2714b",
   "metadata": {},
   "outputs": [
    {
     "name": "stdout",
     "output_type": "stream",
     "text": [
      "Help on class tuple in module builtins:\n",
      "\n",
      "class tuple(object)\n",
      " |  tuple(iterable=(), /)\n",
      " |  \n",
      " |  Built-in immutable sequence.\n",
      " |  \n",
      " |  If no argument is given, the constructor returns an empty tuple.\n",
      " |  If iterable is specified the tuple is initialized from iterable's items.\n",
      " |  \n",
      " |  If the argument is a tuple, the return value is the same object.\n",
      " |  \n",
      " |  Built-in subclasses:\n",
      " |      asyncgen_hooks\n",
      " |      UnraisableHookArgs\n",
      " |  \n",
      " |  Methods defined here:\n",
      " |  \n",
      " |  __add__(self, value, /)\n",
      " |      Return self+value.\n",
      " |  \n",
      " |  __contains__(self, key, /)\n",
      " |      Return key in self.\n",
      " |  \n",
      " |  __eq__(self, value, /)\n",
      " |      Return self==value.\n",
      " |  \n",
      " |  __ge__(self, value, /)\n",
      " |      Return self>=value.\n",
      " |  \n",
      " |  __getattribute__(self, name, /)\n",
      " |      Return getattr(self, name).\n",
      " |  \n",
      " |  __getitem__(self, key, /)\n",
      " |      Return self[key].\n",
      " |  \n",
      " |  __getnewargs__(self, /)\n",
      " |  \n",
      " |  __gt__(self, value, /)\n",
      " |      Return self>value.\n",
      " |  \n",
      " |  __hash__(self, /)\n",
      " |      Return hash(self).\n",
      " |  \n",
      " |  __iter__(self, /)\n",
      " |      Implement iter(self).\n",
      " |  \n",
      " |  __le__(self, value, /)\n",
      " |      Return self<=value.\n",
      " |  \n",
      " |  __len__(self, /)\n",
      " |      Return len(self).\n",
      " |  \n",
      " |  __lt__(self, value, /)\n",
      " |      Return self<value.\n",
      " |  \n",
      " |  __mul__(self, value, /)\n",
      " |      Return self*value.\n",
      " |  \n",
      " |  __ne__(self, value, /)\n",
      " |      Return self!=value.\n",
      " |  \n",
      " |  __repr__(self, /)\n",
      " |      Return repr(self).\n",
      " |  \n",
      " |  __rmul__(self, value, /)\n",
      " |      Return value*self.\n",
      " |  \n",
      " |  count(self, value, /)\n",
      " |      Return number of occurrences of value.\n",
      " |  \n",
      " |  index(self, value, start=0, stop=9223372036854775807, /)\n",
      " |      Return first index of value.\n",
      " |      \n",
      " |      Raises ValueError if the value is not present.\n",
      " |  \n",
      " |  ----------------------------------------------------------------------\n",
      " |  Class methods defined here:\n",
      " |  \n",
      " |  __class_getitem__(...) from builtins.type\n",
      " |      See PEP 585\n",
      " |  \n",
      " |  ----------------------------------------------------------------------\n",
      " |  Static methods defined here:\n",
      " |  \n",
      " |  __new__(*args, **kwargs) from builtins.type\n",
      " |      Create and return a new object.  See help(type) for accurate signature.\n",
      "\n"
     ]
    }
   ],
   "source": [
    "help(tuple)"
   ]
  },
  {
   "cell_type": "markdown",
   "id": "3edc4f5b",
   "metadata": {},
   "source": [
    "## Creating the tuple"
   ]
  },
  {
   "cell_type": "code",
   "execution_count": 8,
   "id": "05cc731f",
   "metadata": {},
   "outputs": [],
   "source": [
    "tup = (1,2,3,4,5)"
   ]
  },
  {
   "cell_type": "code",
   "execution_count": 10,
   "id": "319374b2",
   "metadata": {},
   "outputs": [
    {
     "name": "stdout",
     "output_type": "stream",
     "text": [
      "<class 'tuple'>\n"
     ]
    }
   ],
   "source": [
    "print(tuple)"
   ]
  },
  {
   "cell_type": "code",
   "execution_count": 11,
   "id": "b6222dd8",
   "metadata": {},
   "outputs": [
    {
     "name": "stdout",
     "output_type": "stream",
     "text": [
      "(1, 2, 3, 4, 5)\n"
     ]
    }
   ],
   "source": [
    "print(tup)"
   ]
  },
  {
   "cell_type": "code",
   "execution_count": 5,
   "id": "3b2af8b9",
   "metadata": {},
   "outputs": [
    {
     "data": {
      "text/plain": [
       "tuple"
      ]
     },
     "execution_count": 5,
     "metadata": {},
     "output_type": "execute_result"
    }
   ],
   "source": [
    "type(tup)"
   ]
  },
  {
   "cell_type": "code",
   "execution_count": 6,
   "id": "4328c5b6",
   "metadata": {},
   "outputs": [
    {
     "data": {
      "text/plain": [
       "1681181064176"
      ]
     },
     "execution_count": 6,
     "metadata": {},
     "output_type": "execute_result"
    }
   ],
   "source": [
    "id(tup)"
   ]
  },
  {
   "cell_type": "code",
   "execution_count": 7,
   "id": "6b8d5afb",
   "metadata": {},
   "outputs": [
    {
     "data": {
      "text/plain": [
       "5"
      ]
     },
     "execution_count": 7,
     "metadata": {},
     "output_type": "execute_result"
    }
   ],
   "source": [
    "len(tup)"
   ]
  },
  {
   "cell_type": "code",
   "execution_count": 12,
   "id": "73683edf",
   "metadata": {},
   "outputs": [
    {
     "data": {
      "text/plain": [
       "['__add__',\n",
       " '__class__',\n",
       " '__class_getitem__',\n",
       " '__contains__',\n",
       " '__delattr__',\n",
       " '__dir__',\n",
       " '__doc__',\n",
       " '__eq__',\n",
       " '__format__',\n",
       " '__ge__',\n",
       " '__getattribute__',\n",
       " '__getitem__',\n",
       " '__getnewargs__',\n",
       " '__getstate__',\n",
       " '__gt__',\n",
       " '__hash__',\n",
       " '__init__',\n",
       " '__init_subclass__',\n",
       " '__iter__',\n",
       " '__le__',\n",
       " '__len__',\n",
       " '__lt__',\n",
       " '__mul__',\n",
       " '__ne__',\n",
       " '__new__',\n",
       " '__reduce__',\n",
       " '__reduce_ex__',\n",
       " '__repr__',\n",
       " '__rmul__',\n",
       " '__setattr__',\n",
       " '__sizeof__',\n",
       " '__str__',\n",
       " '__subclasshook__',\n",
       " 'count',\n",
       " 'index']"
      ]
     },
     "execution_count": 12,
     "metadata": {},
     "output_type": "execute_result"
    }
   ],
   "source": [
    "dir(tuple)"
   ]
  },
  {
   "cell_type": "code",
   "execution_count": 13,
   "id": "ba2f4a77",
   "metadata": {},
   "outputs": [],
   "source": [
    "val = tuple ([\"hello\",\"hai\",\"bye\"])"
   ]
  },
  {
   "cell_type": "code",
   "execution_count": 14,
   "id": "02096cbe",
   "metadata": {},
   "outputs": [
    {
     "data": {
      "text/plain": [
       "tuple"
      ]
     },
     "execution_count": 14,
     "metadata": {},
     "output_type": "execute_result"
    }
   ],
   "source": [
    "type(val)"
   ]
  },
  {
   "cell_type": "markdown",
   "id": "8ccd41da",
   "metadata": {},
   "source": [
    "## Tuple methods and fucntions"
   ]
  },
  {
   "cell_type": "markdown",
   "id": "f3d5310a",
   "metadata": {},
   "source": [
    "### count()"
   ]
  },
  {
   "cell_type": "code",
   "execution_count": 18,
   "id": "d64e725c",
   "metadata": {},
   "outputs": [],
   "source": [
    "t = (1,2,3,4,5,6,7,6,6,3,7)       # It counts the selected value"
   ]
  },
  {
   "cell_type": "code",
   "execution_count": 19,
   "id": "65d477ab",
   "metadata": {},
   "outputs": [
    {
     "data": {
      "text/plain": [
       "1"
      ]
     },
     "execution_count": 19,
     "metadata": {},
     "output_type": "execute_result"
    }
   ],
   "source": [
    "t.count(2)"
   ]
  },
  {
   "cell_type": "code",
   "execution_count": 20,
   "id": "78fef059",
   "metadata": {},
   "outputs": [
    {
     "data": {
      "text/plain": [
       "3"
      ]
     },
     "execution_count": 20,
     "metadata": {},
     "output_type": "execute_result"
    }
   ],
   "source": [
    "t.count(6)"
   ]
  },
  {
   "cell_type": "markdown",
   "id": "72e29bb8",
   "metadata": {},
   "source": [
    "### Index()"
   ]
  },
  {
   "cell_type": "code",
   "execution_count": 21,
   "id": "d8ecbd1b",
   "metadata": {},
   "outputs": [],
   "source": [
    "num = (1,2,3,4,5,6,7,8)       # It shows the position of value"
   ]
  },
  {
   "cell_type": "code",
   "execution_count": 22,
   "id": "6d4b5b08",
   "metadata": {},
   "outputs": [
    {
     "data": {
      "text/plain": [
       "2"
      ]
     },
     "execution_count": 22,
     "metadata": {},
     "output_type": "execute_result"
    }
   ],
   "source": [
    "num.index(3)"
   ]
  },
  {
   "cell_type": "code",
   "execution_count": 23,
   "id": "ef31d4d0",
   "metadata": {},
   "outputs": [
    {
     "data": {
      "text/plain": [
       "7"
      ]
     },
     "execution_count": 23,
     "metadata": {},
     "output_type": "execute_result"
    }
   ],
   "source": [
    "num.index(8)"
   ]
  },
  {
   "cell_type": "markdown",
   "id": "a9fcef78",
   "metadata": {},
   "source": [
    "## Attributes of tuple"
   ]
  },
  {
   "cell_type": "markdown",
   "id": "dc672572",
   "metadata": {},
   "source": [
    "IM - Immutable\n",
    "\n",
    "O - Ordered \n",
    "\n",
    "D - Duplicates\n",
    "\n",
    "I - Index"
   ]
  },
  {
   "cell_type": "markdown",
   "id": "631d1354",
   "metadata": {},
   "source": [
    "### Immutable"
   ]
  },
  {
   "cell_type": "markdown",
   "id": "69828238",
   "metadata": {},
   "source": [
    "* Once a tuple is created you cannot change,add or remove elements from it"
   ]
  },
  {
   "cell_type": "markdown",
   "id": "163143fc",
   "metadata": {},
   "source": [
    "### Ordered "
   ]
  },
  {
   "cell_type": "markdown",
   "id": "6cb72bda",
   "metadata": {},
   "source": [
    "* Follow some sequency or numbering"
   ]
  },
  {
   "cell_type": "markdown",
   "id": "650439ae",
   "metadata": {},
   "source": [
    "### Duplicates"
   ]
  },
  {
   "cell_type": "markdown",
   "id": "a538bb6a",
   "metadata": {},
   "source": [
    "* It allows duplicates values"
   ]
  },
  {
   "cell_type": "markdown",
   "id": "58d60919",
   "metadata": {},
   "source": [
    "### Index"
   ]
  },
  {
   "cell_type": "markdown",
   "id": "032bc3ee",
   "metadata": {},
   "source": [
    "* It follows index number"
   ]
  },
  {
   "cell_type": "code",
   "execution_count": 25,
   "id": "0c561a67",
   "metadata": {},
   "outputs": [],
   "source": [
    "t = (1,2,3,4,5,6)"
   ]
  },
  {
   "cell_type": "code",
   "execution_count": 30,
   "id": "ea422b1f",
   "metadata": {},
   "outputs": [
    {
     "data": {
      "text/plain": [
       "(1, 2, 3, 4, 5, 6)"
      ]
     },
     "execution_count": 30,
     "metadata": {},
     "output_type": "execute_result"
    }
   ],
   "source": [
    "t"
   ]
  },
  {
   "cell_type": "code",
   "execution_count": 27,
   "id": "c4f3fd98",
   "metadata": {},
   "outputs": [
    {
     "data": {
      "text/plain": [
       "6"
      ]
     },
     "execution_count": 27,
     "metadata": {},
     "output_type": "execute_result"
    }
   ],
   "source": [
    "t[5]"
   ]
  },
  {
   "cell_type": "code",
   "execution_count": 28,
   "id": "d2fd2760",
   "metadata": {},
   "outputs": [
    {
     "data": {
      "text/plain": [
       "(3, 4)"
      ]
     },
     "execution_count": 28,
     "metadata": {},
     "output_type": "execute_result"
    }
   ],
   "source": [
    "t [2:4]"
   ]
  },
  {
   "cell_type": "code",
   "execution_count": 29,
   "id": "651cd745",
   "metadata": {},
   "outputs": [
    {
     "data": {
      "text/plain": [
       "(2, 4)"
      ]
     },
     "execution_count": 29,
     "metadata": {},
     "output_type": "execute_result"
    }
   ],
   "source": [
    "t [1:5:2]"
   ]
  },
  {
   "cell_type": "code",
   "execution_count": 31,
   "id": "53aa9184",
   "metadata": {},
   "outputs": [],
   "source": [
    "t = (1,2,3,4,5)\n",
    "t2 = (7,8,9,10)"
   ]
  },
  {
   "cell_type": "code",
   "execution_count": 32,
   "id": "9bc6b888",
   "metadata": {},
   "outputs": [
    {
     "data": {
      "text/plain": [
       "(1, 2, 3, 4, 5, 7, 8, 9, 10)"
      ]
     },
     "execution_count": 32,
     "metadata": {},
     "output_type": "execute_result"
    }
   ],
   "source": [
    "t + t2"
   ]
  },
  {
   "cell_type": "code",
   "execution_count": 33,
   "id": "24fbf843",
   "metadata": {},
   "outputs": [
    {
     "data": {
      "text/plain": [
       "(1, 2, 3, 4, 5)"
      ]
     },
     "execution_count": 33,
     "metadata": {},
     "output_type": "execute_result"
    }
   ],
   "source": [
    "t"
   ]
  },
  {
   "cell_type": "code",
   "execution_count": 34,
   "id": "35d19a1e",
   "metadata": {},
   "outputs": [
    {
     "data": {
      "text/plain": [
       "(7, 8, 9, 10)"
      ]
     },
     "execution_count": 34,
     "metadata": {},
     "output_type": "execute_result"
    }
   ],
   "source": [
    "t2"
   ]
  },
  {
   "cell_type": "code",
   "execution_count": 52,
   "id": "98fc556a",
   "metadata": {},
   "outputs": [],
   "source": [
    "a = (22,33,44,55,[66,77])"
   ]
  },
  {
   "cell_type": "code",
   "execution_count": 53,
   "id": "00811b90",
   "metadata": {},
   "outputs": [],
   "source": [
    "a[4].append(88)"
   ]
  },
  {
   "cell_type": "code",
   "execution_count": 54,
   "id": "4cde12ec",
   "metadata": {},
   "outputs": [
    {
     "data": {
      "text/plain": [
       "(22, 33, 44, 55, [66, 77, 88])"
      ]
     },
     "execution_count": 54,
     "metadata": {},
     "output_type": "execute_result"
    }
   ],
   "source": [
    "a"
   ]
  },
  {
   "cell_type": "markdown",
   "id": "bc1a29a2",
   "metadata": {},
   "source": [
    "## Time and speed"
   ]
  },
  {
   "cell_type": "code",
   "execution_count": 59,
   "id": "c6131225",
   "metadata": {},
   "outputs": [],
   "source": [
    "list = [1,2,3,4,5]\n",
    "tuple = (1,2,3,4)"
   ]
  },
  {
   "cell_type": "code",
   "execution_count": 60,
   "id": "8070cc43",
   "metadata": {},
   "outputs": [],
   "source": [
    "import sys"
   ]
  },
  {
   "cell_type": "code",
   "execution_count": 61,
   "id": "a943a8ec",
   "metadata": {},
   "outputs": [
    {
     "data": {
      "text/plain": [
       "104"
      ]
     },
     "execution_count": 61,
     "metadata": {},
     "output_type": "execute_result"
    }
   ],
   "source": [
    "sys.getsizeof(list)         # List takes more memory"
   ]
  },
  {
   "cell_type": "code",
   "execution_count": 62,
   "id": "369e5b71",
   "metadata": {},
   "outputs": [
    {
     "data": {
      "text/plain": [
       "72"
      ]
     },
     "execution_count": 62,
     "metadata": {},
     "output_type": "execute_result"
    }
   ],
   "source": [
    "sys.getsizeof(tuple)        # Tuple takes less memory"
   ]
  },
  {
   "cell_type": "code",
   "execution_count": 63,
   "id": "21be8cc0",
   "metadata": {},
   "outputs": [],
   "source": [
    "import timeit"
   ]
  },
  {
   "cell_type": "code",
   "execution_count": 64,
   "id": "8749c7e0",
   "metadata": {},
   "outputs": [
    {
     "data": {
      "text/plain": [
       "0.05127870000433177"
      ]
     },
     "execution_count": 64,
     "metadata": {},
     "output_type": "execute_result"
    }
   ],
   "source": [
    "timeit.timeit(stmt=f'{list}')             # List takes more time"
   ]
  },
  {
   "cell_type": "code",
   "execution_count": 70,
   "id": "96a0d29b",
   "metadata": {},
   "outputs": [
    {
     "data": {
      "text/plain": [
       "0.01066750002792105"
      ]
     },
     "execution_count": 70,
     "metadata": {},
     "output_type": "execute_result"
    }
   ],
   "source": [
    "timeit.timeit(stmt=f'{tuple}')           # tuple takes less time"
   ]
  },
  {
   "cell_type": "markdown",
   "id": "a618c524",
   "metadata": {},
   "source": [
    "## Difference between list and tuple"
   ]
  },
  {
   "cell_type": "markdown",
   "id": "dae6303d",
   "metadata": {},
   "source": [
    "List         -       Tuple\n",
    "\n",
    "Mutable      -     Immutable\n",
    "\n",
    "More memory  -     Less memory\n",
    "\n",
    "More time    -     Less time"
   ]
  },
  {
   "cell_type": "markdown",
   "id": "bcfef3eb",
   "metadata": {},
   "source": [
    "# Set { }"
   ]
  },
  {
   "cell_type": "markdown",
   "id": "a31c56b2",
   "metadata": {},
   "source": [
    "* We can store multiple values\n",
    "* Set datatype represents in curly brackets { }"
   ]
  },
  {
   "cell_type": "markdown",
   "id": "cc375d3f",
   "metadata": {},
   "source": [
    "## Attributes of set"
   ]
  },
  {
   "cell_type": "markdown",
   "id": "3dcf9159",
   "metadata": {},
   "source": [
    "* Mutable\n",
    "\n",
    "* Unordered\n",
    "\n",
    "* No duplicates\n",
    "\n",
    "* No index"
   ]
  },
  {
   "cell_type": "markdown",
   "id": "ba4f5653",
   "metadata": {},
   "source": [
    "## Creating sets"
   ]
  },
  {
   "cell_type": "markdown",
   "id": "5750f9ef",
   "metadata": {},
   "source": [
    "* Sets can be created two ways\n",
    "* Using curly brackets {}\n",
    "* Using class set"
   ]
  },
  {
   "cell_type": "code",
   "execution_count": 1,
   "id": "c6b432eb",
   "metadata": {},
   "outputs": [],
   "source": [
    "set1 = {1,2,3,4,5,6}"
   ]
  },
  {
   "cell_type": "code",
   "execution_count": 9,
   "id": "a85f702d",
   "metadata": {},
   "outputs": [
    {
     "data": {
      "text/plain": [
       "set"
      ]
     },
     "execution_count": 9,
     "metadata": {},
     "output_type": "execute_result"
    }
   ],
   "source": [
    "type(set1)"
   ]
  },
  {
   "cell_type": "code",
   "execution_count": 6,
   "id": "9a1e62e0",
   "metadata": {},
   "outputs": [
    {
     "data": {
      "text/plain": [
       "1752224501312"
      ]
     },
     "execution_count": 6,
     "metadata": {},
     "output_type": "execute_result"
    }
   ],
   "source": [
    "id(set1)"
   ]
  },
  {
   "cell_type": "code",
   "execution_count": 7,
   "id": "7579b9e3",
   "metadata": {},
   "outputs": [
    {
     "data": {
      "text/plain": [
       "6"
      ]
     },
     "execution_count": 7,
     "metadata": {},
     "output_type": "execute_result"
    }
   ],
   "source": [
    "len(set1)"
   ]
  },
  {
   "cell_type": "markdown",
   "id": "c8035416",
   "metadata": {},
   "source": [
    "## Empty set"
   ]
  },
  {
   "cell_type": "code",
   "execution_count": 10,
   "id": "2f89a235",
   "metadata": {},
   "outputs": [],
   "source": [
    "set2 = set()"
   ]
  },
  {
   "cell_type": "code",
   "execution_count": 12,
   "id": "48710e2d",
   "metadata": {},
   "outputs": [
    {
     "data": {
      "text/plain": [
       "set"
      ]
     },
     "execution_count": 12,
     "metadata": {},
     "output_type": "execute_result"
    }
   ],
   "source": [
    "type(set2)"
   ]
  },
  {
   "cell_type": "markdown",
   "id": "f57cb761",
   "metadata": {},
   "source": [
    "## Methods and Functions"
   ]
  },
  {
   "cell_type": "code",
   "execution_count": 13,
   "id": "f6f44be7",
   "metadata": {},
   "outputs": [],
   "source": [
    "set1 = {1,2,3,4,5}          # Set is mutable"
   ]
  },
  {
   "cell_type": "code",
   "execution_count": 14,
   "id": "79365627",
   "metadata": {},
   "outputs": [],
   "source": [
    "set1.add(10)"
   ]
  },
  {
   "cell_type": "code",
   "execution_count": 15,
   "id": "c608fdae",
   "metadata": {},
   "outputs": [
    {
     "data": {
      "text/plain": [
       "{1, 2, 3, 4, 5, 10}"
      ]
     },
     "execution_count": 15,
     "metadata": {},
     "output_type": "execute_result"
    }
   ],
   "source": [
    "set1              "
   ]
  },
  {
   "cell_type": "code",
   "execution_count": 26,
   "id": "03613aeb",
   "metadata": {},
   "outputs": [],
   "source": [
    "set1.add(1)                # It does not allows duplicates values"
   ]
  },
  {
   "cell_type": "code",
   "execution_count": 27,
   "id": "15b3df28",
   "metadata": {},
   "outputs": [
    {
     "data": {
      "text/plain": [
       "{1, 2, 3, 4, 5, 10}"
      ]
     },
     "execution_count": 27,
     "metadata": {},
     "output_type": "execute_result"
    }
   ],
   "source": [
    "set1"
   ]
  },
  {
   "cell_type": "code",
   "execution_count": 22,
   "id": "b33a958b",
   "metadata": {},
   "outputs": [],
   "source": [
    "name = {2,2,5,\"Hello\",\"hi\",True}"
   ]
  },
  {
   "cell_type": "code",
   "execution_count": 23,
   "id": "75f8e318",
   "metadata": {},
   "outputs": [
    {
     "data": {
      "text/plain": [
       "5"
      ]
     },
     "execution_count": 23,
     "metadata": {},
     "output_type": "execute_result"
    }
   ],
   "source": [
    "len(name)"
   ]
  },
  {
   "cell_type": "code",
   "execution_count": 21,
   "id": "88680aea",
   "metadata": {},
   "outputs": [
    {
     "data": {
      "text/plain": [
       "1"
      ]
     },
     "execution_count": 21,
     "metadata": {},
     "output_type": "execute_result"
    }
   ],
   "source": [
    "int(True)"
   ]
  },
  {
   "cell_type": "code",
   "execution_count": 24,
   "id": "a4cf580c",
   "metadata": {},
   "outputs": [],
   "source": [
    "n = {True,False,True,False}"
   ]
  },
  {
   "cell_type": "code",
   "execution_count": 25,
   "id": "251369e6",
   "metadata": {},
   "outputs": [
    {
     "data": {
      "text/plain": [
       "{False, True}"
      ]
     },
     "execution_count": 25,
     "metadata": {},
     "output_type": "execute_result"
    }
   ],
   "source": [
    "n"
   ]
  },
  {
   "cell_type": "code",
   "execution_count": 29,
   "id": "d404328b",
   "metadata": {},
   "outputs": [
    {
     "data": {
      "text/plain": [
       "['__and__',\n",
       " '__class__',\n",
       " '__class_getitem__',\n",
       " '__contains__',\n",
       " '__delattr__',\n",
       " '__dir__',\n",
       " '__doc__',\n",
       " '__eq__',\n",
       " '__format__',\n",
       " '__ge__',\n",
       " '__getattribute__',\n",
       " '__getstate__',\n",
       " '__gt__',\n",
       " '__hash__',\n",
       " '__iand__',\n",
       " '__init__',\n",
       " '__init_subclass__',\n",
       " '__ior__',\n",
       " '__isub__',\n",
       " '__iter__',\n",
       " '__ixor__',\n",
       " '__le__',\n",
       " '__len__',\n",
       " '__lt__',\n",
       " '__ne__',\n",
       " '__new__',\n",
       " '__or__',\n",
       " '__rand__',\n",
       " '__reduce__',\n",
       " '__reduce_ex__',\n",
       " '__repr__',\n",
       " '__ror__',\n",
       " '__rsub__',\n",
       " '__rxor__',\n",
       " '__setattr__',\n",
       " '__sizeof__',\n",
       " '__str__',\n",
       " '__sub__',\n",
       " '__subclasshook__',\n",
       " '__xor__',\n",
       " 'add',\n",
       " 'clear',\n",
       " 'copy',\n",
       " 'difference',\n",
       " 'difference_update',\n",
       " 'discard',\n",
       " 'intersection',\n",
       " 'intersection_update',\n",
       " 'isdisjoint',\n",
       " 'issubset',\n",
       " 'issuperset',\n",
       " 'pop',\n",
       " 'remove',\n",
       " 'symmetric_difference',\n",
       " 'symmetric_difference_update',\n",
       " 'union',\n",
       " 'update']"
      ]
     },
     "execution_count": 29,
     "metadata": {},
     "output_type": "execute_result"
    }
   ],
   "source": [
    "s = set\n",
    "dir(s)"
   ]
  },
  {
   "cell_type": "markdown",
   "id": "6323f2fd",
   "metadata": {},
   "source": [
    "### add()"
   ]
  },
  {
   "cell_type": "code",
   "execution_count": 38,
   "id": "9e841813",
   "metadata": {},
   "outputs": [],
   "source": [
    "set = {1,2,3,5}             # Adding of elements"
   ]
  },
  {
   "cell_type": "code",
   "execution_count": 39,
   "id": "554d7f41",
   "metadata": {},
   "outputs": [],
   "source": [
    "set.add(7)"
   ]
  },
  {
   "cell_type": "code",
   "execution_count": 40,
   "id": "2a1b55ff",
   "metadata": {},
   "outputs": [
    {
     "data": {
      "text/plain": [
       "{1, 2, 3, 5, 7}"
      ]
     },
     "execution_count": 40,
     "metadata": {},
     "output_type": "execute_result"
    }
   ],
   "source": [
    "set"
   ]
  },
  {
   "cell_type": "markdown",
   "id": "23e09376",
   "metadata": {},
   "source": [
    "### clear ()"
   ]
  },
  {
   "cell_type": "code",
   "execution_count": 41,
   "id": "6f79f5bf",
   "metadata": {},
   "outputs": [],
   "source": [
    "set1 = {11,22,33,44,55}           # it removes all elements in set"
   ]
  },
  {
   "cell_type": "code",
   "execution_count": 42,
   "id": "f0fc8eb2",
   "metadata": {},
   "outputs": [],
   "source": [
    "set1.clear()"
   ]
  },
  {
   "cell_type": "code",
   "execution_count": 43,
   "id": "d6c4db05",
   "metadata": {},
   "outputs": [
    {
     "data": {
      "text/plain": [
       "set()"
      ]
     },
     "execution_count": 43,
     "metadata": {},
     "output_type": "execute_result"
    }
   ],
   "source": [
    "set1"
   ]
  },
  {
   "cell_type": "markdown",
   "id": "a41a39bf",
   "metadata": {},
   "source": [
    "### copy()"
   ]
  },
  {
   "cell_type": "code",
   "execution_count": 45,
   "id": "e54cc21e",
   "metadata": {},
   "outputs": [],
   "source": [
    "set2 = {12,23,34,45}"
   ]
  },
  {
   "cell_type": "code",
   "execution_count": 48,
   "id": "414c9a80",
   "metadata": {},
   "outputs": [
    {
     "data": {
      "text/plain": [
       "{12, 23, 34, 45}"
      ]
     },
     "execution_count": 48,
     "metadata": {},
     "output_type": "execute_result"
    }
   ],
   "source": [
    "set2.copy()"
   ]
  },
  {
   "cell_type": "markdown",
   "id": "aed932a9",
   "metadata": {},
   "source": [
    "### difference"
   ]
  },
  {
   "cell_type": "code",
   "execution_count": 49,
   "id": "c052745f",
   "metadata": {},
   "outputs": [],
   "source": [
    "a = {1,2,3,4,5}\n",
    "b = {4,5,6,7,8,9}\n",
    "c = {'a','b','c'}"
   ]
  },
  {
   "cell_type": "code",
   "execution_count": 51,
   "id": "f0709011",
   "metadata": {},
   "outputs": [
    {
     "name": "stdout",
     "output_type": "stream",
     "text": [
      "{1, 2, 3, 4, 5}\n",
      "{4, 5, 6, 7, 8, 9}\n",
      "{'b', 'c', 'a'}\n"
     ]
    }
   ],
   "source": [
    "print(a,b,c,sep=\"\\n\")"
   ]
  },
  {
   "cell_type": "code",
   "execution_count": 52,
   "id": "ddbcef1e",
   "metadata": {},
   "outputs": [
    {
     "data": {
      "text/plain": [
       "{1, 2, 3}"
      ]
     },
     "execution_count": 52,
     "metadata": {},
     "output_type": "execute_result"
    }
   ],
   "source": [
    "a.difference(b)"
   ]
  },
  {
   "cell_type": "code",
   "execution_count": 53,
   "id": "bb891a43",
   "metadata": {},
   "outputs": [
    {
     "data": {
      "text/plain": [
       "{6, 7, 8, 9}"
      ]
     },
     "execution_count": 53,
     "metadata": {},
     "output_type": "execute_result"
    }
   ],
   "source": [
    "b.difference(a)"
   ]
  },
  {
   "cell_type": "markdown",
   "id": "2e427feb",
   "metadata": {},
   "source": [
    "### discard()"
   ]
  },
  {
   "cell_type": "code",
   "execution_count": 68,
   "id": "df5855a2",
   "metadata": {},
   "outputs": [],
   "source": [
    "x = {12,24,36,48}"
   ]
  },
  {
   "cell_type": "code",
   "execution_count": 71,
   "id": "9a6203c3",
   "metadata": {},
   "outputs": [],
   "source": [
    "x.discard(9)"
   ]
  },
  {
   "cell_type": "code",
   "execution_count": 72,
   "id": "54c0e310",
   "metadata": {},
   "outputs": [
    {
     "name": "stdout",
     "output_type": "stream",
     "text": [
      "{24, 48, 12, 36}\n"
     ]
    }
   ],
   "source": [
    "print(x)"
   ]
  },
  {
   "cell_type": "code",
   "execution_count": 74,
   "id": "4f069e71",
   "metadata": {},
   "outputs": [],
   "source": [
    "x = {12,44,52,27,7}\n",
    "x.discard(9)"
   ]
  },
  {
   "cell_type": "code",
   "execution_count": 75,
   "id": "88ac7dcb",
   "metadata": {},
   "outputs": [
    {
     "name": "stdout",
     "output_type": "stream",
     "text": [
      "{52, 7, 27, 12, 44}\n"
     ]
    }
   ],
   "source": [
    "print(x)"
   ]
  },
  {
   "cell_type": "markdown",
   "id": "a4169fa1",
   "metadata": {},
   "source": [
    "### union()"
   ]
  },
  {
   "cell_type": "code",
   "execution_count": 76,
   "id": "9e1c4431",
   "metadata": {},
   "outputs": [],
   "source": [
    "set1 = {0,1,2,3,4,5,6}\n",
    "set2 = {2,4,100,200,300}"
   ]
  },
  {
   "cell_type": "code",
   "execution_count": 77,
   "id": "2b1cf6d0",
   "metadata": {},
   "outputs": [
    {
     "data": {
      "text/plain": [
       "{0, 1, 2, 3, 4, 5, 6, 100, 200, 300}"
      ]
     },
     "execution_count": 77,
     "metadata": {},
     "output_type": "execute_result"
    }
   ],
   "source": [
    "set1.union(set2)             # No elemnts is Repeated"
   ]
  },
  {
   "cell_type": "markdown",
   "id": "b59d4f1f",
   "metadata": {},
   "source": [
    "### intersection()"
   ]
  },
  {
   "cell_type": "code",
   "execution_count": 78,
   "id": "0f6dc866",
   "metadata": {},
   "outputs": [],
   "source": [
    "set1 = {0,1,2,3,4,5,6}\n",
    "set2 = {2,4,100,200,300}"
   ]
  },
  {
   "cell_type": "code",
   "execution_count": 79,
   "id": "4e6f6990",
   "metadata": {},
   "outputs": [
    {
     "data": {
      "text/plain": [
       "{2, 4}"
      ]
     },
     "execution_count": 79,
     "metadata": {},
     "output_type": "execute_result"
    }
   ],
   "source": [
    "set1.intersection(set2)     # Consist of all elements which are common in both set1 and set2"
   ]
  },
  {
   "cell_type": "markdown",
   "id": "ce663e4c",
   "metadata": {},
   "source": [
    "# Dictionary"
   ]
  },
  {
   "cell_type": "markdown",
   "id": "1f7002cd",
   "metadata": {},
   "source": [
    "* In dictionary datatype we store values and data in the form of KEY VALUE PAIR"
   ]
  },
  {
   "cell_type": "markdown",
   "id": "af3e5d20",
   "metadata": {},
   "source": [
    "## Attributes of dict"
   ]
  },
  {
   "cell_type": "markdown",
   "id": "bc3fb3fc",
   "metadata": {},
   "source": [
    "* Mutable \n",
    "\n",
    "We can change,add or remove items\n",
    "\n",
    "* No Duplicates\n",
    "\n",
    "Duplicates not allow,Keys can not duplicates but values can be\n",
    "\n",
    "* Unordered\n"
   ]
  },
  {
   "cell_type": "markdown",
   "id": "7ed7cf89",
   "metadata": {},
   "source": [
    "Keys        -        uniques\n",
    "\n",
    "Values      -        duplicates"
   ]
  },
  {
   "cell_type": "markdown",
   "id": "f74fce32",
   "metadata": {},
   "source": [
    "## Method 1"
   ]
  },
  {
   "cell_type": "code",
   "execution_count": 1,
   "id": "465c4ce9",
   "metadata": {},
   "outputs": [],
   "source": [
    "d = {1:\"Hello\",2:\"Hi\",3:\"Hello\"}"
   ]
  },
  {
   "cell_type": "code",
   "execution_count": 5,
   "id": "e6c464d2",
   "metadata": {},
   "outputs": [],
   "source": [
    "d[4] = \"Bye\""
   ]
  },
  {
   "cell_type": "code",
   "execution_count": 6,
   "id": "1453a1f9",
   "metadata": {},
   "outputs": [
    {
     "data": {
      "text/plain": [
       "{1: 'Hello', 2: 'Hi', 3: 'Hello', 4: 'Bye'}"
      ]
     },
     "execution_count": 6,
     "metadata": {},
     "output_type": "execute_result"
    }
   ],
   "source": [
    "d"
   ]
  },
  {
   "cell_type": "code",
   "execution_count": 7,
   "id": "776d9706",
   "metadata": {},
   "outputs": [
    {
     "data": {
      "text/plain": [
       "dict"
      ]
     },
     "execution_count": 7,
     "metadata": {},
     "output_type": "execute_result"
    }
   ],
   "source": [
    "type(d)"
   ]
  },
  {
   "cell_type": "code",
   "execution_count": 8,
   "id": "cc0cc296",
   "metadata": {},
   "outputs": [
    {
     "data": {
      "text/plain": [
       "3093398504640"
      ]
     },
     "execution_count": 8,
     "metadata": {},
     "output_type": "execute_result"
    }
   ],
   "source": [
    "id(d)"
   ]
  },
  {
   "cell_type": "code",
   "execution_count": 9,
   "id": "a546aab8",
   "metadata": {},
   "outputs": [
    {
     "data": {
      "text/plain": [
       "4"
      ]
     },
     "execution_count": 9,
     "metadata": {},
     "output_type": "execute_result"
    }
   ],
   "source": [
    "len(d)"
   ]
  },
  {
   "cell_type": "markdown",
   "id": "a3176ebf",
   "metadata": {},
   "source": [
    "## Method 2"
   ]
  },
  {
   "cell_type": "code",
   "execution_count": 14,
   "id": "f7c22d4e",
   "metadata": {},
   "outputs": [],
   "source": [
    "keys = [1,2,3,4]\n",
    "values = [\"python\",\"sql\",\"data science\"]"
   ]
  },
  {
   "cell_type": "code",
   "execution_count": 15,
   "id": "a8b5eaa4",
   "metadata": {},
   "outputs": [
    {
     "data": {
      "text/plain": [
       "{1: 'python', 2: 'sql', 3: 'data science'}"
      ]
     },
     "execution_count": 15,
     "metadata": {},
     "output_type": "execute_result"
    }
   ],
   "source": [
    "dict(zip(keys,values))"
   ]
  },
  {
   "cell_type": "markdown",
   "id": "9efd1176",
   "metadata": {},
   "source": [
    "## Methods and Functions"
   ]
  },
  {
   "cell_type": "code",
   "execution_count": 33,
   "id": "b7e7efdd",
   "metadata": {},
   "outputs": [],
   "source": [
    "d = {\"apple\":45,\"grapes\":30,\"banana\":20,\"orange\":60}"
   ]
  },
  {
   "cell_type": "code",
   "execution_count": 34,
   "id": "479e4e5f",
   "metadata": {},
   "outputs": [
    {
     "data": {
      "text/plain": [
       "{'apple': 45, 'grapes': 30, 'banana': 20, 'orange': 60}"
      ]
     },
     "execution_count": 34,
     "metadata": {},
     "output_type": "execute_result"
    }
   ],
   "source": [
    "d"
   ]
  },
  {
   "cell_type": "code",
   "execution_count": 35,
   "id": "099a6551",
   "metadata": {},
   "outputs": [
    {
     "data": {
      "text/plain": [
       "dict_items([('apple', 45), ('grapes', 30), ('banana', 20), ('orange', 60)])"
      ]
     },
     "execution_count": 35,
     "metadata": {},
     "output_type": "execute_result"
    }
   ],
   "source": [
    "d.items()      # Keys and values are combined"
   ]
  },
  {
   "cell_type": "code",
   "execution_count": 36,
   "id": "8a018cb3",
   "metadata": {},
   "outputs": [
    {
     "data": {
      "text/plain": [
       "dict_keys(['apple', 'grapes', 'banana', 'orange'])"
      ]
     },
     "execution_count": 36,
     "metadata": {},
     "output_type": "execute_result"
    }
   ],
   "source": [
    "d.keys()"
   ]
  },
  {
   "cell_type": "code",
   "execution_count": 37,
   "id": "22fa3dc6",
   "metadata": {},
   "outputs": [
    {
     "data": {
      "text/plain": [
       "dict_values([45, 30, 20, 60])"
      ]
     },
     "execution_count": 37,
     "metadata": {},
     "output_type": "execute_result"
    }
   ],
   "source": [
    "d.values()"
   ]
  },
  {
   "cell_type": "code",
   "execution_count": 38,
   "id": "b5d1424b",
   "metadata": {},
   "outputs": [
    {
     "data": {
      "text/plain": [
       "30"
      ]
     },
     "execution_count": 38,
     "metadata": {},
     "output_type": "execute_result"
    }
   ],
   "source": [
    "d.pop(\"grapes\")        # Remove the select key"
   ]
  },
  {
   "cell_type": "code",
   "execution_count": 40,
   "id": "59ea69d0",
   "metadata": {},
   "outputs": [
    {
     "data": {
      "text/plain": [
       "{'apple': 45, 'banana': 20, 'orange': 60}"
      ]
     },
     "execution_count": 40,
     "metadata": {},
     "output_type": "execute_result"
    }
   ],
   "source": [
    "d"
   ]
  },
  {
   "cell_type": "code",
   "execution_count": 41,
   "id": "9d20dda3",
   "metadata": {},
   "outputs": [
    {
     "data": {
      "text/plain": [
       "('orange', 60)"
      ]
     },
     "execution_count": 41,
     "metadata": {},
     "output_type": "execute_result"
    }
   ],
   "source": [
    "d.popitem()              # It removes the last value"
   ]
  },
  {
   "cell_type": "code",
   "execution_count": 42,
   "id": "05c4fa60",
   "metadata": {},
   "outputs": [
    {
     "data": {
      "text/plain": [
       "{'apple': 45, 'banana': 20}"
      ]
     },
     "execution_count": 42,
     "metadata": {},
     "output_type": "execute_result"
    }
   ],
   "source": [
    "d"
   ]
  },
  {
   "cell_type": "code",
   "execution_count": 43,
   "id": "f17870d6",
   "metadata": {},
   "outputs": [],
   "source": [
    "d.update({\"kiwi\":100,\"dragon\":300})"
   ]
  },
  {
   "cell_type": "code",
   "execution_count": 44,
   "id": "770e24ad",
   "metadata": {},
   "outputs": [
    {
     "data": {
      "text/plain": [
       "{'apple': 45, 'banana': 20, 'kiwi': 100, 'dragon': 300}"
      ]
     },
     "execution_count": 44,
     "metadata": {},
     "output_type": "execute_result"
    }
   ],
   "source": [
    "d"
   ]
  },
  {
   "cell_type": "code",
   "execution_count": 45,
   "id": "f91fafdb",
   "metadata": {},
   "outputs": [
    {
     "data": {
      "text/plain": [
       "{'ds': 9000, 'da': 9000, 'sql': 9000, 'ml': 9000}"
      ]
     },
     "execution_count": 45,
     "metadata": {},
     "output_type": "execute_result"
    }
   ],
   "source": [
    "dict.fromkeys([\"ds\",\"da\",\"sql\",\"ml\"],9000)          # Multiple key with single value"
   ]
  },
  {
   "cell_type": "code",
   "execution_count": null,
   "id": "982a995d",
   "metadata": {},
   "outputs": [],
   "source": []
  }
 ],
 "metadata": {
  "kernelspec": {
   "display_name": "Python 3 (ipykernel)",
   "language": "python",
   "name": "python3"
  },
  "language_info": {
   "codemirror_mode": {
    "name": "ipython",
    "version": 3
   },
   "file_extension": ".py",
   "mimetype": "text/x-python",
   "name": "python",
   "nbconvert_exporter": "python",
   "pygments_lexer": "ipython3",
   "version": "3.11.4"
  }
 },
 "nbformat": 4,
 "nbformat_minor": 5
}
