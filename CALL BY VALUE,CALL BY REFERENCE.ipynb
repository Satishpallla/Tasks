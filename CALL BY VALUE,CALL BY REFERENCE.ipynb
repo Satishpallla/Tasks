{
 "cells": [
  {
   "cell_type": "markdown",
   "id": "1c0ac4a2",
   "metadata": {},
   "source": [
    "# Call by value"
   ]
  },
  {
   "cell_type": "markdown",
   "id": "60b1c33a",
   "metadata": {},
   "source": [
    "* In call by value, a parameter acts within the function as a new local variable initialized to the value of the argument (a local (isolated) copy of the argument).\n",
    "\n",
    "* When Immutable objects such as whole numbers, strings, etc are passed as arguments to the function call, the it can be considered as Call by Value.\n",
    "\n",
    "* when the values are modified within the function, then the changes do not get reflected outside the function."
   ]
  },
  {
   "cell_type": "markdown",
   "id": "b2692fba",
   "metadata": {},
   "source": [
    "## syntax"
   ]
  },
  {
   "cell_type": "markdown",
   "id": "25b8870f",
   "metadata": {},
   "source": [
    "* function_name(variable_name1,variable_name2...)"
   ]
  },
  {
   "cell_type": "code",
   "execution_count": 18,
   "id": "13746c97",
   "metadata": {},
   "outputs": [
    {
     "name": "stdout",
     "output_type": "stream",
     "text": [
      "Hello suresh gd mrng\n",
      "Hello suresh\n"
     ]
    }
   ],
   "source": [
    "string = \"Hello suresh\"\n",
    " \n",
    "def foo(string):\n",
    "    string = \"Hello suresh gd mrng\"\n",
    "    print(string)\n",
    "             \n",
    "foo(string)\n",
    "print(string)"
   ]
  },
  {
   "cell_type": "markdown",
   "id": "fb1fa3e1",
   "metadata": {},
   "source": [
    "# Call by reference"
   ]
  },
  {
   "cell_type": "markdown",
   "id": "f9fefd7b",
   "metadata": {},
   "source": [
    "* It is a way of passing arguments to a function call in which both the actual argument and formal parameters refer to the same memory locations\n",
    "\n",
    "* And any changes made within the function are reflected in the actual parameters of the function.\n",
    "\n",
    "* When Mutable objects such as list, dict, set, etc., are passed as arguments to the function call, it can be called Call by reference\n",
    "\n",
    "* When the values are modified within the function, the change also gets reflected outside the function.\n",
    "\n",
    "* Actual parameters - The parameters passed to a function\n",
    "* Formal parameters - The parameters received by a function"
   ]
  },
  {
   "cell_type": "markdown",
   "id": "16f3b0f0",
   "metadata": {},
   "source": [
    "## syntax"
   ]
  },
  {
   "cell_type": "markdown",
   "id": "1021f679",
   "metadata": {},
   "source": [
    "* function_name(variable_name1,variable_name2...)"
   ]
  },
  {
   "cell_type": "code",
   "execution_count": 9,
   "id": "9041f1fe",
   "metadata": {},
   "outputs": [],
   "source": [
    "list = [1,2,3,4]\n",
    "def add(l):\n",
    "    l.append(5)"
   ]
  },
  {
   "cell_type": "code",
   "execution_count": 10,
   "id": "29ca0b19",
   "metadata": {},
   "outputs": [],
   "source": [
    "add(list)"
   ]
  },
  {
   "cell_type": "code",
   "execution_count": 11,
   "id": "2f6f8927",
   "metadata": {},
   "outputs": [
    {
     "data": {
      "text/plain": [
       "[1, 2, 3, 4, 5]"
      ]
     },
     "execution_count": 11,
     "metadata": {},
     "output_type": "execute_result"
    }
   ],
   "source": [
    "list"
   ]
  },
  {
   "cell_type": "code",
   "execution_count": null,
   "id": "099f2698",
   "metadata": {},
   "outputs": [],
   "source": []
  }
 ],
 "metadata": {
  "kernelspec": {
   "display_name": "Python 3 (ipykernel)",
   "language": "python",
   "name": "python3"
  },
  "language_info": {
   "codemirror_mode": {
    "name": "ipython",
    "version": 3
   },
   "file_extension": ".py",
   "mimetype": "text/x-python",
   "name": "python",
   "nbconvert_exporter": "python",
   "pygments_lexer": "ipython3",
   "version": "3.11.4"
  }
 },
 "nbformat": 4,
 "nbformat_minor": 5
}
