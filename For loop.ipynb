{
 "cells": [
  {
   "cell_type": "markdown",
   "id": "d92b6e22",
   "metadata": {},
   "source": [
    "# For loop"
   ]
  },
  {
   "cell_type": "markdown",
   "id": "1e82d2c9",
   "metadata": {},
   "source": [
    "### Iterative statement"
   ]
  },
  {
   "cell_type": "markdown",
   "id": "af81629c",
   "metadata": {},
   "source": [
    "1) If we want to execute a group of statements multiple times then we should go for Iterative statement\n",
    "\n",
    "2) Python supports 2 types of Iterative statements \n",
    "     * for loop\n",
    "     * while loop\n",
    "     \n",
    "3)Iterative means is  more than one"
   ]
  },
  {
   "cell_type": "markdown",
   "id": "d85a8f5e",
   "metadata": {},
   "source": [
    "range (start,stop,[step])"
   ]
  },
  {
   "cell_type": "markdown",
   "id": "560c43c0",
   "metadata": {},
   "source": [
    "* Range datatype represents a sequence of numbers\n",
    "* The element present in range datatype are not modifiable that is range datatype is immutable"
   ]
  },
  {
   "cell_type": "code",
   "execution_count": null,
   "id": "bbffe67b",
   "metadata": {},
   "outputs": [],
   "source": [
    "range(1,10)"
   ]
  },
  {
   "cell_type": "code",
   "execution_count": null,
   "id": "65ec28ac",
   "metadata": {},
   "outputs": [],
   "source": [
    "list(range(1,10))"
   ]
  },
  {
   "cell_type": "code",
   "execution_count": null,
   "id": "e5ca7e44",
   "metadata": {},
   "outputs": [],
   "source": [
    "list(range(1,10,2))"
   ]
  },
  {
   "cell_type": "code",
   "execution_count": null,
   "id": "b3e10861",
   "metadata": {},
   "outputs": [],
   "source": [
    "list(range(1,10,-1))"
   ]
  },
  {
   "cell_type": "code",
   "execution_count": null,
   "id": "8049641c",
   "metadata": {},
   "outputs": [],
   "source": [
    "tuple(range(10))"
   ]
  },
  {
   "cell_type": "code",
   "execution_count": null,
   "id": "527e9294",
   "metadata": {},
   "outputs": [],
   "source": [
    "set(range(1,30,3))"
   ]
  },
  {
   "cell_type": "markdown",
   "id": "f5364a7f",
   "metadata": {},
   "source": [
    "# For loop"
   ]
  },
  {
   "cell_type": "markdown",
   "id": "d76a4d4c",
   "metadata": {},
   "source": [
    "* If we want to run multiple/single statement for multiple times\n",
    "*  for loop stop until if goes for last element"
   ]
  },
  {
   "cell_type": "code",
   "execution_count": null,
   "id": "1727dae3",
   "metadata": {},
   "outputs": [],
   "source": [
    "for i in \"Innomatics\":\n",
    "    print(i)"
   ]
  },
  {
   "cell_type": "code",
   "execution_count": null,
   "id": "793ba04d",
   "metadata": {},
   "outputs": [],
   "source": [
    "for i in \"Innomatics\":\n",
    "    print(i + \" am\" )"
   ]
  },
  {
   "cell_type": "code",
   "execution_count": null,
   "id": "398220f6",
   "metadata": {},
   "outputs": [],
   "source": [
    "var = list(range(1,10))\n",
    "var"
   ]
  },
  {
   "cell_type": "code",
   "execution_count": null,
   "id": "f057a2fb",
   "metadata": {},
   "outputs": [],
   "source": [
    "for i in var:\n",
    "    print(i)"
   ]
  },
  {
   "cell_type": "code",
   "execution_count": null,
   "id": "9be1a17a",
   "metadata": {},
   "outputs": [],
   "source": [
    "# Even"
   ]
  },
  {
   "cell_type": "code",
   "execution_count": null,
   "id": "02490386",
   "metadata": {},
   "outputs": [],
   "source": [
    "for i in var:\n",
    "    if i % 2 == 0:\n",
    "        print(i)"
   ]
  },
  {
   "cell_type": "code",
   "execution_count": null,
   "id": "440f0bc3",
   "metadata": {},
   "outputs": [],
   "source": [
    "for i in var:\n",
    "    if i % 2 != 0:\n",
    "        print(i)"
   ]
  },
  {
   "cell_type": "code",
   "execution_count": null,
   "id": "d1c1a84f",
   "metadata": {},
   "outputs": [],
   "source": [
    "n = (\"Hello\",\"Hi\",\"bye\")"
   ]
  },
  {
   "cell_type": "code",
   "execution_count": null,
   "id": "b9522ce7",
   "metadata": {},
   "outputs": [],
   "source": [
    "for i in n:\n",
    "    print(i)"
   ]
  },
  {
   "cell_type": "markdown",
   "id": "c974451d",
   "metadata": {},
   "source": [
    "creat a list of fruits and print the fruits which starts with vowel(a,e,i,o,u)"
   ]
  },
  {
   "cell_type": "code",
   "execution_count": 8,
   "id": "f9260637",
   "metadata": {},
   "outputs": [],
   "source": [
    "name = ['apple','banana','elephant','onion','ant','grapes']"
   ]
  },
  {
   "cell_type": "code",
   "execution_count": 9,
   "id": "307e4240",
   "metadata": {},
   "outputs": [
    {
     "name": "stdout",
     "output_type": "stream",
     "text": [
      "apple\n",
      "banana\n",
      "elephant\n",
      "onion\n",
      "ant\n",
      "grapes\n"
     ]
    }
   ],
   "source": [
    "for i in name:\n",
    "    print(i)"
   ]
  },
  {
   "cell_type": "code",
   "execution_count": 10,
   "id": "0469c739",
   "metadata": {},
   "outputs": [
    {
     "name": "stdout",
     "output_type": "stream",
     "text": [
      "apple\n",
      "ant\n"
     ]
    }
   ],
   "source": [
    "for i in name:\n",
    "    if i.startswith('a'):\n",
    "        print(i)"
   ]
  },
  {
   "cell_type": "code",
   "execution_count": 11,
   "id": "1dff2b28",
   "metadata": {},
   "outputs": [
    {
     "name": "stdout",
     "output_type": "stream",
     "text": [
      "apple\n",
      "elephant\n",
      "onion\n",
      "ant\n"
     ]
    }
   ],
   "source": [
    "for i in name:\n",
    "    if i.startswith(('a','e','i','o','u')):\n",
    "        print(i)"
   ]
  },
  {
   "cell_type": "code",
   "execution_count": 16,
   "id": "a017f44a",
   "metadata": {},
   "outputs": [],
   "source": [
    "a = [1,2,3,4,5,6]"
   ]
  },
  {
   "cell_type": "code",
   "execution_count": 17,
   "id": "7fefad44",
   "metadata": {},
   "outputs": [
    {
     "name": "stdout",
     "output_type": "stream",
     "text": [
      "4\n",
      "8\n",
      "12\n",
      "16\n",
      "20\n",
      "24\n"
     ]
    }
   ],
   "source": [
    "for i in a:\n",
    "    print(i * 4)"
   ]
  },
  {
   "cell_type": "code",
   "execution_count": 18,
   "id": "cde91cb2",
   "metadata": {},
   "outputs": [],
   "source": [
    "fruits = [\"banana\",\"apple\",\"grapes\",\"orange\"]"
   ]
  },
  {
   "cell_type": "code",
   "execution_count": 19,
   "id": "d9df6bee",
   "metadata": {},
   "outputs": [
    {
     "name": "stdout",
     "output_type": "stream",
     "text": [
      "bye\n",
      "hi\n",
      "hi\n",
      "hi\n"
     ]
    }
   ],
   "source": [
    "for i in fruits:\n",
    "    if i.endswith('a'):\n",
    "        print(\"bye\")\n",
    "    else:\n",
    "        print(\"hi\")"
   ]
  },
  {
   "cell_type": "markdown",
   "id": "e81b5610",
   "metadata": {},
   "source": [
    "1)create a dictionary atleast five fruits and with their prices"
   ]
  },
  {
   "cell_type": "code",
   "execution_count": 20,
   "id": "5cc457da",
   "metadata": {},
   "outputs": [],
   "source": [
    "fruits = {\"apple\":30,\"banana\":40,\"grapes\":50,\"kiwi\":60,\"orange\":70}"
   ]
  },
  {
   "cell_type": "code",
   "execution_count": 21,
   "id": "096d5d49",
   "metadata": {},
   "outputs": [
    {
     "data": {
      "text/plain": [
       "dict_keys(['apple', 'banana', 'grapes', 'kiwi', 'orange'])"
      ]
     },
     "execution_count": 21,
     "metadata": {},
     "output_type": "execute_result"
    }
   ],
   "source": [
    "fruits.keys()"
   ]
  },
  {
   "cell_type": "code",
   "execution_count": 22,
   "id": "1d433402",
   "metadata": {},
   "outputs": [
    {
     "data": {
      "text/plain": [
       "230"
      ]
     },
     "execution_count": 22,
     "metadata": {},
     "output_type": "execute_result"
    }
   ],
   "source": [
    "3 * fruits.get(\"apple\") + 2 * fruits.get(\"orange\")"
   ]
  },
  {
   "cell_type": "markdown",
   "id": "0c349d73",
   "metadata": {},
   "source": [
    "add a 'fruit' for every available fruit"
   ]
  },
  {
   "cell_type": "code",
   "execution_count": 23,
   "id": "7d1c1b77",
   "metadata": {},
   "outputs": [
    {
     "data": {
      "text/plain": [
       "dict_keys(['apple', 'banana', 'grapes', 'kiwi', 'orange'])"
      ]
     },
     "execution_count": 23,
     "metadata": {},
     "output_type": "execute_result"
    }
   ],
   "source": [
    "fruits.keys()"
   ]
  },
  {
   "cell_type": "code",
   "execution_count": 24,
   "id": "04072d11",
   "metadata": {},
   "outputs": [
    {
     "name": "stdout",
     "output_type": "stream",
     "text": [
      "apple\n",
      "banana\n",
      "grapes\n",
      "kiwi\n",
      "orange\n"
     ]
    }
   ],
   "source": [
    "for i in fruits.keys():\n",
    "    print(i)\n"
   ]
  },
  {
   "cell_type": "code",
   "execution_count": 25,
   "id": "b785946b",
   "metadata": {},
   "outputs": [
    {
     "name": "stdout",
     "output_type": "stream",
     "text": [
      "apple fruit\n",
      "banana fruit\n",
      "grapes fruit\n",
      "kiwi fruit\n",
      "orange fruit\n"
     ]
    }
   ],
   "source": [
    "for i in fruits.keys():\n",
    "    print(i + ' fruit')\n"
   ]
  },
  {
   "cell_type": "code",
   "execution_count": 26,
   "id": "4925f791",
   "metadata": {},
   "outputs": [
    {
     "data": {
      "text/plain": [
       "dict_values([30, 40, 50, 60, 70])"
      ]
     },
     "execution_count": 26,
     "metadata": {},
     "output_type": "execute_result"
    }
   ],
   "source": [
    "fruits.values()"
   ]
  },
  {
   "cell_type": "code",
   "execution_count": 27,
   "id": "519f0308",
   "metadata": {},
   "outputs": [
    {
     "data": {
      "text/plain": [
       "250"
      ]
     },
     "execution_count": 27,
     "metadata": {},
     "output_type": "execute_result"
    }
   ],
   "source": [
    "sum(fruits.values())"
   ]
  },
  {
   "cell_type": "code",
   "execution_count": 28,
   "id": "99596c87",
   "metadata": {},
   "outputs": [
    {
     "data": {
      "text/plain": [
       "5"
      ]
     },
     "execution_count": 28,
     "metadata": {},
     "output_type": "execute_result"
    }
   ],
   "source": [
    "len(fruits.values())"
   ]
  },
  {
   "cell_type": "code",
   "execution_count": 29,
   "id": "9f36efd9",
   "metadata": {},
   "outputs": [],
   "source": [
    "avg_price = sum(fruits.values()) / len(fruits.values())"
   ]
  },
  {
   "cell_type": "code",
   "execution_count": 30,
   "id": "ddf2a96a",
   "metadata": {},
   "outputs": [
    {
     "data": {
      "text/plain": [
       "50.0"
      ]
     },
     "execution_count": 30,
     "metadata": {},
     "output_type": "execute_result"
    }
   ],
   "source": [
    "avg_price"
   ]
  },
  {
   "cell_type": "markdown",
   "id": "e5d2b527",
   "metadata": {},
   "source": [
    "which fruit is contaning less than 5 characters"
   ]
  },
  {
   "cell_type": "code",
   "execution_count": 31,
   "id": "bd5d18fa",
   "metadata": {},
   "outputs": [
    {
     "data": {
      "text/plain": [
       "dict_keys(['apple', 'banana', 'grapes', 'kiwi', 'orange'])"
      ]
     },
     "execution_count": 31,
     "metadata": {},
     "output_type": "execute_result"
    }
   ],
   "source": [
    "fruits.keys()"
   ]
  },
  {
   "cell_type": "code",
   "execution_count": 32,
   "id": "2aef69e9",
   "metadata": {},
   "outputs": [
    {
     "name": "stdout",
     "output_type": "stream",
     "text": [
      "kiwi\n"
     ]
    }
   ],
   "source": [
    "for i in fruits.keys():\n",
    "    if len(i) < 5:\n",
    "        print(i)\n",
    "    \n"
   ]
  },
  {
   "cell_type": "markdown",
   "id": "43377050",
   "metadata": {},
   "source": [
    "1. ask the user enter a number and find the sum of all numbers in the given range"
   ]
  },
  {
   "cell_type": "code",
   "execution_count": 33,
   "id": "8b1b1974",
   "metadata": {},
   "outputs": [
    {
     "name": "stdout",
     "output_type": "stream",
     "text": [
      "enter a number: 10\n"
     ]
    },
    {
     "data": {
      "text/plain": [
       "45"
      ]
     },
     "execution_count": 33,
     "metadata": {},
     "output_type": "execute_result"
    }
   ],
   "source": [
    "n = int(input(\"enter a number: \"))\n",
    "sum(range(0,n))"
   ]
  },
  {
   "cell_type": "code",
   "execution_count": 34,
   "id": "68d10c63",
   "metadata": {},
   "outputs": [
    {
     "name": "stdout",
     "output_type": "stream",
     "text": [
      "enter a number: 10\n"
     ]
    }
   ],
   "source": [
    "n = int(input(\"enter a number: \"))\n",
    "val = list(range(0,n))"
   ]
  },
  {
   "cell_type": "code",
   "execution_count": 35,
   "id": "c76c8094",
   "metadata": {},
   "outputs": [
    {
     "data": {
      "text/plain": [
       "[0, 1, 2, 3, 4, 5, 6, 7, 8, 9]"
      ]
     },
     "execution_count": 35,
     "metadata": {},
     "output_type": "execute_result"
    }
   ],
   "source": [
    "val"
   ]
  },
  {
   "cell_type": "code",
   "execution_count": 36,
   "id": "355f64e3",
   "metadata": {},
   "outputs": [
    {
     "data": {
      "text/plain": [
       "45"
      ]
     },
     "execution_count": 36,
     "metadata": {},
     "output_type": "execute_result"
    }
   ],
   "source": [
    "sum(val)"
   ]
  },
  {
   "cell_type": "code",
   "execution_count": 37,
   "id": "4f2ba115",
   "metadata": {},
   "outputs": [
    {
     "name": "stdout",
     "output_type": "stream",
     "text": [
      "enter a number: 10\n",
      "0\n",
      "1\n",
      "2\n",
      "3\n",
      "4\n",
      "5\n",
      "6\n",
      "7\n",
      "8\n",
      "9\n"
     ]
    }
   ],
   "source": [
    "n = int (input(\"enter a number: \"))\n",
    "for i in range(n):\n",
    "    print(i)"
   ]
  },
  {
   "cell_type": "code",
   "execution_count": 38,
   "id": "0c599dac",
   "metadata": {},
   "outputs": [
    {
     "name": "stdout",
     "output_type": "stream",
     "text": [
      "enter a number: 10\n"
     ]
    }
   ],
   "source": [
    "n = int(input(\"enter a number: \"))\n",
    "\n",
    "total = 0\n",
    "for i in range(n+1):\n",
    "    total = total + i"
   ]
  },
  {
   "cell_type": "code",
   "execution_count": 39,
   "id": "b135fe1b",
   "metadata": {},
   "outputs": [
    {
     "name": "stdout",
     "output_type": "stream",
     "text": [
      "55\n"
     ]
    }
   ],
   "source": [
    "print(total)"
   ]
  },
  {
   "cell_type": "code",
   "execution_count": 40,
   "id": "7494b7c4",
   "metadata": {},
   "outputs": [],
   "source": [
    "alph = [chr(65+i) for i in range(0,26)]"
   ]
  },
  {
   "cell_type": "code",
   "execution_count": 41,
   "id": "8b8ae1a8",
   "metadata": {},
   "outputs": [
    {
     "data": {
      "text/plain": [
       "['A',\n",
       " 'B',\n",
       " 'C',\n",
       " 'D',\n",
       " 'E',\n",
       " 'F',\n",
       " 'G',\n",
       " 'H',\n",
       " 'I',\n",
       " 'J',\n",
       " 'K',\n",
       " 'L',\n",
       " 'M',\n",
       " 'N',\n",
       " 'O',\n",
       " 'P',\n",
       " 'Q',\n",
       " 'R',\n",
       " 'S',\n",
       " 'T',\n",
       " 'U',\n",
       " 'V',\n",
       " 'W',\n",
       " 'X',\n",
       " 'Y',\n",
       " 'Z']"
      ]
     },
     "execution_count": 41,
     "metadata": {},
     "output_type": "execute_result"
    }
   ],
   "source": [
    "alph"
   ]
  },
  {
   "cell_type": "code",
   "execution_count": 42,
   "id": "11e4bfa9",
   "metadata": {},
   "outputs": [
    {
     "name": "stdout",
     "output_type": "stream",
     "text": [
      "A\n",
      "B\n",
      "C\n",
      "D\n",
      "E\n",
      "F\n",
      "G\n",
      "H\n",
      "I\n",
      "J\n",
      "K\n",
      "L\n",
      "M\n",
      "N\n",
      "O\n",
      "P\n",
      "Q\n",
      "R\n",
      "S\n",
      "T\n",
      "U\n",
      "V\n",
      "W\n",
      "X\n",
      "Y\n",
      "Z\n"
     ]
    }
   ],
   "source": [
    "for i in alph:\n",
    "    print(i)"
   ]
  },
  {
   "cell_type": "code",
   "execution_count": 43,
   "id": "a41372ab",
   "metadata": {},
   "outputs": [],
   "source": [
    "alph = [chr(65+i) for i in range(0,26)]"
   ]
  },
  {
   "cell_type": "code",
   "execution_count": 44,
   "id": "10be83df",
   "metadata": {},
   "outputs": [],
   "source": [
    "vowel = []\n",
    "cons = []"
   ]
  },
  {
   "cell_type": "code",
   "execution_count": 46,
   "id": "a354001b",
   "metadata": {},
   "outputs": [],
   "source": [
    "for i in alph:\n",
    "    if i in ['A','E','I','O','U']:\n",
    "        vowel.append(i)\n",
    "    else:\n",
    "        cons.append(i)"
   ]
  },
  {
   "cell_type": "code",
   "execution_count": 47,
   "id": "391c4388",
   "metadata": {},
   "outputs": [
    {
     "data": {
      "text/plain": [
       "['A', 'E', 'I', 'O', 'U', 'A', 'E', 'I', 'O', 'U']"
      ]
     },
     "execution_count": 47,
     "metadata": {},
     "output_type": "execute_result"
    }
   ],
   "source": [
    "vowel"
   ]
  },
  {
   "cell_type": "code",
   "execution_count": 48,
   "id": "55184fed",
   "metadata": {},
   "outputs": [
    {
     "data": {
      "text/plain": [
       "['B',\n",
       " 'C',\n",
       " 'D',\n",
       " 'F',\n",
       " 'G',\n",
       " 'H',\n",
       " 'J',\n",
       " 'K',\n",
       " 'L',\n",
       " 'M',\n",
       " 'N',\n",
       " 'P',\n",
       " 'Q',\n",
       " 'R',\n",
       " 'S',\n",
       " 'T',\n",
       " 'V',\n",
       " 'W',\n",
       " 'X',\n",
       " 'Y',\n",
       " 'Z',\n",
       " 'B',\n",
       " 'C',\n",
       " 'D',\n",
       " 'F',\n",
       " 'G',\n",
       " 'H',\n",
       " 'J',\n",
       " 'K',\n",
       " 'L',\n",
       " 'M',\n",
       " 'N',\n",
       " 'P',\n",
       " 'Q',\n",
       " 'R',\n",
       " 'S',\n",
       " 'T',\n",
       " 'V',\n",
       " 'W',\n",
       " 'X',\n",
       " 'Y',\n",
       " 'Z']"
      ]
     },
     "execution_count": 48,
     "metadata": {},
     "output_type": "execute_result"
    }
   ],
   "source": [
    "cons"
   ]
  },
  {
   "cell_type": "code",
   "execution_count": 74,
   "id": "f22b3374",
   "metadata": {},
   "outputs": [],
   "source": [
    "a = list(range(1,11))"
   ]
  },
  {
   "cell_type": "code",
   "execution_count": 75,
   "id": "2f73c492",
   "metadata": {},
   "outputs": [
    {
     "data": {
      "text/plain": [
       "[1, 2, 3, 4, 5, 6, 7, 8, 9, 10]"
      ]
     },
     "execution_count": 75,
     "metadata": {},
     "output_type": "execute_result"
    }
   ],
   "source": [
    "a"
   ]
  },
  {
   "cell_type": "code",
   "execution_count": 82,
   "id": "d9be76c6",
   "metadata": {},
   "outputs": [
    {
     "name": "stdout",
     "output_type": "stream",
     "text": [
      "2 * 1 = 2\n",
      "2 * 2 = 4\n",
      "2 * 3 = 6\n",
      "2 * 4 = 8\n",
      "2 * 5 = 10\n",
      "2 * 6 = 12\n",
      "2 * 7 = 14\n",
      "2 * 8 = 16\n",
      "2 * 9 = 18\n",
      "2 * 10 = 20\n"
     ]
    }
   ],
   "source": [
    "for a in range(1,11):\n",
    "    print(\"2\",'*',a,'=',a*2)"
   ]
  },
  {
   "cell_type": "code",
   "execution_count": 142,
   "id": "4c5526b6",
   "metadata": {},
   "outputs": [
    {
     "name": "stdout",
     "output_type": "stream",
     "text": [
      "2 * 1 = 2\n",
      "2 * 2 = 4\n",
      "2 * 3 = 6\n",
      "2 * 4 = 8\n",
      "2 * 5 = 10\n",
      "2 * 6 = 12\n",
      "2 * 7 = 14\n",
      "2 * 8 = 16\n",
      "2 * 9 = 18\n",
      "2 * 10 = 20\n"
     ]
    }
   ],
   "source": [
    "for i in range(2,3):\n",
    "    for j in range(1,11):\n",
    "        print(f'{i} * {j} = {i * j}')"
   ]
  },
  {
   "cell_type": "code",
   "execution_count": null,
   "id": "2a11277a",
   "metadata": {},
   "outputs": [],
   "source": [
    "1.create a list of atleast 5 friends\n",
    "2.using for loop output show as\n",
    "\n",
    "\"Rk is my best friend\"\n",
    "\"Gopi is my best friend\""
   ]
  },
  {
   "cell_type": "code",
   "execution_count": 51,
   "id": "0200538a",
   "metadata": {},
   "outputs": [],
   "source": [
    "friends = [\"Rk\",\"Ravi\",\"Satish\",\"Gopi\",\"Sai\"]"
   ]
  },
  {
   "cell_type": "code",
   "execution_count": 60,
   "id": "343c315e",
   "metadata": {},
   "outputs": [
    {
     "name": "stdout",
     "output_type": "stream",
     "text": [
      "Rk is my best friend\n",
      "Ravi is my best friend\n",
      "Satish is my best friend\n",
      "Gopi is my best friend\n",
      "Sai is my best friend\n"
     ]
    }
   ],
   "source": [
    "for i in friends:\n",
    "    print(i + \" is my best friend\")"
   ]
  },
  {
   "cell_type": "code",
   "execution_count": 147,
   "id": "203df601",
   "metadata": {},
   "outputs": [
    {
     "data": {
      "text/plain": [
       "['Rk', 'Ravi', 'Satish', 'Gopi', 'Sai']"
      ]
     },
     "execution_count": 147,
     "metadata": {},
     "output_type": "execute_result"
    }
   ],
   "source": [
    "[i for i in friends]"
   ]
  },
  {
   "cell_type": "code",
   "execution_count": 149,
   "id": "74e7123b",
   "metadata": {},
   "outputs": [
    {
     "data": {
      "text/plain": [
       "['Rk is my best friends',\n",
       " 'Ravi is my best friends',\n",
       " 'Satish is my best friends',\n",
       " 'Gopi is my best friends',\n",
       " 'Sai is my best friends']"
      ]
     },
     "execution_count": 149,
     "metadata": {},
     "output_type": "execute_result"
    }
   ],
   "source": [
    "[i + ' is my best friends' for i in friends]"
   ]
  },
  {
   "cell_type": "markdown",
   "id": "751266c7",
   "metadata": {},
   "source": [
    "### Nested for loop"
   ]
  },
  {
   "cell_type": "code",
   "execution_count": 115,
   "id": "99992d2f",
   "metadata": {},
   "outputs": [
    {
     "name": "stdout",
     "output_type": "stream",
     "text": [
      "1 * 1 = 1\n",
      "1 * 2 = 2\n",
      "1 * 3 = 3\n",
      "1 * 4 = 4\n",
      "1 * 5 = 5\n",
      "1 * 6 = 6\n",
      "1 * 7 = 7\n",
      "1 * 8 = 8\n",
      "1 * 9 = 9\n",
      "1 * 10 = 10\n",
      "\n",
      "\n",
      "2 * 1 = 2\n",
      "2 * 2 = 4\n",
      "2 * 3 = 6\n",
      "2 * 4 = 8\n",
      "2 * 5 = 10\n",
      "2 * 6 = 12\n",
      "2 * 7 = 14\n",
      "2 * 8 = 16\n",
      "2 * 9 = 18\n",
      "2 * 10 = 20\n",
      "\n",
      "\n",
      "3 * 1 = 3\n",
      "3 * 2 = 6\n",
      "3 * 3 = 9\n",
      "3 * 4 = 12\n",
      "3 * 5 = 15\n",
      "3 * 6 = 18\n",
      "3 * 7 = 21\n",
      "3 * 8 = 24\n",
      "3 * 9 = 27\n",
      "3 * 10 = 30\n",
      "\n",
      "\n",
      "4 * 1 = 4\n",
      "4 * 2 = 8\n",
      "4 * 3 = 12\n",
      "4 * 4 = 16\n",
      "4 * 5 = 20\n",
      "4 * 6 = 24\n",
      "4 * 7 = 28\n",
      "4 * 8 = 32\n",
      "4 * 9 = 36\n",
      "4 * 10 = 40\n",
      "\n",
      "\n",
      "5 * 1 = 5\n",
      "5 * 2 = 10\n",
      "5 * 3 = 15\n",
      "5 * 4 = 20\n",
      "5 * 5 = 25\n",
      "5 * 6 = 30\n",
      "5 * 7 = 35\n",
      "5 * 8 = 40\n",
      "5 * 9 = 45\n",
      "5 * 10 = 50\n",
      "\n",
      "\n",
      "6 * 1 = 6\n",
      "6 * 2 = 12\n",
      "6 * 3 = 18\n",
      "6 * 4 = 24\n",
      "6 * 5 = 30\n",
      "6 * 6 = 36\n",
      "6 * 7 = 42\n",
      "6 * 8 = 48\n",
      "6 * 9 = 54\n",
      "6 * 10 = 60\n",
      "\n",
      "\n",
      "7 * 1 = 7\n",
      "7 * 2 = 14\n",
      "7 * 3 = 21\n",
      "7 * 4 = 28\n",
      "7 * 5 = 35\n",
      "7 * 6 = 42\n",
      "7 * 7 = 49\n",
      "7 * 8 = 56\n",
      "7 * 9 = 63\n",
      "7 * 10 = 70\n",
      "\n",
      "\n",
      "8 * 1 = 8\n",
      "8 * 2 = 16\n",
      "8 * 3 = 24\n",
      "8 * 4 = 32\n",
      "8 * 5 = 40\n",
      "8 * 6 = 48\n",
      "8 * 7 = 56\n",
      "8 * 8 = 64\n",
      "8 * 9 = 72\n",
      "8 * 10 = 80\n",
      "\n",
      "\n",
      "9 * 1 = 9\n",
      "9 * 2 = 18\n",
      "9 * 3 = 27\n",
      "9 * 4 = 36\n",
      "9 * 5 = 45\n",
      "9 * 6 = 54\n",
      "9 * 7 = 63\n",
      "9 * 8 = 72\n",
      "9 * 9 = 81\n",
      "9 * 10 = 90\n",
      "\n",
      "\n",
      "10 * 1 = 10\n",
      "10 * 2 = 20\n",
      "10 * 3 = 30\n",
      "10 * 4 = 40\n",
      "10 * 5 = 50\n",
      "10 * 6 = 60\n",
      "10 * 7 = 70\n",
      "10 * 8 = 80\n",
      "10 * 9 = 90\n",
      "10 * 10 = 100\n",
      "\n",
      "\n"
     ]
    }
   ],
   "source": [
    "for i in range(1,11):\n",
    "    for j in range(1,11):\n",
    "        print(f'{i} * {j} = {i * j}')\n",
    "    print('\\n')"
   ]
  },
  {
   "cell_type": "markdown",
   "id": "6042cacc",
   "metadata": {},
   "source": [
    "### List comprehension"
   ]
  },
  {
   "cell_type": "markdown",
   "id": "26103a30",
   "metadata": {},
   "source": [
    "write a python code using for loop to find the values from 100 to 120"
   ]
  },
  {
   "cell_type": "code",
   "execution_count": 144,
   "id": "560808c5",
   "metadata": {},
   "outputs": [],
   "source": [
    "list1 = [ ]\n",
    "for i in range(100,120):\n",
    "    list1.append(i)"
   ]
  },
  {
   "cell_type": "code",
   "execution_count": 145,
   "id": "b308fb7a",
   "metadata": {},
   "outputs": [
    {
     "data": {
      "text/plain": [
       "[100,\n",
       " 101,\n",
       " 102,\n",
       " 103,\n",
       " 104,\n",
       " 105,\n",
       " 106,\n",
       " 107,\n",
       " 108,\n",
       " 109,\n",
       " 110,\n",
       " 111,\n",
       " 112,\n",
       " 113,\n",
       " 114,\n",
       " 115,\n",
       " 116,\n",
       " 117,\n",
       " 118,\n",
       " 119]"
      ]
     },
     "execution_count": 145,
     "metadata": {},
     "output_type": "execute_result"
    }
   ],
   "source": [
    "list1"
   ]
  },
  {
   "cell_type": "code",
   "execution_count": 146,
   "id": "5a1f376a",
   "metadata": {},
   "outputs": [
    {
     "data": {
      "text/plain": [
       "[100,\n",
       " 101,\n",
       " 102,\n",
       " 103,\n",
       " 104,\n",
       " 105,\n",
       " 106,\n",
       " 107,\n",
       " 108,\n",
       " 109,\n",
       " 110,\n",
       " 111,\n",
       " 112,\n",
       " 113,\n",
       " 114,\n",
       " 115,\n",
       " 116,\n",
       " 117,\n",
       " 118,\n",
       " 119]"
      ]
     },
     "execution_count": 146,
     "metadata": {},
     "output_type": "execute_result"
    }
   ],
   "source": [
    "[i for i in range(100,120)]"
   ]
  },
  {
   "cell_type": "markdown",
   "id": "15629e5b",
   "metadata": {},
   "source": [
    "## List comperhension and ternary operator"
   ]
  },
  {
   "cell_type": "code",
   "execution_count": 151,
   "id": "16264ff2",
   "metadata": {},
   "outputs": [],
   "source": [
    "list3 = list(range(3,23))"
   ]
  },
  {
   "cell_type": "code",
   "execution_count": 152,
   "id": "72f7ac5b",
   "metadata": {},
   "outputs": [
    {
     "data": {
      "text/plain": [
       "[3, 4, 5, 6, 7, 8, 9, 10, 11, 12, 13, 14, 15, 16, 17, 18, 19, 20, 21, 22]"
      ]
     },
     "execution_count": 152,
     "metadata": {},
     "output_type": "execute_result"
    }
   ],
   "source": [
    "list3"
   ]
  },
  {
   "cell_type": "code",
   "execution_count": 154,
   "id": "42964257",
   "metadata": {},
   "outputs": [
    {
     "data": {
      "text/plain": [
       "[6, 8, 10, 12, 14, 16, 18, 20, 22, 24, 26, 28, 30, 32, 34, 36, 38, 40, 42, 44]"
      ]
     },
     "execution_count": 154,
     "metadata": {},
     "output_type": "execute_result"
    }
   ],
   "source": [
    "[i * 2 for i in list3]"
   ]
  },
  {
   "cell_type": "code",
   "execution_count": 156,
   "id": "f4e85b33",
   "metadata": {},
   "outputs": [
    {
     "data": {
      "text/plain": [
       "[3, 6, 9, 12, 15, 18, 21]"
      ]
     },
     "execution_count": 156,
     "metadata": {},
     "output_type": "execute_result"
    }
   ],
   "source": [
    "[i for i in list3 if i%3 == 0]"
   ]
  },
  {
   "cell_type": "code",
   "execution_count": 157,
   "id": "eb806e3d",
   "metadata": {},
   "outputs": [],
   "source": [
    "a = ['a','e','i','o','u']\n",
    "name = 'innomatics reasearch labs'"
   ]
  },
  {
   "cell_type": "code",
   "execution_count": 158,
   "id": "caddebd1",
   "metadata": {},
   "outputs": [
    {
     "name": "stdout",
     "output_type": "stream",
     "text": [
      "n\n",
      "n\n",
      "m\n",
      "t\n",
      "c\n",
      "s\n",
      " \n",
      "r\n",
      "s\n",
      "r\n",
      "c\n",
      "h\n",
      " \n",
      "l\n",
      "b\n",
      "s\n"
     ]
    }
   ],
   "source": [
    "for i in name:\n",
    "    if i not in a:\n",
    "        print(i)"
   ]
  },
  {
   "cell_type": "code",
   "execution_count": 159,
   "id": "657e4f7c",
   "metadata": {},
   "outputs": [
    {
     "data": {
      "text/plain": [
       "['a', 'e', 'i', 'o', 'u']"
      ]
     },
     "execution_count": 159,
     "metadata": {},
     "output_type": "execute_result"
    }
   ],
   "source": [
    "a"
   ]
  },
  {
   "cell_type": "code",
   "execution_count": 160,
   "id": "66e82d86",
   "metadata": {},
   "outputs": [
    {
     "data": {
      "text/plain": [
       "'innomatics reasearch labs'"
      ]
     },
     "execution_count": 160,
     "metadata": {},
     "output_type": "execute_result"
    }
   ],
   "source": [
    "name"
   ]
  },
  {
   "cell_type": "code",
   "execution_count": 162,
   "id": "5fad2815",
   "metadata": {},
   "outputs": [
    {
     "data": {
      "text/plain": [
       "['n',\n",
       " 'n',\n",
       " 'm',\n",
       " 't',\n",
       " 'c',\n",
       " 's',\n",
       " ' ',\n",
       " 'r',\n",
       " 's',\n",
       " 'r',\n",
       " 'c',\n",
       " 'h',\n",
       " ' ',\n",
       " 'l',\n",
       " 'b',\n",
       " 's']"
      ]
     },
     "execution_count": 162,
     "metadata": {},
     "output_type": "execute_result"
    }
   ],
   "source": [
    "[i for i in name if i not in a]"
   ]
  },
  {
   "cell_type": "markdown",
   "id": "d9e2a658",
   "metadata": {},
   "source": [
    "write a python code to genrate ood number from 500 to 550 without using step but should use list comperhension"
   ]
  },
  {
   "cell_type": "code",
   "execution_count": 163,
   "id": "10559dbe",
   "metadata": {},
   "outputs": [],
   "source": [
    "list1 = list(range(500,550))"
   ]
  },
  {
   "cell_type": "code",
   "execution_count": 164,
   "id": "886ede33",
   "metadata": {},
   "outputs": [
    {
     "data": {
      "text/plain": [
       "[500,\n",
       " 501,\n",
       " 502,\n",
       " 503,\n",
       " 504,\n",
       " 505,\n",
       " 506,\n",
       " 507,\n",
       " 508,\n",
       " 509,\n",
       " 510,\n",
       " 511,\n",
       " 512,\n",
       " 513,\n",
       " 514,\n",
       " 515,\n",
       " 516,\n",
       " 517,\n",
       " 518,\n",
       " 519,\n",
       " 520,\n",
       " 521,\n",
       " 522,\n",
       " 523,\n",
       " 524,\n",
       " 525,\n",
       " 526,\n",
       " 527,\n",
       " 528,\n",
       " 529,\n",
       " 530,\n",
       " 531,\n",
       " 532,\n",
       " 533,\n",
       " 534,\n",
       " 535,\n",
       " 536,\n",
       " 537,\n",
       " 538,\n",
       " 539,\n",
       " 540,\n",
       " 541,\n",
       " 542,\n",
       " 543,\n",
       " 544,\n",
       " 545,\n",
       " 546,\n",
       " 547,\n",
       " 548,\n",
       " 549]"
      ]
     },
     "execution_count": 164,
     "metadata": {},
     "output_type": "execute_result"
    }
   ],
   "source": [
    "list1"
   ]
  },
  {
   "cell_type": "code",
   "execution_count": 167,
   "id": "80967a74",
   "metadata": {},
   "outputs": [
    {
     "data": {
      "text/plain": [
       "[501,\n",
       " 503,\n",
       " 505,\n",
       " 507,\n",
       " 509,\n",
       " 511,\n",
       " 513,\n",
       " 515,\n",
       " 517,\n",
       " 519,\n",
       " 521,\n",
       " 523,\n",
       " 525,\n",
       " 527,\n",
       " 529,\n",
       " 531,\n",
       " 533,\n",
       " 535,\n",
       " 537,\n",
       " 539,\n",
       " 541,\n",
       " 543,\n",
       " 545,\n",
       " 547,\n",
       " 549]"
      ]
     },
     "execution_count": 167,
     "metadata": {},
     "output_type": "execute_result"
    }
   ],
   "source": [
    "[i for i in list1 if i % 2 != 0]"
   ]
  },
  {
   "cell_type": "code",
   "execution_count": null,
   "id": "a09d2e37",
   "metadata": {},
   "outputs": [],
   "source": []
  }
 ],
 "metadata": {
  "kernelspec": {
   "display_name": "Python 3 (ipykernel)",
   "language": "python",
   "name": "python3"
  },
  "language_info": {
   "codemirror_mode": {
    "name": "ipython",
    "version": 3
   },
   "file_extension": ".py",
   "mimetype": "text/x-python",
   "name": "python",
   "nbconvert_exporter": "python",
   "pygments_lexer": "ipython3",
   "version": "3.11.4"
  }
 },
 "nbformat": 4,
 "nbformat_minor": 5
}
