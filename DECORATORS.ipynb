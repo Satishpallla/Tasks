{
 "cells": [
  {
   "cell_type": "markdown",
   "id": "9aa1ed9c",
   "metadata": {},
   "source": [
    "* Decorator is a function which takes another function and arguments as inputs."
   ]
  },
  {
   "cell_type": "code",
   "execution_count": 18,
   "id": "4bce4698",
   "metadata": {},
   "outputs": [],
   "source": [
    "def fooOuter(f):\n",
    "    def fooInner():\n",
    "        print('*'*5)\n",
    "        f()\n",
    "        print('*'*5)\n",
    "    return fooInner()"
   ]
  },
  {
   "cell_type": "code",
   "execution_count": 19,
   "id": "2e89cf66",
   "metadata": {},
   "outputs": [],
   "source": [
    "def abc():\n",
    "    print('holla')"
   ]
  },
  {
   "cell_type": "code",
   "execution_count": 20,
   "id": "aa84f330",
   "metadata": {},
   "outputs": [
    {
     "name": "stdout",
     "output_type": "stream",
     "text": [
      "*****\n",
      "holla\n",
      "*****\n"
     ]
    }
   ],
   "source": [
    "fooOuter(abc)"
   ]
  },
  {
   "cell_type": "code",
   "execution_count": 30,
   "id": "e336cff8",
   "metadata": {},
   "outputs": [
    {
     "name": "stdout",
     "output_type": "stream",
     "text": [
      "*****\n",
      "12345\n",
      "*****\n"
     ]
    }
   ],
   "source": [
    "@fooOuter               # Decorator\n",
    "def abc():\n",
    "    print('12345')"
   ]
  },
  {
   "cell_type": "code",
   "execution_count": null,
   "id": "81046c0e",
   "metadata": {},
   "outputs": [],
   "source": []
  },
  {
   "cell_type": "code",
   "execution_count": 42,
   "id": "279de524",
   "metadata": {},
   "outputs": [],
   "source": [
    "def fooOuter(f):\n",
    "    '''outer'''\n",
    "    def fooInner():\n",
    "        '''inner'''\n",
    "        print('*'*5)\n",
    "        f()\n",
    "        print('*'*5)\n",
    "    return fooInner"
   ]
  },
  {
   "cell_type": "code",
   "execution_count": 43,
   "id": "d7f442c2",
   "metadata": {},
   "outputs": [],
   "source": [
    "def abc():\n",
    "    print('holla')"
   ]
  },
  {
   "cell_type": "code",
   "execution_count": 44,
   "id": "74fd8bd4",
   "metadata": {},
   "outputs": [
    {
     "data": {
      "text/plain": [
       "<function __main__.fooOuter.<locals>.fooInner()>"
      ]
     },
     "execution_count": 44,
     "metadata": {},
     "output_type": "execute_result"
    }
   ],
   "source": [
    "fooOuter(abc)"
   ]
  },
  {
   "cell_type": "code",
   "execution_count": 45,
   "id": "50c1d601",
   "metadata": {},
   "outputs": [],
   "source": [
    "@fooOuter               # Decorator\n",
    "def abc():\n",
    "    '''abc func call'''\n",
    "    print('12345')"
   ]
  },
  {
   "cell_type": "code",
   "execution_count": 46,
   "id": "15effd01",
   "metadata": {},
   "outputs": [
    {
     "name": "stdout",
     "output_type": "stream",
     "text": [
      "*****\n",
      "12345\n",
      "*****\n"
     ]
    }
   ],
   "source": [
    "abc()"
   ]
  },
  {
   "cell_type": "raw",
   "id": "9a47b50b",
   "metadata": {},
   "source": [
    "abc.__doc__"
   ]
  },
  {
   "cell_type": "markdown",
   "id": "6d1784a8",
   "metadata": {},
   "source": [
    "# Wrapping"
   ]
  },
  {
   "cell_type": "markdown",
   "id": "f8d645ee",
   "metadata": {},
   "source": [
    "Wrapping in decorators is a technique of modifying the behavior of a function or a class by enclosing it in another function or a class. The wrapper function or class adds some additional functionality to the original function or class without changing its definition or implementation. Wrapping in decorators is useful for adding features such as logging, caching, validation, authentication, etc. to existing functions or classes without modifying their source code ."
   ]
  },
  {
   "cell_type": "code",
   "execution_count": 51,
   "id": "666954cf",
   "metadata": {},
   "outputs": [],
   "source": [
    "import functools"
   ]
  },
  {
   "cell_type": "code",
   "execution_count": 52,
   "id": "bae99c49",
   "metadata": {},
   "outputs": [],
   "source": [
    "from functools import wraps"
   ]
  },
  {
   "cell_type": "code",
   "execution_count": 56,
   "id": "ebb0f131",
   "metadata": {},
   "outputs": [],
   "source": [
    "def fooOuter(f):\n",
    "    '''outer'''\n",
    "    @wraps(f)\n",
    "    def fooInner():\n",
    "        '''inner'''\n",
    "        print('*'*5)\n",
    "        f()\n",
    "        print('*'*5)\n",
    "    return fooInner"
   ]
  },
  {
   "cell_type": "code",
   "execution_count": 57,
   "id": "4688705b",
   "metadata": {},
   "outputs": [],
   "source": [
    "@fooOuter # decorator\n",
    "def abc():\n",
    "    '''abc func call'''\n",
    "    print('12345')"
   ]
  },
  {
   "cell_type": "code",
   "execution_count": 58,
   "id": "7a11f55c",
   "metadata": {},
   "outputs": [
    {
     "name": "stdout",
     "output_type": "stream",
     "text": [
      "*****\n",
      "12345\n",
      "*****\n"
     ]
    }
   ],
   "source": [
    "abc()"
   ]
  },
  {
   "cell_type": "code",
   "execution_count": 59,
   "id": "b3f4957c",
   "metadata": {},
   "outputs": [
    {
     "data": {
      "text/plain": [
       "'abc func call'"
      ]
     },
     "execution_count": 59,
     "metadata": {},
     "output_type": "execute_result"
    }
   ],
   "source": [
    "abc.__doc__"
   ]
  },
  {
   "cell_type": "markdown",
   "id": "c0f50ef2",
   "metadata": {},
   "source": [
    "# adding parameters"
   ]
  },
  {
   "cell_type": "code",
   "execution_count": 94,
   "id": "be8b2a4f",
   "metadata": {},
   "outputs": [],
   "source": [
    "def fooOuter(f,*args,**kwargs):\n",
    "    '''outer'''\n",
    "    @wraps(f)\n",
    "    def fooInner(*args,**kwargs):    \n",
    "        '''inner'''\n",
    "        print('*'*5)\n",
    "        f(*args,**kwargs)\n",
    "        print('*'*5)\n",
    "    return fooInner"
   ]
  },
  {
   "cell_type": "code",
   "execution_count": 95,
   "id": "f0b14a1d",
   "metadata": {},
   "outputs": [],
   "source": [
    "@fooOuter\n",
    "def abc(a,b,c):\n",
    "    ''' abc func call'''\n",
    "    print(a+b+c)"
   ]
  },
  {
   "cell_type": "code",
   "execution_count": 96,
   "id": "a9561346",
   "metadata": {},
   "outputs": [
    {
     "name": "stdout",
     "output_type": "stream",
     "text": [
      "*****\n",
      "6\n",
      "*****\n"
     ]
    }
   ],
   "source": [
    "abc(1,2,3)"
   ]
  },
  {
   "cell_type": "code",
   "execution_count": 97,
   "id": "c6b764a3",
   "metadata": {},
   "outputs": [
    {
     "data": {
      "text/plain": [
       "(' abc func call', 'abc')"
      ]
     },
     "execution_count": 97,
     "metadata": {},
     "output_type": "execute_result"
    }
   ],
   "source": [
    "abc.__doc__, abc.__name__"
   ]
  },
  {
   "cell_type": "code",
   "execution_count": 98,
   "id": "faf233c5",
   "metadata": {},
   "outputs": [],
   "source": [
    "@fooOuter\n",
    "def xyz():\n",
    "    print(555)"
   ]
  },
  {
   "cell_type": "code",
   "execution_count": 99,
   "id": "1122ceb2",
   "metadata": {},
   "outputs": [
    {
     "name": "stdout",
     "output_type": "stream",
     "text": [
      "*****\n",
      "555\n",
      "*****\n",
      "*****\n",
      "6\n",
      "*****\n"
     ]
    },
    {
     "data": {
      "text/plain": [
       "(None, None)"
      ]
     },
     "execution_count": 99,
     "metadata": {},
     "output_type": "execute_result"
    }
   ],
   "source": [
    "xyz(), abc(1,2,3)"
   ]
  },
  {
   "cell_type": "markdown",
   "id": "f40effc6",
   "metadata": {},
   "source": [
    "## chaining decorator"
   ]
  },
  {
   "cell_type": "code",
   "execution_count": 116,
   "id": "9ab66efc",
   "metadata": {},
   "outputs": [],
   "source": [
    "def fooO(f,*args, **kwargs):\n",
    "    '''outer'''\n",
    "    @wraps(f)\n",
    "    def fooI(*args, **kwargs):    \n",
    "        '''inner'''\n",
    "        print('##'*5)\n",
    "        \n",
    "        f(*args, **kwargs)\n",
    "        print('##'*5)\n",
    "    return fooI"
   ]
  },
  {
   "cell_type": "code",
   "execution_count": 117,
   "id": "2282952b",
   "metadata": {},
   "outputs": [],
   "source": [
    "@fooO\n",
    "@fooOuter\n",
    "def abc(a,b,c):\n",
    "    print(a+b+C)"
   ]
  },
  {
   "cell_type": "code",
   "execution_count": null,
   "id": "e7910cda",
   "metadata": {},
   "outputs": [],
   "source": [
    "abc(1,2,3)"
   ]
  }
 ],
 "metadata": {
  "kernelspec": {
   "display_name": "Python 3 (ipykernel)",
   "language": "python",
   "name": "python3"
  },
  "language_info": {
   "codemirror_mode": {
    "name": "ipython",
    "version": 3
   },
   "file_extension": ".py",
   "mimetype": "text/x-python",
   "name": "python",
   "nbconvert_exporter": "python",
   "pygments_lexer": "ipython3",
   "version": "3.11.4"
  }
 },
 "nbformat": 4,
 "nbformat_minor": 5
}
