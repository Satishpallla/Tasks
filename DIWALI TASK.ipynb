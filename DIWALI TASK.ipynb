{
 "cells": [
  {
   "cell_type": "markdown",
   "id": "5297c7f1",
   "metadata": {},
   "source": [
    "# remove()_set"
   ]
  },
  {
   "cell_type": "markdown",
   "id": "ea4deee7",
   "metadata": {},
   "source": [
    "* Remove() method remove first occurrence value "
   ]
  },
  {
   "cell_type": "code",
   "execution_count": 23,
   "id": "2d2db5c1",
   "metadata": {},
   "outputs": [],
   "source": [
    "def remove_from_set(set,element_to_remove):\n",
    "    \n",
    "    if element_to_remove in set:\n",
    "        set.remove(element_to_remove)\n",
    "        print(f'Element{element_to_remove} removed successfully.')\n",
    "    else:\n",
    "         print(f'Element{element_to_remove} not found in the set.')"
   ]
  },
  {
   "cell_type": "code",
   "execution_count": 24,
   "id": "56c503ab",
   "metadata": {},
   "outputs": [
    {
     "name": "stdout",
     "output_type": "stream",
     "text": [
      "Elementramu removed successfully.\n",
      "{'sai', 'raju', 'suresh', 'satish'}\n"
     ]
    }
   ],
   "source": [
    "set = {'raju','ramu','satish','suresh','sai'}\n",
    "remove_from_set(set,'ramu')\n",
    "print(set)"
   ]
  },
  {
   "cell_type": "code",
   "execution_count": 25,
   "id": "bd3b22f9",
   "metadata": {},
   "outputs": [
    {
     "name": "stdout",
     "output_type": "stream",
     "text": [
      "Elementsai removed successfully.\n",
      "{'raju', 'suresh', 'satish'}\n"
     ]
    }
   ],
   "source": [
    "remove_from_set(set,'sai')\n",
    "print(set)"
   ]
  },
  {
   "cell_type": "code",
   "execution_count": null,
   "id": "8ff6c36a",
   "metadata": {},
   "outputs": [],
   "source": []
  },
  {
   "cell_type": "markdown",
   "id": "46d4cf8c",
   "metadata": {},
   "source": [
    "# symmetric_difference_()set"
   ]
  },
  {
   "cell_type": "markdown",
   "id": "4122c8b3",
   "metadata": {},
   "source": [
    "* Return the symmetric difference of two sets as a new set.\n",
    "\n",
    "\n",
    "\n",
    "* All elements that are in exactly one of the sets."
   ]
  },
  {
   "cell_type": "code",
   "execution_count": 26,
   "id": "d1454b43",
   "metadata": {},
   "outputs": [],
   "source": [
    "def symmetric_difference(set1,set2):\n",
    "    \n",
    "    ''''\n",
    "    Function to find the symmetric difference between two sets.\n",
    "    \n",
    "    Args: \n",
    "    set1 : The first set\n",
    "    set2 : The second set\n",
    "    \n",
    "    returns:\n",
    "      A new set containing elements that are in either set1 or set2,but not in both.\n",
    "    '''\n",
    "    return set1.symmetric_difference(set2)"
   ]
  },
  {
   "cell_type": "code",
   "execution_count": 27,
   "id": "93761a3e",
   "metadata": {},
   "outputs": [
    {
     "name": "stdout",
     "output_type": "stream",
     "text": [
      "{1, 2, 3, 7, 8}\n"
     ]
    }
   ],
   "source": [
    "set1 = {1,2,3,4,5,6}\n",
    "set2 = {4,5,6,7,8}\n",
    "set1.symmetric_difference(set2)\n",
    "\n",
    "set = (set1.symmetric_difference(set2))\n",
    "print(set)"
   ]
  },
  {
   "cell_type": "code",
   "execution_count": null,
   "id": "8ca42a4a",
   "metadata": {},
   "outputs": [],
   "source": []
  },
  {
   "cell_type": "markdown",
   "id": "4add9a9b",
   "metadata": {},
   "source": [
    "# difference()_set"
   ]
  },
  {
   "cell_type": "markdown",
   "id": "54e0c2a7",
   "metadata": {},
   "source": [
    "* Return the differences of two or more sets as a new set.\n",
    "* All the elements that are in the sets but not the others"
   ]
  },
  {
   "cell_type": "code",
   "execution_count": 28,
   "id": "bcf0ac1a",
   "metadata": {},
   "outputs": [],
   "source": [
    "def difference(set1,set2):\n",
    "    '''\n",
    "    Function to find the difference between two sets.\n",
    "    \n",
    "     Args: \n",
    "    set1 : The first set\n",
    "    set2 : The second set\n",
    "    \n",
    "    returns:\n",
    "      A new set containing elements that are in either set1 but not in set2.\n",
    "    '''\n",
    "    return set1.difference(set2)"
   ]
  },
  {
   "cell_type": "code",
   "execution_count": 29,
   "id": "9cb53279",
   "metadata": {},
   "outputs": [
    {
     "name": "stdout",
     "output_type": "stream",
     "text": [
      "{10, 11, 12}\n"
     ]
    }
   ],
   "source": [
    "set1 = {10,11,12,13,14}\n",
    "set2 = {13,14,15,16,17}\n",
    "set1.difference(set2)\n",
    "\n",
    "set = (set1.difference(set2))\n",
    "print(set)"
   ]
  },
  {
   "cell_type": "code",
   "execution_count": 30,
   "id": "1b056f6d",
   "metadata": {},
   "outputs": [
    {
     "name": "stdout",
     "output_type": "stream",
     "text": [
      "{16, 17, 18}\n"
     ]
    }
   ],
   "source": [
    "set1 = {10,11,12,13,14}\n",
    "set2 = {13,14,16,17,18}\n",
    "set1.difference(set2)\n",
    "\n",
    "set = (set2.difference(set1))\n",
    "print(set)"
   ]
  },
  {
   "cell_type": "code",
   "execution_count": null,
   "id": "7a4420a3",
   "metadata": {},
   "outputs": [],
   "source": []
  },
  {
   "cell_type": "markdown",
   "id": "95fbdc96",
   "metadata": {},
   "source": [
    "# pop()_set"
   ]
  },
  {
   "cell_type": "code",
   "execution_count": 11,
   "id": "6572debe",
   "metadata": {},
   "outputs": [],
   "source": [
    "def custom_pop_set(my_set):\n",
    "    '''\n",
    "    Removes and return an arbitrary element from the set.\n",
    "    \n",
    "    Args:\n",
    "        my_set (set) : The set from which the element will be removed.\n",
    "        \n",
    "    Returns:\n",
    "        The popped element.\n",
    "    '''\n",
    "    \n",
    "    if not my_set:\n",
    "        raise KeyError('pop from an empty set')\n",
    "    else:\n",
    "        popped_element = my_set.pop()\n",
    "        return popped_element"
   ]
  },
  {
   "cell_type": "code",
   "execution_count": 12,
   "id": "f3955849",
   "metadata": {},
   "outputs": [
    {
     "name": "stdout",
     "output_type": "stream",
     "text": [
      "Popped Element: 1\n",
      "Update Set: {2, 3, 4, 5}\n"
     ]
    }
   ],
   "source": [
    "my_set = {1,2,3,4,5}\n",
    "popped_value = custom_pop_set(my_set)\n",
    "\n",
    "print(f'Popped Element: {popped_value}')\n",
    "print(f'Update Set: {my_set}')"
   ]
  },
  {
   "cell_type": "code",
   "execution_count": null,
   "id": "61e546c9",
   "metadata": {},
   "outputs": [],
   "source": []
  },
  {
   "cell_type": "markdown",
   "id": "b7603afe",
   "metadata": {},
   "source": [
    "# intersection_update_()set"
   ]
  },
  {
   "cell_type": "code",
   "execution_count": 20,
   "id": "3202c449",
   "metadata": {},
   "outputs": [],
   "source": [
    "def custom_intersection_update_set(set1,set2):\n",
    "    '''\n",
    "    Update set1 with the intersection of set1 and set2.\n",
    "    \n",
    "    Args:\n",
    "        set1 (set): The set to be updated\n",
    "        set2 (set or iterable): The set or iterable used for the intersection.\n",
    "        \n",
    "    Returns:\n",
    "        None (modifies set1 in-place).\n",
    "    '''\n",
    "    \n",
    "    set1.intersection_update(set2)\n",
    "    "
   ]
  },
  {
   "cell_type": "code",
   "execution_count": 21,
   "id": "291e3da5",
   "metadata": {},
   "outputs": [
    {
     "name": "stdout",
     "output_type": "stream",
     "text": [
      "Updated Set1 after intersection: {3, 4, 5}\n"
     ]
    }
   ],
   "source": [
    "set1 = {1,2,3,4,5}\n",
    "set2 = {3,4,5,6,7}\n",
    "\n",
    "custom_intersection_update_set(set1,set2)\n",
    "\n",
    "print(f'Updated Set1 after intersection: {set1}')"
   ]
  },
  {
   "cell_type": "code",
   "execution_count": null,
   "id": "84cd00ef",
   "metadata": {},
   "outputs": [],
   "source": []
  },
  {
   "cell_type": "markdown",
   "id": "8f0202f5",
   "metadata": {},
   "source": [
    "# issuperset()"
   ]
  },
  {
   "cell_type": "code",
   "execution_count": 31,
   "id": "64fca2dd",
   "metadata": {},
   "outputs": [],
   "source": [
    "def custom_issuperset(set1,set2):\n",
    "    '''\n",
    "    Check if set1 is a suoerset of set2.\n",
    "    \n",
    "    Args:\n",
    "        set1(set): The set to be checked.\n",
    "        set2(set): The set to be checj against.\n",
    "        \n",
    "    Returns:\n",
    "        bool: True if set1 is a superset of set2,False otherwise.\n",
    "    '''\n",
    "    return set1.issuperset(set2)"
   ]
  },
  {
   "cell_type": "code",
   "execution_count": 32,
   "id": "1529e713",
   "metadata": {},
   "outputs": [
    {
     "name": "stdout",
     "output_type": "stream",
     "text": [
      "Is set1 a superset of set2? True\n"
     ]
    }
   ],
   "source": [
    "set1 = {1,2,3,4,5}\n",
    "set2 = {3,4}\n",
    "result = custom_issuperset(set1,set2)\n",
    "\n",
    "print(f'Is set1 a superset of set2? {result}')"
   ]
  },
  {
   "cell_type": "code",
   "execution_count": null,
   "id": "77e71fc3",
   "metadata": {},
   "outputs": [],
   "source": []
  }
 ],
 "metadata": {
  "kernelspec": {
   "display_name": "Python 3 (ipykernel)",
   "language": "python",
   "name": "python3"
  },
  "language_info": {
   "codemirror_mode": {
    "name": "ipython",
    "version": 3
   },
   "file_extension": ".py",
   "mimetype": "text/x-python",
   "name": "python",
   "nbconvert_exporter": "python",
   "pygments_lexer": "ipython3",
   "version": "3.11.4"
  }
 },
 "nbformat": 4,
 "nbformat_minor": 5
}
