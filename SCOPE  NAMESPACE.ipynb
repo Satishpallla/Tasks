{
 "cells": [
  {
   "cell_type": "markdown",
   "id": "70d3f9a5",
   "metadata": {},
   "source": [
    "# Scope"
   ]
  },
  {
   "cell_type": "markdown",
   "id": "f7308d2d",
   "metadata": {},
   "source": [
    "A variable is only available from inside the region it is created. This is called scope."
   ]
  },
  {
   "cell_type": "markdown",
   "id": "97bfd666",
   "metadata": {},
   "source": [
    "## Local scope"
   ]
  },
  {
   "cell_type": "markdown",
   "id": "690d8bdb",
   "metadata": {},
   "source": [
    "A variable created inside a function belongs to the local scope of that function, and can only be used inside that function."
   ]
  },
  {
   "cell_type": "code",
   "execution_count": 54,
   "id": "d88809ee",
   "metadata": {},
   "outputs": [],
   "source": [
    "x = 20\n",
    "def myfun():\n",
    "    x = 10\n",
    "    print(x)"
   ]
  },
  {
   "cell_type": "code",
   "execution_count": 55,
   "id": "24364a62",
   "metadata": {},
   "outputs": [
    {
     "name": "stdout",
     "output_type": "stream",
     "text": [
      "10\n"
     ]
    }
   ],
   "source": [
    "myfun()"
   ]
  },
  {
   "cell_type": "code",
   "execution_count": 56,
   "id": "7853e69a",
   "metadata": {},
   "outputs": [
    {
     "data": {
      "text/plain": [
       "20"
      ]
     },
     "execution_count": 56,
     "metadata": {},
     "output_type": "execute_result"
    }
   ],
   "source": [
    "x"
   ]
  },
  {
   "cell_type": "markdown",
   "id": "66ec28a9",
   "metadata": {},
   "source": [
    "## Function Inside Function "
   ]
  },
  {
   "cell_type": "code",
   "execution_count": 22,
   "id": "bf12dd13",
   "metadata": {},
   "outputs": [],
   "source": [
    "x = 5\n",
    "def fooouter():\n",
    "    x = 10\n",
    "    def fooinner():\n",
    "        x = 15\n",
    "        print(x)\n",
    "    fooinner()\n",
    "    print(x)"
   ]
  },
  {
   "cell_type": "code",
   "execution_count": 23,
   "id": "701b39b4",
   "metadata": {},
   "outputs": [
    {
     "name": "stdout",
     "output_type": "stream",
     "text": [
      "15\n",
      "10\n"
     ]
    }
   ],
   "source": [
    "fooouter()"
   ]
  },
  {
   "cell_type": "code",
   "execution_count": 24,
   "id": "01a3381c",
   "metadata": {},
   "outputs": [
    {
     "data": {
      "text/plain": [
       "5"
      ]
     },
     "execution_count": 24,
     "metadata": {},
     "output_type": "execute_result"
    }
   ],
   "source": [
    "x"
   ]
  },
  {
   "cell_type": "code",
   "execution_count": 31,
   "id": "b8187cba",
   "metadata": {},
   "outputs": [],
   "source": [
    "x = 5\n",
    "def fooouter():\n",
    "    x = 10\n",
    "    print(x)\n",
    "    def fooinner():\n",
    "        nonlocal x\n",
    "        x = 15\n",
    "        print(x,end= ', ')\n",
    "    fooinner()\n",
    "    print(x)"
   ]
  },
  {
   "cell_type": "code",
   "execution_count": 32,
   "id": "d9c71b8a",
   "metadata": {},
   "outputs": [
    {
     "name": "stdout",
     "output_type": "stream",
     "text": [
      "10\n",
      "15, 15\n"
     ]
    }
   ],
   "source": [
    "fooouter()"
   ]
  },
  {
   "cell_type": "code",
   "execution_count": 44,
   "id": "9a657559",
   "metadata": {},
   "outputs": [],
   "source": [
    "x = 5\n",
    "def fooouter():\n",
    "    x = 10\n",
    "    print(x)\n",
    "    def fooinner():\n",
    "        #nonlocal x\n",
    "        x = 15\n",
    "        print(x,end= ', ')\n",
    "    fooinner()\n",
    "    print(x)"
   ]
  },
  {
   "cell_type": "code",
   "execution_count": 45,
   "id": "3249c6dd",
   "metadata": {},
   "outputs": [
    {
     "name": "stdout",
     "output_type": "stream",
     "text": [
      "10\n",
      "15, 10\n"
     ]
    }
   ],
   "source": [
    "fooouter()"
   ]
  },
  {
   "cell_type": "markdown",
   "id": "34f0a5fc",
   "metadata": {},
   "source": [
    "# enclosed scope"
   ]
  },
  {
   "cell_type": "code",
   "execution_count": 66,
   "id": "3323752e",
   "metadata": {},
   "outputs": [],
   "source": [
    "x = 5\n",
    "def fooOuter():\n",
    "    x = 10\n",
    "    print(f'x was assigned a value {x} inside the outer functiom')\n",
    "    print(f'value of x before entering inner func is {x}')\n",
    "    def fooInner():\n",
    "        #nonlocal x\n",
    "        #print('x is no a non-local var')\n",
    "        x = 15\n",
    "        print(f'x was assigned a value {x} inside the inner functiom')\n",
    "    fooInner()\n",
    "    print(f'value of x after exiting inner func is {x}')"
   ]
  },
  {
   "cell_type": "code",
   "execution_count": 67,
   "id": "aad223e0",
   "metadata": {},
   "outputs": [
    {
     "name": "stdout",
     "output_type": "stream",
     "text": [
      "x was assigned a value 10 inside the outer functiom\n",
      "value of x before entering inner func is 10\n",
      "x was assigned a value 15 inside the inner functiom\n",
      "value of x after exiting inner func is 10\n"
     ]
    }
   ],
   "source": [
    "fooOuter()"
   ]
  },
  {
   "cell_type": "markdown",
   "id": "7e04d044",
   "metadata": {},
   "source": [
    "# Global scope"
   ]
  },
  {
   "cell_type": "code",
   "execution_count": 79,
   "id": "33670875",
   "metadata": {},
   "outputs": [],
   "source": [
    "def myfunc():\n",
    "    global x\n",
    "    x = 30"
   ]
  },
  {
   "cell_type": "code",
   "execution_count": 80,
   "id": "7b01d4ac",
   "metadata": {},
   "outputs": [
    {
     "name": "stdout",
     "output_type": "stream",
     "text": [
      "30\n"
     ]
    }
   ],
   "source": [
    "myfunc()\n",
    "print(x)"
   ]
  },
  {
   "cell_type": "code",
   "execution_count": 107,
   "id": "43c02bad",
   "metadata": {},
   "outputs": [],
   "source": [
    "x = 5\n",
    "def fooOuter():\n",
    "    global x\n",
    "    x = 10\n",
    "    print(f'x was assigned a value {x} inside the outer function')\n",
    "    print(f'value of x before entering inner func is {x}')\n",
    "    def fooInner():\n",
    "        #print('x is no a non-local var')\n",
    "        x = 15\n",
    "        print(f'x was assigned a value {x} inside the inner function')\n",
    "    fooInner()\n",
    "    print(f'value of x after exiting inner func is {x}')"
   ]
  },
  {
   "cell_type": "code",
   "execution_count": 108,
   "id": "3f3db794",
   "metadata": {},
   "outputs": [
    {
     "name": "stdout",
     "output_type": "stream",
     "text": [
      "5\n",
      "x was assigned a value 10 inside the outer function\n",
      "value of x before entering inner func is 10\n",
      "x was assigned a value 15 inside the inner function\n",
      "value of x after exiting inner func is 10\n",
      "10\n"
     ]
    }
   ],
   "source": [
    "print(x)\n",
    "fooOuter()\n",
    "print(x)"
   ]
  },
  {
   "cell_type": "markdown",
   "id": "10c86553",
   "metadata": {},
   "source": [
    "# Namespace"
   ]
  },
  {
   "cell_type": "code",
   "execution_count": 88,
   "id": "0cf2ab92",
   "metadata": {},
   "outputs": [],
   "source": [
    "x = [1,2,3]\n",
    "def foo():\n",
    "    x.append(4)\n",
    "    print(x)"
   ]
  },
  {
   "cell_type": "code",
   "execution_count": 89,
   "id": "0bcc5614",
   "metadata": {},
   "outputs": [
    {
     "name": "stdout",
     "output_type": "stream",
     "text": [
      "[1, 2, 3, 4]\n"
     ]
    }
   ],
   "source": [
    "foo()"
   ]
  },
  {
   "cell_type": "code",
   "execution_count": 90,
   "id": "e4560d9b",
   "metadata": {},
   "outputs": [
    {
     "data": {
      "text/plain": [
       "[1, 2, 3, 4]"
      ]
     },
     "execution_count": 90,
     "metadata": {},
     "output_type": "execute_result"
    }
   ],
   "source": [
    "x"
   ]
  },
  {
   "cell_type": "code",
   "execution_count": 93,
   "id": "20b491ce",
   "metadata": {},
   "outputs": [],
   "source": [
    "x = ['apple','kiwi']\n",
    "def foo():\n",
    "    x.append('grape')\n",
    "    print(x)"
   ]
  },
  {
   "cell_type": "code",
   "execution_count": 94,
   "id": "2e0093ee",
   "metadata": {},
   "outputs": [
    {
     "name": "stdout",
     "output_type": "stream",
     "text": [
      "['apple', 'kiwi', 'grape']\n"
     ]
    }
   ],
   "source": [
    "foo()"
   ]
  },
  {
   "cell_type": "code",
   "execution_count": 110,
   "id": "8ad87e5e",
   "metadata": {},
   "outputs": [],
   "source": [
    "x = 'abc'\n",
    "def foo():\n",
    "    x.upper()\n",
    "    print(x)"
   ]
  },
  {
   "cell_type": "code",
   "execution_count": 111,
   "id": "c74aacdc",
   "metadata": {},
   "outputs": [
    {
     "name": "stdout",
     "output_type": "stream",
     "text": [
      "abc\n"
     ]
    }
   ],
   "source": [
    "foo()"
   ]
  },
  {
   "cell_type": "code",
   "execution_count": 114,
   "id": "169d52d9",
   "metadata": {},
   "outputs": [],
   "source": [
    "x = 'abc'                 # 1st x is a local variable\n",
    "def foo():                # 2nd x is a global variable\n",
    "    x = 'abc'\n",
    "    x = x.upper()\n",
    "    print(x)"
   ]
  },
  {
   "cell_type": "code",
   "execution_count": 115,
   "id": "92b30d88",
   "metadata": {},
   "outputs": [
    {
     "name": "stdout",
     "output_type": "stream",
     "text": [
      "ABC\n"
     ]
    }
   ],
   "source": [
    "foo()"
   ]
  },
  {
   "cell_type": "code",
   "execution_count": 119,
   "id": "2291f41a",
   "metadata": {},
   "outputs": [],
   "source": [
    "x = 'hi'\n",
    "def foo():\n",
    "    x = 'hi' # comment to see the error\n",
    "    x = x.title()\n",
    "    print(f'value of x within the func is {x}')"
   ]
  },
  {
   "cell_type": "code",
   "execution_count": 120,
   "id": "7fbf662c",
   "metadata": {},
   "outputs": [
    {
     "name": "stdout",
     "output_type": "stream",
     "text": [
      "value of x within the func is Hi\n",
      "hi\n"
     ]
    }
   ],
   "source": [
    "foo()\n",
    "print(x)"
   ]
  },
  {
   "cell_type": "code",
   "execution_count": null,
   "id": "9a7e1b18",
   "metadata": {},
   "outputs": [],
   "source": []
  }
 ],
 "metadata": {
  "kernelspec": {
   "display_name": "Python 3 (ipykernel)",
   "language": "python",
   "name": "python3"
  },
  "language_info": {
   "codemirror_mode": {
    "name": "ipython",
    "version": 3
   },
   "file_extension": ".py",
   "mimetype": "text/x-python",
   "name": "python",
   "nbconvert_exporter": "python",
   "pygments_lexer": "ipython3",
   "version": "3.11.4"
  }
 },
 "nbformat": 4,
 "nbformat_minor": 5
}
