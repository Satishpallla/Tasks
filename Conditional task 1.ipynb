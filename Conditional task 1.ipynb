{
 "cells": [
  {
   "cell_type": "markdown",
   "id": "9c42c219",
   "metadata": {},
   "source": [
    "1.Write a Python program that asks the user for their age and prints \"You are an adult\" if the age is 18 or older, otherwise prints \"You are a minor'."
   ]
  },
  {
   "cell_type": "code",
   "execution_count": null,
   "id": "31ac9843",
   "metadata": {},
   "outputs": [],
   "source": [
    "age = int(input(\"enter your age:\"))\n",
    "if age >= 18:\n",
    "    print(\"you are adult\")\n",
    "else:\n",
    "    print(\"you are minor\")"
   ]
  },
  {
   "cell_type": "markdown",
   "id": "60fdfb49",
   "metadata": {},
   "source": [
    "2.Write a program that takes a numerical grade (out of 100) as input and prints the corresponding letter grade according to the following scale:\n",
    " 90-100: A\n",
    " 80-89: B\n",
    " 70-79: C\n",
    " 60-69: D\n",
    " Below 60: F\n"
   ]
  },
  {
   "cell_type": "code",
   "execution_count": null,
   "id": "068b8b04",
   "metadata": {},
   "outputs": [],
   "source": [
    "marks = int(input(\"enter your marks:\"))\n",
    "if marks in range(90,100):\n",
    "    print(\"A grade\")\n",
    "elif marks in range(80,89):\n",
    "    print(\"B grade\")\n",
    "elif marks in range(70,79):\n",
    "    print(\"C grade\")\n",
    "elif marks in range(60,69):\n",
    "    print(\"D grade\")\n",
    "else:\n",
    "    print(\"fail\")"
   ]
  },
  {
   "cell_type": "markdown",
   "id": "b95ba4e7",
   "metadata": {},
   "source": [
    "4.Write a program that asks the user for three numbers and prints the maximum of the three."
   ]
  },
  {
   "cell_type": "code",
   "execution_count": null,
   "id": "21749c14",
   "metadata": {},
   "outputs": [],
   "source": [
    "number1 = int(input(\"enter first number:\"))\n",
    "number2 = int(input(\"enter second number:\"))\n",
    "number3 = int(input(\"enter third number:\"))\n",
    "maximum = max(number1,number2,number3)\n",
    "print(maximum)"
   ]
  },
  {
   "cell_type": "markdown",
   "id": "5bff33ec",
   "metadata": {},
   "source": [
    "5.Write a program that asks the user for a temperature (in Celsius) and prints \"It's freezing\" if the temperature is below 0, \"It's cool\" if it's between 0 and 10, \"It's warm\" if it's between 10 and 20, and \"It's hot\" if it's above 20"
   ]
  },
  {
   "cell_type": "code",
   "execution_count": null,
   "id": "502b8a17",
   "metadata": {},
   "outputs": [],
   "source": [
    "temperature = int(input(\"enter temperature:\"))\n",
    "if temperature < 0:\n",
    "    print(\"it is freezing\")\n",
    "elif temperature in range (0,10):\n",
    "    print(\"it is cool\")\n",
    "elif temperature in range (11,20):\n",
    "    print(\"it is warm\")\n",
    "else:\n",
    "    print(\"it is hot\")\n",
    "  "
   ]
  },
  {
   "cell_type": "markdown",
   "id": "66036a23",
   "metadata": {},
   "source": [
    "7.Write a program that asks the user for a number and prints \"In range\" if the number is between 10 and 20 (inclusive), and \"Out of range\" otherwise."
   ]
  },
  {
   "cell_type": "code",
   "execution_count": 29,
   "id": "96a229b7",
   "metadata": {},
   "outputs": [
    {
     "name": "stdout",
     "output_type": "stream",
     "text": [
      "enter number: 15\n",
      "in range\n"
     ]
    }
   ],
   "source": [
    "number = int (input(\"enter number: \"))\n",
    "if number in range (10,20):\n",
    "    print(\"in range\")\n",
    "else:\n",
    "    print(\"out of range\")"
   ]
  },
  {
   "cell_type": "markdown",
   "id": "e820a489",
   "metadata": {},
   "source": [
    "8.Write a program that asks the user for an integer and prints whether it's even or odd"
   ]
  },
  {
   "cell_type": "code",
   "execution_count": 18,
   "id": "628e8d8a",
   "metadata": {},
   "outputs": [
    {
     "name": "stdout",
     "output_type": "stream",
     "text": [
      "enter a number: 10\n",
      "even\n"
     ]
    }
   ],
   "source": [
    "num = int(input(\"enter a number: \"))\n",
    "if num %2 == 0:\n",
    "    print(\"even\")\n",
    "else:\n",
    "    print(\"odd\")"
   ]
  },
  {
   "cell_type": "markdown",
   "id": "b0134bbe",
   "metadata": {},
   "source": [
    "17.Write a program to check whether a person is eligible for voting or not  (voting age>=18)."
   ]
  },
  {
   "cell_type": "code",
   "execution_count": 6,
   "id": "56318648",
   "metadata": {},
   "outputs": [
    {
     "name": "stdout",
     "output_type": "stream",
     "text": [
      "enter voting age:20\n",
      "eligible to vote\n"
     ]
    }
   ],
   "source": [
    "age = int(input(\"enter voting age:\"))\n",
    "if age >= 18:\n",
    "    print(\"eligible to vote\")\n",
    "else:\n",
    "    print(\"not eligible to vote\")"
   ]
  },
  {
   "cell_type": "markdown",
   "id": "482c01b0",
   "metadata": {},
   "source": [
    "16.Accept any city from the user and display the momentum of the city \n",
    "Hyderabad  : “charminar”\n",
    "“Delhi”         : “red fort\n",
    "“Agra           : Taj mahal\n",
    "If the city name is not given correctly, give him a warning message.\n"
   ]
  },
  {
   "cell_type": "code",
   "execution_count": 17,
   "id": "49a51d08",
   "metadata": {},
   "outputs": [
    {
     "name": "stdout",
     "output_type": "stream",
     "text": [
      "enter city names: kakinada\n",
      "enter wrong city name\n"
     ]
    }
   ],
   "source": [
    "city = input(\"enter city names: \")\n",
    "if city == \"Hyderabad\":\n",
    "    print(\"charminar\")\n",
    "elif city == \"Delhi\":\n",
    "    print(\"red fort\")\n",
    "elif city == \"Agra\":\n",
    "    print(\"taj mahal\")\n",
    "else:\n",
    "    print(\"enter wrong city name\")"
   ]
  },
  {
   "cell_type": "markdown",
   "id": "492c99ed",
   "metadata": {},
   "source": [
    "11.Create a dynamic calculator which asks for numbers and operator and return the answers,\n",
    "             Example\n",
    "    Input: Type first number: 10\",\n",
    "    Type any of this (+, -, *, /, %, **): ,*\n",
    "    Assignment-2 ,\n",
    "   Type second number: 19,\n",
    "    Output:Answer is 190"
   ]
  },
  {
   "cell_type": "code",
   "execution_count": 27,
   "id": "53140b61",
   "metadata": {},
   "outputs": [
    {
     "name": "stdout",
     "output_type": "stream",
     "text": [
      "enter first number: 10\n",
      "enter any of this (+,-,*,/,//,%,**)*\n",
      "enter second number: 10\n",
      "answer is 100\n"
     ]
    }
   ],
   "source": [
    "num1 = int(input(\"enter first number: \"))\n",
    "operator = input(\"enter any of this (+,-,*,/,//,%,**)\")\n",
    "num2 = int(input(\"enter second number: \"))\n",
    "def calculate(num1,operator,num2):\n",
    "    if operator == '+':\n",
    "        return(num1 + num2)\n",
    "    elif operator == '-':\n",
    "        return(num1 - num2)\n",
    "    elif operator == '*':\n",
    "        return(num1 * num2)\n",
    "    elif operator == '/':\n",
    "        return(num1 / num2)\n",
    "    elif operator == '//':\n",
    "        return(num1 // num2)\n",
    "    elif operator == '%':\n",
    "        return(num1 % num2)\n",
    "    elif operator == '**':\n",
    "        return(num1 ** num2)\n",
    "    else:\n",
    "        return(\"invalid\")\n",
    "result = calculate(num1,operator,num2)\n",
    "print(\"answer is\",result)\n",
    "     "
   ]
  },
  {
   "cell_type": "code",
   "execution_count": null,
   "id": "6928b180",
   "metadata": {},
   "outputs": [],
   "source": []
  },
  {
   "cell_type": "code",
   "execution_count": null,
   "id": "426f88d5",
   "metadata": {},
   "outputs": [],
   "source": []
  }
 ],
 "metadata": {
  "kernelspec": {
   "display_name": "Python 3 (ipykernel)",
   "language": "python",
   "name": "python3"
  },
  "language_info": {
   "codemirror_mode": {
    "name": "ipython",
    "version": 3
   },
   "file_extension": ".py",
   "mimetype": "text/x-python",
   "name": "python",
   "nbconvert_exporter": "python",
   "pygments_lexer": "ipython3",
   "version": "3.11.4"
  }
 },
 "nbformat": 4,
 "nbformat_minor": 5
}
