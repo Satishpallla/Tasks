{
 "cells": [
  {
   "cell_type": "markdown",
   "id": "025da662",
   "metadata": {},
   "source": [
    "# FLOW CONTROL"
   ]
  },
  {
   "cell_type": "markdown",
   "id": "8200f9fb",
   "metadata": {},
   "source": [
    "1 Conditional Statements : if,elif,else\n",
    "      \n",
    "2 Using loops/iterative statements : for,while\n",
    "    \n",
    "3 Transfer statements : break,continue,pass    "
   ]
  },
  {
   "cell_type": "markdown",
   "id": "84c3fbec",
   "metadata": {},
   "source": [
    "# CONDITIONAL STATEMENTS"
   ]
  },
  {
   "cell_type": "markdown",
   "id": "17fc3281",
   "metadata": {},
   "source": [
    "1.if\n",
    "\n",
    "2.elif\n",
    "\n",
    "3.else"
   ]
  },
  {
   "cell_type": "markdown",
   "id": "6a78fa5f",
   "metadata": {},
   "source": [
    "1.if condition : satisfy\n",
    "\n",
    "    #code (decision)\n",
    "    \n",
    "2.elif condition : satisfy\n",
    "\n",
    "    #code (decision)\n",
    "    \n",
    "3.else : satify\n",
    "\n",
    "    #code (decision)"
   ]
  },
  {
   "cell_type": "code",
   "execution_count": 1,
   "id": "35e66752",
   "metadata": {},
   "outputs": [],
   "source": [
    "# if you prepare well,you will get good job\n",
    "# if user input is yes then \"you will get a good job\",Otherwise prepare well"
   ]
  },
  {
   "cell_type": "code",
   "execution_count": 7,
   "id": "cad84285",
   "metadata": {},
   "outputs": [
    {
     "data": {
      "text/plain": [
       "False"
      ]
     },
     "execution_count": 7,
     "metadata": {},
     "output_type": "execute_result"
    }
   ],
   "source": [
    "'no' == 'yes'"
   ]
  },
  {
   "cell_type": "code",
   "execution_count": 8,
   "id": "7fd753ce",
   "metadata": {},
   "outputs": [
    {
     "data": {
      "text/plain": [
       "True"
      ]
     },
     "execution_count": 8,
     "metadata": {},
     "output_type": "execute_result"
    }
   ],
   "source": [
    "'yes' == 'yes'"
   ]
  },
  {
   "cell_type": "code",
   "execution_count": 10,
   "id": "0aee2676",
   "metadata": {},
   "outputs": [
    {
     "name": "stdout",
     "output_type": "stream",
     "text": [
      "Are you preparing well : Yes\n",
      "You will get a good job\n"
     ]
    }
   ],
   "source": [
    "prep = input(\"Are you preparing well : \" )\n",
    "\n",
    "if prep==\"Yes\":\n",
    "    print(\"You will get a good job\")\n",
    "else:\n",
    "    print(\"Prepare well\")"
   ]
  },
  {
   "cell_type": "code",
   "execution_count": 16,
   "id": "bf9321d2",
   "metadata": {},
   "outputs": [
    {
     "name": "stdout",
     "output_type": "stream",
     "text": [
      "b is greater\n"
     ]
    }
   ],
   "source": [
    "a = 100\n",
    "b = 200\n",
    "if a > b:\n",
    "    print(\"a is greater\")\n",
    "else:    \n",
    "    print(\"b is greater\")"
   ]
  },
  {
   "cell_type": "code",
   "execution_count": 18,
   "id": "d0ba8ef4",
   "metadata": {},
   "outputs": [
    {
     "name": "stdout",
     "output_type": "stream",
     "text": [
      "a is greater\n"
     ]
    }
   ],
   "source": [
    "a = 250\n",
    "b = 200\n",
    "if a > b:\n",
    "    print(\"a is greater\")\n",
    "else:\n",
    "    print(\"b is greater\")\n"
   ]
  },
  {
   "cell_type": "code",
   "execution_count": 19,
   "id": "6265d193",
   "metadata": {},
   "outputs": [
    {
     "name": "stdout",
     "output_type": "stream",
     "text": [
      "Enter a number : 45\n",
      "Enter a another number : 56\n",
      "num2 is greater\n"
     ]
    }
   ],
   "source": [
    "num1 =int(input(\"Enter a number : \"))\n",
    "num2 =int(input(\"Enter a another number : \"))\n",
    "\n",
    "if num1>num2:\n",
    "    print('num1 is greater')\n",
    "else: \n",
    "    print('num2 is greater')\n"
   ]
  },
  {
   "cell_type": "code",
   "execution_count": 20,
   "id": "65953c64",
   "metadata": {},
   "outputs": [
    {
     "name": "stdout",
     "output_type": "stream",
     "text": [
      "Enter your mail ID: rk@gmail.com\n",
      "It is valid mail ID\n"
     ]
    }
   ],
   "source": [
    "mail = input(\"Enter your mail ID: \")\n",
    "if mail.endswith(\"@gmail.com\"):\n",
    "    print(\"It is valid mail ID\")\n",
    "else:\n",
    "    print(\"Invalid mail ID\")"
   ]
  },
  {
   "cell_type": "code",
   "execution_count": 21,
   "id": "5e931edb",
   "metadata": {},
   "outputs": [
    {
     "data": {
      "text/plain": [
       "'rk@gmail.com'"
      ]
     },
     "execution_count": 21,
     "metadata": {},
     "output_type": "execute_result"
    }
   ],
   "source": [
    "mail"
   ]
  },
  {
   "cell_type": "code",
   "execution_count": 1,
   "id": "3d00ba89",
   "metadata": {},
   "outputs": [],
   "source": [
    "num = 4"
   ]
  },
  {
   "cell_type": "code",
   "execution_count": 2,
   "id": "c4e09321",
   "metadata": {},
   "outputs": [
    {
     "data": {
      "text/plain": [
       "True"
      ]
     },
     "execution_count": 2,
     "metadata": {},
     "output_type": "execute_result"
    }
   ],
   "source": [
    "num % 2 == 0"
   ]
  },
  {
   "cell_type": "markdown",
   "id": "f4c2b481",
   "metadata": {},
   "source": [
    "1.Basic if statement"
   ]
  },
  {
   "cell_type": "code",
   "execution_count": 5,
   "id": "ca870cfc",
   "metadata": {},
   "outputs": [
    {
     "name": "stdout",
     "output_type": "stream",
     "text": [
      "enter your age18\n",
      "you are an adult\n"
     ]
    }
   ],
   "source": [
    "age = int(input(\"enter your age\"))\n",
    "\n",
    "if age >= 18:\n",
    "    print(\"you are an adult\")\n",
    "    "
   ]
  },
  {
   "cell_type": "markdown",
   "id": "945085a1",
   "metadata": {},
   "source": [
    "2.with if-else"
   ]
  },
  {
   "cell_type": "code",
   "execution_count": 4,
   "id": "a36dbbc9",
   "metadata": {},
   "outputs": [
    {
     "name": "stdout",
     "output_type": "stream",
     "text": [
      "enter your age:: 13\n",
      "you are teenager\n"
     ]
    }
   ],
   "source": [
    "age =int(input(\"enter your age:: \"))\n",
    "\n",
    "if age >= 18:\n",
    "    print(\"you are adult\")\n",
    "else:\n",
    "    print(\"you are teenager\")"
   ]
  },
  {
   "cell_type": "code",
   "execution_count": 9,
   "id": "65996257",
   "metadata": {},
   "outputs": [
    {
     "name": "stdout",
     "output_type": "stream",
     "text": [
      "enter your age:: -100\n",
      "enter valid age\n"
     ]
    }
   ],
   "source": [
    "age = int(input(\"enter your age:: \"))\n",
    "\n",
    "if age >= 18:\n",
    "    print(\"you are adult\")\n",
    "elif age <= 0:\n",
    "    print(\"enter valid age\")\n",
    "else:\n",
    "    print(\"you are teenager\")\n"
   ]
  },
  {
   "cell_type": "markdown",
   "id": "9ac163c6",
   "metadata": {},
   "source": [
    "Ask user to enter temperature..if temp > 30 then say it is hot otherwise sayit is cool"
   ]
  },
  {
   "cell_type": "code",
   "execution_count": 13,
   "id": "86a4b1b1",
   "metadata": {},
   "outputs": [
    {
     "name": "stdout",
     "output_type": "stream",
     "text": [
      "enter temperature:: 40\n",
      "it is too hot\n"
     ]
    }
   ],
   "source": [
    "temp = int(input(\"enter temperature:: \"))\n",
    "\n",
    "if temp > 30:\n",
    "    print(\"it is too hot\")\n",
    "else:\n",
    "    print(\"it is cool\")"
   ]
  },
  {
   "cell_type": "markdown",
   "id": "3f468fd6",
   "metadata": {},
   "source": [
    "# GRADE CALCULATOR"
   ]
  },
  {
   "cell_type": "code",
   "execution_count": null,
   "id": "e3c449a5",
   "metadata": {},
   "outputs": [],
   "source": [
    "Criteria :\n",
    "1.if marks between 85-100 then \"A\" grade\n",
    "2.if marks between 65-85 then \"B\" grade\n",
    "3.if marks between 50-65 then \"C\" grade\n",
    "4.if marks between 35-50 then \"D\" grade\n",
    "5.if marks between less than 35 \"Fail\""
   ]
  },
  {
   "cell_type": "code",
   "execution_count": null,
   "id": "13c2c442",
   "metadata": {},
   "outputs": [],
   "source": [
    "marks >= 85 and marks <= 100 -\"A\"\n",
    "marks >= 65 and marks < 85 -\"B\"\n",
    "marks >= 50 and marks < 65 -\"C\"\n",
    "marks >= 35 and marks <50 -\"D\"\n",
    "marks < 35 -\"Fail\""
   ]
  },
  {
   "cell_type": "code",
   "execution_count": 3,
   "id": "af4daeed",
   "metadata": {},
   "outputs": [
    {
     "name": "stdout",
     "output_type": "stream",
     "text": [
      "enter your marks:: 90\n",
      "A grade\n"
     ]
    }
   ],
   "source": [
    "marks = int(input(\"enter your marks:: \"))\n",
    "\n",
    "if(marks >= 85) and (marks <= 100):\n",
    "    print(\"A grade\")\n",
    "elif(marks >= 65) and (marks < 85):\n",
    "    print(\"B grade\")\n",
    "elif(marks >= 50) and (marks < 65):\n",
    "    print(\"C grade\")\n",
    "elif(marks >= 35) and (marks <50):\n",
    "    print(\"D grade\")\n",
    "elif(marks < 100) or (marks > 0):\n",
    "    print(\"enter valid marks\")\n",
    "else:\n",
    "    print(\"Fail\")"
   ]
  },
  {
   "cell_type": "code",
   "execution_count": 4,
   "id": "027b61cb",
   "metadata": {},
   "outputs": [],
   "source": [
    "batch = [\"satish\",\"mansoor\",\"suresh\",\"ramesh\",\"sunil\",\"rajesh\",\"santhosh\"]"
   ]
  },
  {
   "cell_type": "code",
   "execution_count": 5,
   "id": "432cf75e",
   "metadata": {},
   "outputs": [
    {
     "data": {
      "text/plain": [
       "list"
      ]
     },
     "execution_count": 5,
     "metadata": {},
     "output_type": "execute_result"
    }
   ],
   "source": [
    "type(batch)"
   ]
  },
  {
   "cell_type": "code",
   "execution_count": 6,
   "id": "54521c9f",
   "metadata": {},
   "outputs": [
    {
     "data": {
      "text/plain": [
       "False"
      ]
     },
     "execution_count": 6,
     "metadata": {},
     "output_type": "execute_result"
    }
   ],
   "source": [
    "\"nani\" in batch"
   ]
  },
  {
   "cell_type": "code",
   "execution_count": 7,
   "id": "9ad63076",
   "metadata": {},
   "outputs": [
    {
     "data": {
      "text/plain": [
       "True"
      ]
     },
     "execution_count": 7,
     "metadata": {},
     "output_type": "execute_result"
    }
   ],
   "source": [
    "\"satish\" in batch"
   ]
  },
  {
   "cell_type": "code",
   "execution_count": 9,
   "id": "bb584885",
   "metadata": {},
   "outputs": [
    {
     "name": "stdout",
     "output_type": "stream",
     "text": [
      "he attended class\n"
     ]
    }
   ],
   "source": [
    "if \"satish\" in batch:\n",
    "    print(\"he attended class\")\n",
    "else:\n",
    "    print(\"he not attended class\")\n",
    "    "
   ]
  },
  {
   "cell_type": "markdown",
   "id": "df0c0a9d",
   "metadata": {},
   "source": [
    "# Website login"
   ]
  },
  {
   "cell_type": "markdown",
   "id": "ded39a95",
   "metadata": {},
   "source": [
    "Signup/Register"
   ]
  },
  {
   "cell_type": "code",
   "execution_count": 1,
   "id": "4ae023c4",
   "metadata": {},
   "outputs": [
    {
     "name": "stdout",
     "output_type": "stream",
     "text": [
      "Enter your mail ID:: rk@gmail.com\n",
      "Enter your password: rk@123\n",
      "Enter mobilr number: 9542334476\n"
     ]
    }
   ],
   "source": [
    "mail = input(\"Enter your mail ID:: \")\n",
    "pas = input(\"Enter your password: \")\n",
    "mobile = int(input(\"Enter mobilr number: \"))\n"
   ]
  },
  {
   "cell_type": "markdown",
   "id": "99adf190",
   "metadata": {},
   "source": [
    "login/signin"
   ]
  },
  {
   "cell_type": "code",
   "execution_count": 2,
   "id": "6b1a4d76",
   "metadata": {},
   "outputs": [
    {
     "name": "stdout",
     "output_type": "stream",
     "text": [
      "Enter your mailID to login:: rk@gmail.com\n",
      "Enter your password: rk@123\n",
      "login successfully\n"
     ]
    }
   ],
   "source": [
    "mailID = input(\"Enter your mailID to login:: \")\n",
    "password = input(\"Enter your password: \")\n",
    "\n",
    "if (mail == mailID) and (pas == password):\n",
    "    print(\"login successfully\")\n",
    "else:\n",
    "    print(\"invalid credentials\")"
   ]
  },
  {
   "cell_type": "markdown",
   "id": "4b9e8635",
   "metadata": {},
   "source": [
    "# Ternary Operator"
   ]
  },
  {
   "cell_type": "code",
   "execution_count": 1,
   "id": "1001e296",
   "metadata": {},
   "outputs": [
    {
     "name": "stdout",
     "output_type": "stream",
     "text": [
      "Enter temperature: 34\n",
      "it is hot\n"
     ]
    }
   ],
   "source": [
    "temp = int (input(\"Enter temperature: \"))\n",
    "\n",
    "if temp > 30:\n",
    "    print(\"it is hot\")\n",
    "else:\n",
    "    print(\"it is cool\")"
   ]
  },
  {
   "cell_type": "code",
   "execution_count": null,
   "id": "8289a5b3",
   "metadata": {},
   "outputs": [],
   "source": [
    "x  =  firstvalue   if condition   else   secondvalue"
   ]
  },
  {
   "cell_type": "code",
   "execution_count": 2,
   "id": "e28c2d92",
   "metadata": {},
   "outputs": [
    {
     "name": "stdout",
     "output_type": "stream",
     "text": [
      "Enter temperature: 65\n",
      "it is hot\n"
     ]
    }
   ],
   "source": [
    "temp = int (input(\"Enter temperature: \"))\n",
    "\n",
    "x  =  \"it is hot\"   if (temp>30)    else    \"it is cool\" \n",
    "print(x)"
   ]
  },
  {
   "cell_type": "code",
   "execution_count": 5,
   "id": "05e504f7",
   "metadata": {},
   "outputs": [
    {
     "name": "stdout",
     "output_type": "stream",
     "text": [
      "Enter a number: 9\n"
     ]
    },
    {
     "data": {
      "text/plain": [
       "'Odd'"
      ]
     },
     "execution_count": 5,
     "metadata": {},
     "output_type": "execute_result"
    }
   ],
   "source": [
    "num = int(input(\"Enter a number: \"))\n",
    "\n",
    "\"Even\"  if (num % 2 == 0) else \"Odd\""
   ]
  },
  {
   "cell_type": "markdown",
   "id": "56bf0847",
   "metadata": {},
   "source": [
    "# Tax Calculator"
   ]
  },
  {
   "cell_type": "markdown",
   "id": "1ec6a8b6",
   "metadata": {},
   "source": [
    "income ="
   ]
  },
  {
   "cell_type": "code",
   "execution_count": null,
   "id": "d501d1bb",
   "metadata": {},
   "outputs": [],
   "source": [
    "Rs 0 to Rs 3 lakhs - 0% \n",
    "Rs 3 to Rs 6 lakhs - 5%\n",
    "Rs 6 to Rs 9 lakhs- 10%\n",
    "Rs 9 to Rs 12 lakhs - 15%\n",
    "Rs 12 to Rs 15 lakhs - 20%\n",
    "above Rs 15 lakhs - 30%"
   ]
  },
  {
   "cell_type": "code",
   "execution_count": 3,
   "id": "8995cc09",
   "metadata": {},
   "outputs": [
    {
     "name": "stdout",
     "output_type": "stream",
     "text": [
      "enter annual income(lakhs): 3.5\n"
     ]
    }
   ],
   "source": [
    "income = float(input(\"enter annual income(lakhs): \"))"
   ]
  },
  {
   "cell_type": "code",
   "execution_count": 8,
   "id": "8fbf1e87",
   "metadata": {},
   "outputs": [
    {
     "name": "stdout",
     "output_type": "stream",
     "text": [
      "enter annual income(lakhs): 12\n",
      "0.15% tax\n"
     ]
    }
   ],
   "source": [
    "income = float(input(\"enter annual income(lakhs): \"))\n",
    "\n",
    "if (income <= 3) and (income > 0):\n",
    "    print(\"no tax\")\n",
    "elif (income <= 6) and (income > 3):\n",
    "    print(\"0.05% tax\")\n",
    "elif(income <= 9) and (income > 6):\n",
    "    print(\"0.10% tax\")\n",
    "elif(income <= 12) and (income > 9):\n",
    "    print(\"0.15% tax\")\n",
    "elif(income <= 15) and (income > 12):\n",
    "    print(\"0.20% tax\")\n",
    "elif(income < 0):\n",
    "    print(\"enter valid number\")\n",
    "else:\n",
    "    print(\"0.30\")\n",
    "    \n",
    "    "
   ]
  },
  {
   "cell_type": "markdown",
   "id": "50c6a6d6",
   "metadata": {},
   "source": [
    "# Nested if"
   ]
  },
  {
   "cell_type": "markdown",
   "id": "e3e6ae3a",
   "metadata": {},
   "source": [
    "if inside if"
   ]
  },
  {
   "cell_type": "markdown",
   "id": "fa811743",
   "metadata": {},
   "source": [
    "## Ticket vendor machine"
   ]
  },
  {
   "cell_type": "code",
   "execution_count": null,
   "id": "e2800149",
   "metadata": {},
   "outputs": [],
   "source": [
    "a < 10 - free-if \"girl\" chocolate\n",
    "\n",
    "a > 10 - 50"
   ]
  },
  {
   "cell_type": "code",
   "execution_count": 13,
   "id": "27954366",
   "metadata": {},
   "outputs": [
    {
     "name": "stdout",
     "output_type": "stream",
     "text": [
      "enter your age: 9\n",
      "what is your gender girl or boy: boy\n",
      "pay 50 rupees\n"
     ]
    }
   ],
   "source": [
    "age = int(input(\"enter your age: \"))\n",
    "\n",
    "if age < 10:\n",
    "    \n",
    "    gender =input(\"what is your gender girl or boy: \")\n",
    "    \n",
    "if gender == \"girl\":\n",
    "    print(\"take a chocolate\")\n",
    "else:\n",
    "    print(\"pay 50 rupees\")"
   ]
  },
  {
   "cell_type": "markdown",
   "id": "868b2e9e",
   "metadata": {},
   "source": [
    "## first method"
   ]
  },
  {
   "cell_type": "code",
   "execution_count": 17,
   "id": "3fda98c6",
   "metadata": {},
   "outputs": [
    {
     "name": "stdout",
     "output_type": "stream",
     "text": [
      "enter a number: 10\n",
      "even\n"
     ]
    }
   ],
   "source": [
    "num = int(input(\"enter a number: \"))\n",
    "if num % 2 == 0:\n",
    "    print(\"even\")\n",
    "else:\n",
    "    print(\"odd\")"
   ]
  },
  {
   "cell_type": "markdown",
   "id": "f378f809",
   "metadata": {},
   "source": [
    "## second method"
   ]
  },
  {
   "cell_type": "code",
   "execution_count": 22,
   "id": "c42165a5",
   "metadata": {},
   "outputs": [
    {
     "name": "stdout",
     "output_type": "stream",
     "text": [
      "enter a number: 10\n"
     ]
    },
    {
     "data": {
      "text/plain": [
       "'even'"
      ]
     },
     "execution_count": 22,
     "metadata": {},
     "output_type": "execute_result"
    }
   ],
   "source": [
    "num = int(input(\"enter a number: \"))\n",
    "\"even\"  if (num % 2) == 0  else \"odd\""
   ]
  },
  {
   "cell_type": "markdown",
   "id": "32f7b727",
   "metadata": {},
   "source": [
    "## third method"
   ]
  },
  {
   "cell_type": "code",
   "execution_count": 27,
   "id": "bcefc977",
   "metadata": {},
   "outputs": [
    {
     "name": "stdout",
     "output_type": "stream",
     "text": [
      "enter a number: 10\n"
     ]
    },
    {
     "data": {
      "text/plain": [
       "'even'"
      ]
     },
     "execution_count": 27,
     "metadata": {},
     "output_type": "execute_result"
    }
   ],
   "source": [
    "num = int(input(\"enter a number: \"))\n",
    "(\"odd\",\"even\") [num % 2 == 0]"
   ]
  },
  {
   "cell_type": "code",
   "execution_count": null,
   "id": "4fc4cbd3",
   "metadata": {},
   "outputs": [],
   "source": []
  }
 ],
 "metadata": {
  "kernelspec": {
   "display_name": "Python 3 (ipykernel)",
   "language": "python",
   "name": "python3"
  },
  "language_info": {
   "codemirror_mode": {
    "name": "ipython",
    "version": 3
   },
   "file_extension": ".py",
   "mimetype": "text/x-python",
   "name": "python",
   "nbconvert_exporter": "python",
   "pygments_lexer": "ipython3",
   "version": "3.11.4"
  }
 },
 "nbformat": 4,
 "nbformat_minor": 5
}
